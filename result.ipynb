{
 "cells": [
  {
   "cell_type": "code",
   "execution_count": 1,
   "metadata": {},
   "outputs": [
    {
     "ename": "ImportError",
     "evalue": "cannot import name 'evaluate_model' from 'src.ft_transformer' (c:\\Users\\ShiShiuan\\Desktop\\機器學習與人工智慧實作\\src\\ft_transformer.py)",
     "output_type": "error",
     "traceback": [
      "\u001b[1;31m---------------------------------------------------------------------------\u001b[0m",
      "\u001b[1;31mImportError\u001b[0m                               Traceback (most recent call last)",
      "\u001b[1;32mc:\\Users\\ShiShiuan\\Desktop\\機器學習與人工智慧實作\\result.ipynb Cell 1\u001b[0m line \u001b[0;36m3\n\u001b[0;32m      <a href='vscode-notebook-cell://ssh-remote%2B140.119.19.165/c%3A/Users/ShiShiuan/Desktop/%E6%A9%9F%E5%99%A8%E5%AD%B8%E7%BF%92%E8%88%87%E4%BA%BA%E5%B7%A5%E6%99%BA%E6%85%A7%E5%AF%A6%E4%BD%9C/result.ipynb#W1sdnNjb2RlLXJlbW90ZQ%3D%3D?line=0'>1</a>\u001b[0m \u001b[39mimport\u001b[39;00m\u001b[39m \u001b[39m\u001b[39mos\u001b[39;00m\n\u001b[0;32m      <a href='vscode-notebook-cell://ssh-remote%2B140.119.19.165/c%3A/Users/ShiShiuan/Desktop/%E6%A9%9F%E5%99%A8%E5%AD%B8%E7%BF%92%E8%88%87%E4%BA%BA%E5%B7%A5%E6%99%BA%E6%85%A7%E5%AF%A6%E4%BD%9C/result.ipynb#W1sdnNjb2RlLXJlbW90ZQ%3D%3D?line=1'>2</a>\u001b[0m \u001b[39mimport\u001b[39;00m\u001b[39m \u001b[39m\u001b[39mtorch\u001b[39;00m\n\u001b[1;32m----> <a href='vscode-notebook-cell://ssh-remote%2B140.119.19.165/c%3A/Users/ShiShiuan/Desktop/%E6%A9%9F%E5%99%A8%E5%AD%B8%E7%BF%92%E8%88%87%E4%BA%BA%E5%B7%A5%E6%99%BA%E6%85%A7%E5%AF%A6%E4%BD%9C/result.ipynb#W1sdnNjb2RlLXJlbW90ZQ%3D%3D?line=2'>3</a>\u001b[0m \u001b[39mfrom\u001b[39;00m\u001b[39m \u001b[39m\u001b[39msrc\u001b[39;00m\u001b[39m.\u001b[39;00m\u001b[39mft_transformer\u001b[39;00m\u001b[39m \u001b[39m\u001b[39mimport\u001b[39;00m evaluate_model\n\u001b[0;32m      <a href='vscode-notebook-cell://ssh-remote%2B140.119.19.165/c%3A/Users/ShiShiuan/Desktop/%E6%A9%9F%E5%99%A8%E5%AD%B8%E7%BF%92%E8%88%87%E4%BA%BA%E5%B7%A5%E6%99%BA%E6%85%A7%E5%AF%A6%E4%BD%9C/result.ipynb#W1sdnNjb2RlLXJlbW90ZQ%3D%3D?line=4'>5</a>\u001b[0m \u001b[39m# 設定models資料夾路徑\u001b[39;00m\n\u001b[0;32m      <a href='vscode-notebook-cell://ssh-remote%2B140.119.19.165/c%3A/Users/ShiShiuan/Desktop/%E6%A9%9F%E5%99%A8%E5%AD%B8%E7%BF%92%E8%88%87%E4%BA%BA%E5%B7%A5%E6%99%BA%E6%85%A7%E5%AF%A6%E4%BD%9C/result.ipynb#W1sdnNjb2RlLXJlbW90ZQ%3D%3D?line=5'>6</a>\u001b[0m models_dir \u001b[39m=\u001b[39m \u001b[39m'\u001b[39m\u001b[39mmodels\u001b[39m\u001b[39m'\u001b[39m\n",
      "\u001b[1;31mImportError\u001b[0m: cannot import name 'evaluate_model' from 'src.ft_transformer' (c:\\Users\\ShiShiuan\\Desktop\\機器學習與人工智慧實作\\src\\ft_transformer.py)"
     ]
    }
   ],
   "source": []
  }
 ],
 "metadata": {
  "language_info": {
   "name": "python"
  }
 },
 "nbformat": 4,
 "nbformat_minor": 2
}
