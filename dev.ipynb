{
 "cells": [
  {
   "cell_type": "code",
   "execution_count": null,
   "id": "eea1603e",
   "metadata": {},
   "outputs": [
    {
     "name": "stderr",
     "output_type": "stream",
     "text": [
      "c:\\Users\\ShiShiuan\\Desktop\\機器學習與人工智慧實作\\venv\\lib\\site-packages\\tqdm\\auto.py:21: TqdmWarning: IProgress not found. Please update jupyter and ipywidgets. See https://ipywidgets.readthedocs.io/en/stable/user_install.html\n",
      "  from .autonotebook import tqdm as notebook_tqdm\n"
     ]
    }
   ],
   "source": [
    "from src.ft_transformer import CustomerFTTransformer\n",
    "from s"
   ]
  },
  {
   "cell_type": "markdown",
   "id": "9107791c",
   "metadata": {},
   "source": [
    "# Use Original Data"
   ]
  },
  {
   "cell_type": "code",
   "execution_count": 2,
   "id": "a708f23b",
   "metadata": {},
   "outputs": [
    {
     "name": "stdout",
     "output_type": "stream",
     "text": [
      "Encoded gender: [0, 1]\n",
      "Encoded primary_diagnosis: [0, 1, 2, 3, 4]\n",
      "Encoded discharge_to: [0, 1, 2, 3]\n",
      "=== Feature Encoding Complete ===\n",
      "Numerical features: ['age', 'num_procedures', 'days_in_hospital', 'comorbidity_score']\n",
      "Categorical features (encoded): ['gender', 'primary_diagnosis', 'discharge_to']\n",
      "\n",
      "Sample of encoded data:\n",
      "  gender primary_diagnosis discharge_to\n",
      "0      1                 2            1\n",
      "1      0                 0            2\n",
      "2      1                 1            0\n",
      "3      1                 0            3\n",
      "4      1                 1            2\n",
      "=== PREPROCESS DEBUG INFO ===\n",
      "Before sampling - Training set size: 4000\n",
      "Before sampling - Class distribution: {0: 3234, 1: 766}\n",
      "Before sampling - X_num_train shape: (4000, 4)\n",
      "Before sampling - X_cat_train shape: (4000, 3)\n",
      "📝 No sampling method applied\n",
      "train_df_train_csv shape after DataFrame creation: (4000, 8)\n"
     ]
    },
    {
     "name": "stderr",
     "output_type": "stream",
     "text": [
      "100%|██████████| 3/3 [00:00<?, ?it/s]"
     ]
    },
    {
     "name": "stdout",
     "output_type": "stream",
     "text": [
      "Final train_df_train_csv_processed shape: (4000, 7)\n",
      "Final test_df_train_csv_processed shape: (1000, 7)\n",
      "=== END PREPROCESS DEBUG ===\n",
      "categorical features (cols): ['cat_0', 'cat_1', 'cat_2']\n",
      "categorical features (array): 3\n",
      "numerical features (cols): ['num_0', 'num_1', 'num_2', 'num_3']\n",
      "numerical features (array): 4\n"
     ]
    },
    {
     "name": "stderr",
     "output_type": "stream",
     "text": [
      "\n",
      "c:\\Users\\ShiShiuan\\Desktop\\機器學習與人工智慧實作\\venv\\lib\\site-packages\\sklearn\\pipeline.py:62: FutureWarning: This Pipeline instance is not fitted yet. Call 'fit' with appropriate arguments before using other methods such as transform, predict, etc. This will raise an error in 1.8 instead of the current warning.\n",
      "  warnings.warn(\n",
      "c:\\Users\\ShiShiuan\\Desktop\\機器學習與人工智慧實作\\venv\\lib\\site-packages\\sklearn\\pipeline.py:62: FutureWarning: This Pipeline instance is not fitted yet. Call 'fit' with appropriate arguments before using other methods such as transform, predict, etc. This will raise an error in 1.8 instead of the current warning.\n",
      "  warnings.warn(\n",
      "c:\\Users\\ShiShiuan\\Desktop\\機器學習與人工智慧實作\\venv\\lib\\site-packages\\sklearn\\pipeline.py:62: FutureWarning: This Pipeline instance is not fitted yet. Call 'fit' with appropriate arguments before using other methods such as transform, predict, etc. This will raise an error in 1.8 instead of the current warning.\n",
      "  warnings.warn(\n",
      "c:\\Users\\ShiShiuan\\Desktop\\機器學習與人工智慧實作\\venv\\lib\\site-packages\\sklearn\\pipeline.py:62: FutureWarning: This Pipeline instance is not fitted yet. Call 'fit' with appropriate arguments before using other methods such as transform, predict, etc. This will raise an error in 1.8 instead of the current warning.\n",
      "  warnings.warn(\n"
     ]
    }
   ],
   "source": [
    "ft_transformer = CustomerFTTransformer()\n",
    "ft_transformer.format_dataframe()\n",
    "ft_transformer.preprocess(use_smote=False)\n",
    "ft_transformer.set_feautres_processed()\n",
    "ft_transformer.set_tablar_dataset()\n",
    "ft_transformer.set_model_config()"
   ]
  },
  {
   "cell_type": "code",
   "execution_count": 3,
   "id": "dee6f854",
   "metadata": {},
   "outputs": [
    {
     "name": "stdout",
     "output_type": "stream",
     "text": [
      "=== Class Distribution Analysis ===\n",
      "Class distribution:\n",
      "  Class 0: 3234 samples (80.85%)\n",
      "  Class 1: 766 samples (19.15%)\n",
      "Imbalance ratio: 4.22\n",
      "⚠️  Dataset is imbalanced.\n"
     ]
    },
    {
     "data": {
      "text/plain": [
       "(target\n",
       " 0    3234\n",
       " 1     766\n",
       " Name: count, dtype: int64,\n",
       " 4.221932114882507)"
      ]
     },
     "execution_count": 3,
     "metadata": {},
     "output_type": "execute_result"
    }
   ],
   "source": [
    "ft_transformer.check_class_distribution(ft_transformer.train_df_train_csv_processed, 'target')"
   ]
  },
  {
   "cell_type": "code",
   "execution_count": 4,
   "id": "04c7386f",
   "metadata": {},
   "outputs": [
    {
     "name": "stdout",
     "output_type": "stream",
     "text": [
      "Using standard CrossEntropyLoss (no class weights)\n"
     ]
    },
    {
     "name": "stderr",
     "output_type": "stream",
     "text": [
      "                                                                                    "
     ]
    },
    {
     "name": "stdout",
     "output_type": "stream",
     "text": [
      "Model saved as ./models/ft_transformer_model\n"
     ]
    },
    {
     "name": "stderr",
     "output_type": "stream",
     "text": [
      "\r"
     ]
    }
   ],
   "source": [
    "ft_transformer.train_model(num_epochs=100, model_name='ft_transformer_model')"
   ]
  },
  {
   "cell_type": "code",
   "execution_count": 5,
   "id": "d2524c67",
   "metadata": {},
   "outputs": [
    {
     "name": "stdout",
     "output_type": "stream",
     "text": [
      "Test Accuracy: 0.7700\n",
      "\n",
      "Classification Report:\n",
      "              precision    recall  f1-score   support\n",
      "\n",
      "           0       0.84      0.90      0.87       826\n",
      "           1       0.25      0.16      0.20       174\n",
      "\n",
      "    accuracy                           0.77      1000\n",
      "   macro avg       0.54      0.53      0.53      1000\n",
      "weighted avg       0.73      0.77      0.75      1000\n",
      "\n",
      "\n",
      "Confusion Matrix:\n",
      "[[742  84]\n",
      " [146  28]]\n",
      "\n",
      "Detailed Confusion Matrix:\n",
      "Predicted:       0       1\n",
      "Actual 0:     742      84\n",
      "Actual 1:     146      28\n"
     ]
    },
    {
     "name": "stderr",
     "output_type": "stream",
     "text": [
      "c:\\Users\\ShiShiuan\\Desktop\\機器學習與人工智慧實作\\src\\ft_transformer.py:394: FutureWarning: You are using `torch.load` with `weights_only=False` (the current default value), which uses the default pickle module implicitly. It is possible to construct malicious pickle data which will execute arbitrary code during unpickling (See https://github.com/pytorch/pytorch/blob/main/SECURITY.md#untrusted-models for more details). In a future release, the default value for `weights_only` will be flipped to `True`. This limits the functions that could be executed during unpickling. Arbitrary objects will no longer be allowed to be loaded via this mode unless they are explicitly allowlisted by the user via `torch.serialization.add_safe_globals`. We recommend you start setting `weights_only=True` for any use case where you don't have full control of the loaded file. Please open an issue on GitHub for any issues related to this experimental feature.\n",
      "  self.model.load_state_dict(torch.load(f\"./models/{model_name}\"))\n"
     ]
    },
    {
     "data": {
      "image/png": "[encoded data removed]",
      "text/plain": [
       "<Figure size 600x400 with 2 Axes>"
      ]
     },
     "metadata": {},
     "output_type": "display_data"
    },
    {
     "name": "stdout",
     "output_type": "stream",
     "text": [
      "混淆矩陣圖表已保存為 'confusion_matrix.png'\n"
     ]
    },
    {
     "data": {
      "text/plain": [
       "(0.77,\n",
       " array([[742,  84],\n",
       "        [146,  28]], dtype=int64))"
      ]
     },
     "execution_count": 5,
     "metadata": {},
     "output_type": "execute_result"
    },
    {
     "data": {
      "text/plain": [
       "<Figure size 640x480 with 0 Axes>"
      ]
     },
     "metadata": {},
     "output_type": "display_data"
    }
   ],
   "source": [
    "ft_transformer.evaluate_model(model_name='ft_transformer_model')"
   ]
  },
  {
   "cell_type": "markdown",
   "id": "750810ca",
   "metadata": {},
   "source": [
    "# Over Sampling"
   ]
  },
  {
   "cell_type": "markdown",
   "id": "9aab1e06",
   "metadata": {},
   "source": [
    "## SMOTE"
   ]
  },
  {
   "cell_type": "code",
   "execution_count": 28,
   "id": "16722652",
   "metadata": {},
   "outputs": [
    {
     "name": "stdout",
     "output_type": "stream",
     "text": [
      "Encoded gender: [0, 1]\n",
      "Encoded primary_diagnosis: [0, 1, 2, 3, 4]\n",
      "Encoded discharge_to: [0, 1, 2, 3]\n",
      "Encoded num_procedures: [0, 1, 2, 3, 4, 5, 6, 7, 8, 9]\n",
      "Encoded days_in_hospital: [0, 1, 2, 3, 4, 5, 6, 7, 8, 9, 10, 11, 12, 13]\n",
      "Encoded comorbidity_score: [0, 1, 2, 3, 4]\n",
      "=== Feature Encoding Complete ===\n",
      "Numerical features: ['age']\n",
      "Categorical features (encoded): ['gender', 'primary_diagnosis', 'discharge_to', 'num_procedures', 'days_in_hospital', 'comorbidity_score']\n",
      "\n",
      "Sample of encoded data:\n",
      "  gender primary_diagnosis discharge_to num_procedures days_in_hospital  \\\n",
      "0      1                 2            1              1                1   \n",
      "1      0                 0            2              2               12   \n",
      "2      1                 1            0              1                6   \n",
      "3      1                 0            3              9                1   \n",
      "4      1                 1            2              6                3   \n",
      "\n",
      "  comorbidity_score  \n",
      "0                 1  \n",
      "1                 2  \n",
      "2                 1  \n",
      "3                 2  \n",
      "4                 4  \n",
      "=== PREPROCESS DEBUG INFO ===\n",
      "Before sampling - Training set size: 4000\n",
      "Before sampling - Class distribution: {0: 3234, 1: 766}\n",
      "Before sampling - X_num_train shape: (4000, 1)\n",
      "Before sampling - X_cat_train shape: (4000, 6)\n",
      "🔄 Applying SMOTE with method: smote\n",
      "Applying SMOTE to handle class imbalance...\n",
      "Original class distribution: {0: 3234, 1: 766}\n",
      "After SMOTE class distribution: {0: 3234, 1: 3234}\n",
      "Training set size: 4000 -> 6468\n",
      "After SMOTE - Training set size: 6468 (was 4000)\n",
      "After SMOTE - Class distribution: {0: 3234, 1: 3234}\n",
      "After SMOTE - X_num_train shape: (6468, 1)\n",
      "After SMOTE - X_cat_train shape: (6468, 6)\n",
      "train_df_train_csv shape after DataFrame creation: (6468, 8)\n"
     ]
    },
    {
     "name": "stderr",
     "output_type": "stream",
     "text": [
      "100%|██████████| 6/6 [00:00<00:00, 382.31it/s]"
     ]
    },
    {
     "name": "stdout",
     "output_type": "stream",
     "text": [
      "Final train_df_train_csv_processed shape: (6468, 7)\n",
      "Final test_df_train_csv_processed shape: (1000, 7)\n",
      "=== END PREPROCESS DEBUG ===\n",
      "categorical features (cols): ['cat_0', 'cat_1', 'cat_2', 'cat_3', 'cat_4', 'cat_5']\n",
      "categorical features (array): 6\n",
      "numerical features (cols): ['num_0']\n",
      "numerical features (array): 1\n"
     ]
    },
    {
     "name": "stderr",
     "output_type": "stream",
     "text": [
      "\n",
      "c:\\Users\\ShiShiuan\\Desktop\\機器學習與人工智慧實作\\venv\\lib\\site-packages\\sklearn\\pipeline.py:62: FutureWarning: This Pipeline instance is not fitted yet. Call 'fit' with appropriate arguments before using other methods such as transform, predict, etc. This will raise an error in 1.8 instead of the current warning.\n",
      "  warnings.warn(\n",
      "c:\\Users\\ShiShiuan\\Desktop\\機器學習與人工智慧實作\\venv\\lib\\site-packages\\sklearn\\pipeline.py:62: FutureWarning: This Pipeline instance is not fitted yet. Call 'fit' with appropriate arguments before using other methods such as transform, predict, etc. This will raise an error in 1.8 instead of the current warning.\n",
      "  warnings.warn(\n",
      "c:\\Users\\ShiShiuan\\Desktop\\機器學習與人工智慧實作\\venv\\lib\\site-packages\\sklearn\\pipeline.py:62: FutureWarning: This Pipeline instance is not fitted yet. Call 'fit' with appropriate arguments before using other methods such as transform, predict, etc. This will raise an error in 1.8 instead of the current warning.\n",
      "  warnings.warn(\n",
      "c:\\Users\\ShiShiuan\\Desktop\\機器學習與人工智慧實作\\venv\\lib\\site-packages\\sklearn\\pipeline.py:62: FutureWarning: This Pipeline instance is not fitted yet. Call 'fit' with appropriate arguments before using other methods such as transform, predict, etc. This will raise an error in 1.8 instead of the current warning.\n",
      "  warnings.warn(\n"
     ]
    }
   ],
   "source": [
    "ft_transformer_smote = CustomerFTTransformer()\n",
    "ft_transformer_smote.format_dataframe()\n",
    "ft_transformer_smote.preprocess(use_smote=True, smote_method='smote')\n",
    "ft_transformer_smote.set_feautres_processed()\n",
    "ft_transformer_smote.set_tablar_dataset()\n",
    "ft_transformer_smote.set_model_config()"
   ]
  },
  {
   "cell_type": "code",
   "execution_count": 29,
   "id": "ab31315b",
   "metadata": {},
   "outputs": [
    {
     "name": "stdout",
     "output_type": "stream",
     "text": [
      "=== Class Distribution Analysis ===\n",
      "Class distribution:\n",
      "  Class 0: 3234 samples (50.00%)\n",
      "  Class 1: 3234 samples (50.00%)\n",
      "Imbalance ratio: 1.00\n",
      "✅ Dataset is relatively balanced.\n"
     ]
    },
    {
     "data": {
      "text/plain": [
       "(target\n",
       " 0    3234\n",
       " 1    3234\n",
       " Name: count, dtype: int64,\n",
       " 1.0)"
      ]
     },
     "execution_count": 29,
     "metadata": {},
     "output_type": "execute_result"
    }
   ],
   "source": [
    "ft_transformer_smote.check_class_distribution(ft_transformer_smote.train_df_train_csv_processed, 'target')"
   ]
  },
  {
   "cell_type": "code",
   "execution_count": 32,
   "id": "9e1813ea",
   "metadata": {},
   "outputs": [
    {
     "name": "stdout",
     "output_type": "stream",
     "text": [
      "Using standard CrossEntropyLoss (no class weights)\n"
     ]
    },
    {
     "name": "stderr",
     "output_type": "stream",
     "text": [
      "                                                                                    "
     ]
    },
    {
     "name": "stdout",
     "output_type": "stream",
     "text": [
      "Model saved as ./models/ft_transformer_model_smote.pth\n"
     ]
    },
    {
     "name": "stderr",
     "output_type": "stream",
     "text": [
      "\r"
     ]
    }
   ],
   "source": [
    "ft_transformer_smote.train_model(num_epochs=500, model_name='ft_transformer_model_smote.pth', use_class_weight=False)"
   ]
  },
  {
   "cell_type": "code",
   "execution_count": 39,
   "id": "c41dd711",
   "metadata": {},
   "outputs": [
    {
     "name": "stderr",
     "output_type": "stream",
     "text": [
      "c:\\Users\\ShiShiuan\\Desktop\\機器學習與人工智慧實作\\src\\ft_transformer.py:384: FutureWarning: You are using `torch.load` with `weights_only=False` (the current default value), which uses the default pickle module implicitly. It is possible to construct malicious pickle data which will execute arbitrary code during unpickling (See https://github.com/pytorch/pytorch/blob/main/SECURITY.md#untrusted-models for more details). In a future release, the default value for `weights_only` will be flipped to `True`. This limits the functions that could be executed during unpickling. Arbitrary objects will no longer be allowed to be loaded via this mode unless they are explicitly allowlisted by the user via `torch.serialization.add_safe_globals`. We recommend you start setting `weights_only=True` for any use case where you don't have full control of the loaded file. Please open an issue on GitHub for any issues related to this experimental feature.\n",
      "  self.model.load_state_dict(torch.load(f\"./models/{model_name}\"))\n"
     ]
    },
    {
     "name": "stdout",
     "output_type": "stream",
     "text": [
      "Test Accuracy: 0.4160\n",
      "\n",
      "Classification Report:\n",
      "              precision    recall  f1-score   support\n",
      "\n",
      "           0       0.80      0.39      0.52       826\n",
      "           1       0.16      0.55      0.25       174\n",
      "\n",
      "    accuracy                           0.42      1000\n",
      "   macro avg       0.48      0.47      0.39      1000\n",
      "weighted avg       0.69      0.42      0.47      1000\n",
      "\n",
      "\n",
      "Confusion Matrix:\n",
      "[[320 506]\n",
      " [ 78  96]]\n",
      "\n",
      "Detailed Confusion Matrix:\n",
      "Predicted:       0       1\n",
      "Actual 0:     320     506\n",
      "Actual 1:      78      96\n"
     ]
    },
    {
     "data": {
      "image/png": "[encoded data removed]",
      "text/plain": [
       "<Figure size 600x400 with 2 Axes>"
      ]
     },
     "metadata": {},
     "output_type": "display_data"
    },
    {
     "name": "stdout",
     "output_type": "stream",
     "text": [
      "混淆矩陣圖表已保存為 'confusion_matrix.png'\n"
     ]
    },
    {
     "data": {
      "text/plain": [
       "(0.416,\n",
       " array([[320, 506],\n",
       "        [ 78,  96]], dtype=int64))"
      ]
     },
     "execution_count": 39,
     "metadata": {},
     "output_type": "execute_result"
    },
    {
     "data": {
      "text/plain": [
       "<Figure size 640x480 with 0 Axes>"
      ]
     },
     "metadata": {},
     "output_type": "display_data"
    }
   ],
   "source": [
    "ft_transformer_smote.evaluate_model(model_name='ft_transformer_model_smote.pth')"
   ]
  },
  {
   "cell_type": "markdown",
   "id": "e9471d77",
   "metadata": {},
   "source": [
    "## SMOTE-NC"
   ]
  },
  {
   "cell_type": "code",
   "execution_count": 6,
   "id": "166299d6",
   "metadata": {},
   "outputs": [
    {
     "name": "stdout",
     "output_type": "stream",
     "text": [
      "Encoded gender: [0, 1]\n",
      "Encoded primary_diagnosis: [0, 1, 2, 3, 4]\n",
      "Encoded discharge_to: [0, 1, 2, 3]\n",
      "=== Feature Encoding Complete ===\n",
      "Numerical features: ['age', 'num_procedures', 'days_in_hospital', 'comorbidity_score']\n",
      "Categorical features (encoded): ['gender', 'primary_diagnosis', 'discharge_to']\n",
      "\n",
      "Sample of encoded data:\n",
      "  gender primary_diagnosis discharge_to\n",
      "0      1                 2            1\n",
      "1      0                 0            2\n",
      "2      1                 1            0\n",
      "3      1                 0            3\n",
      "4      1                 1            2\n",
      "🔄 Applying SMOTE with method: smotenc\n",
      "Applying SMOTENC to handle class imbalance...\n",
      "Original class distribution: {0: 3234, 1: 766}\n",
      "Using SMOTENC for mixed data types...\n",
      "Numerical features shape: (4000, 4)\n",
      "Categorical features shape: (4000, 3)\n",
      "Categorical feature indices: [4, 5, 6]\n",
      "Combined features shape: (4000, 7)\n",
      "After SMOTENC class distribution: {0: 3234, 1: 3234}\n",
      "Training set size: 4000 -> 6468\n",
      "After SMOTE - Training set size: 6468 (was 4000)\n",
      "After SMOTE - Class distribution: {0: 3234, 1: 3234}\n",
      "After SMOTE - X_num_train shape: (6468, 4)\n",
      "After SMOTE - X_cat_train shape: (6468, 3)\n",
      "train_df_train_csv shape after DataFrame creation: (6468, 8)\n"
     ]
    },
    {
     "name": "stderr",
     "output_type": "stream",
     "text": [
      "100%|██████████| 3/3 [00:00<?, ?it/s]"
     ]
    },
    {
     "name": "stdout",
     "output_type": "stream",
     "text": [
      "Final train_df_train_csv_processed shape: (6468, 7)\n",
      "Final test_df_train_csv_processed shape: (1000, 7)\n",
      "=== END PREPROCESS DEBUG ===\n",
      "categorical features (cols): ['cat_0', 'cat_1', 'cat_2']\n",
      "categorical features (array): 3\n",
      "numerical features (cols): ['num_0', 'num_1', 'num_2', 'num_3']\n",
      "numerical features (array): 4\n"
     ]
    },
    {
     "name": "stderr",
     "output_type": "stream",
     "text": [
      "\n",
      "c:\\Users\\ShiShiuan\\Desktop\\機器學習與人工智慧實作\\venv\\lib\\site-packages\\sklearn\\pipeline.py:62: FutureWarning: This Pipeline instance is not fitted yet. Call 'fit' with appropriate arguments before using other methods such as transform, predict, etc. This will raise an error in 1.8 instead of the current warning.\n",
      "  warnings.warn(\n",
      "c:\\Users\\ShiShiuan\\Desktop\\機器學習與人工智慧實作\\venv\\lib\\site-packages\\sklearn\\pipeline.py:62: FutureWarning: This Pipeline instance is not fitted yet. Call 'fit' with appropriate arguments before using other methods such as transform, predict, etc. This will raise an error in 1.8 instead of the current warning.\n",
      "  warnings.warn(\n",
      "c:\\Users\\ShiShiuan\\Desktop\\機器學習與人工智慧實作\\venv\\lib\\site-packages\\sklearn\\pipeline.py:62: FutureWarning: This Pipeline instance is not fitted yet. Call 'fit' with appropriate arguments before using other methods such as transform, predict, etc. This will raise an error in 1.8 instead of the current warning.\n",
      "  warnings.warn(\n",
      "c:\\Users\\ShiShiuan\\Desktop\\機器學習與人工智慧實作\\venv\\lib\\site-packages\\sklearn\\pipeline.py:62: FutureWarning: This Pipeline instance is not fitted yet. Call 'fit' with appropriate arguments before using other methods such as transform, predict, etc. This will raise an error in 1.8 instead of the current warning.\n",
      "  warnings.warn(\n"
     ]
    }
   ],
   "source": [
    "ft_transformer_smote_nc = CustomerFTTransformer()\n",
    "ft_transformer_smote_nc.format_dataframe()\n",
    "ft_transformer_smote_nc.preprocess(use_smote=True, use_under_sampling=False, smote_method='smotenc')\n",
    "ft_transformer_smote_nc.set_feautres_processed()\n",
    "ft_transformer_smote_nc.set_tablar_dataset()\n",
    "ft_transformer_smote_nc.set_model_config()"
   ]
  },
  {
   "cell_type": "code",
   "execution_count": 7,
   "id": "19478d7e",
   "metadata": {},
   "outputs": [
    {
     "name": "stdout",
     "output_type": "stream",
     "text": [
      "=== Class Distribution Analysis ===\n",
      "Class distribution:\n",
      "  Class 0: 3234 samples (50.00%)\n",
      "  Class 1: 3234 samples (50.00%)\n",
      "Imbalance ratio: 1.00\n",
      "✅ Dataset is relatively balanced.\n"
     ]
    },
    {
     "data": {
      "text/plain": [
       "(target\n",
       " 0    3234\n",
       " 1    3234\n",
       " Name: count, dtype: int64,\n",
       " 1.0)"
      ]
     },
     "execution_count": 7,
     "metadata": {},
     "output_type": "execute_result"
    }
   ],
   "source": [
    "ft_transformer_smote_nc.check_class_distribution(ft_transformer_smote_nc.train_df_train_csv_processed, 'target')"
   ]
  },
  {
   "cell_type": "code",
   "execution_count": 8,
   "id": "ef263c2d",
   "metadata": {},
   "outputs": [
    {
     "name": "stdout",
     "output_type": "stream",
     "text": [
      "Using standard CrossEntropyLoss (no class weights)\n"
     ]
    },
    {
     "name": "stderr",
     "output_type": "stream",
     "text": [
      "                                                                                    \r"
     ]
    },
    {
     "name": "stdout",
     "output_type": "stream",
     "text": [
      "Model saved as ./models/ft_transformer_model_smote_nc.pth\n",
      "\n",
      "=== Training Set Evaluation ===\n",
      "Training Set Accuracy: 0.9770\n",
      "\n",
      "Training Set Classification Report:\n",
      "              precision    recall  f1-score   support\n",
      "\n",
      "           0       0.99      0.96      0.98      3234\n",
      "           1       0.97      0.99      0.98      3234\n",
      "\n",
      "    accuracy                           0.98      6468\n",
      "   macro avg       0.98      0.98      0.98      6468\n",
      "weighted avg       0.98      0.98      0.98      6468\n",
      "\n",
      "\n",
      "Training Set Confusion Matrix:\n",
      "[[3119  115]\n",
      " [  34 3200]]\n",
      "Training Set ROC AUC: 0.9981\n",
      "✅ 訓練集評估圖表已保存為 'training_metrics.png'\n"
     ]
    },
    {
     "name": "stderr",
     "output_type": "stream",
     "text": [
      "c:\\Users\\ShiShiuan\\Desktop\\機器學習與人工智慧實作\\src\\ft_transformer.py:433: UserWarning: FigureCanvasAgg is non-interactive, and thus cannot be shown\n",
      "  plt.show()\n"
     ]
    }
   ],
   "source": [
    "ft_transformer_smote_nc.train_model(num_epochs=500, model_name='ft_transformer_model_smote_nc.pth', use_class_weight=False)"
   ]
  },
  {
   "cell_type": "code",
   "execution_count": 40,
   "id": "29f4604d",
   "metadata": {},
   "outputs": [
    {
     "name": "stdout",
     "output_type": "stream",
     "text": [
      "Test Accuracy: 0.6840\n",
      "\n",
      "Classification Report:\n",
      "              precision    recall  f1-score   support\n",
      "\n",
      "           0       0.82      0.78      0.80       826\n",
      "           1       0.17      0.21      0.19       174\n",
      "\n",
      "    accuracy                           0.68      1000\n",
      "   macro avg       0.50      0.50      0.49      1000\n",
      "weighted avg       0.71      0.68      0.70      1000\n",
      "\n",
      "\n",
      "Confusion Matrix:\n",
      "[[648 178]\n",
      " [138  36]]\n",
      "\n",
      "Detailed Confusion Matrix:\n",
      "Predicted:       0       1\n",
      "Actual 0:     648     178\n",
      "Actual 1:     138      36\n"
     ]
    },
    {
     "name": "stderr",
     "output_type": "stream",
     "text": [
      "c:\\Users\\ShiShiuan\\Desktop\\機器學習與人工智慧實作\\src\\ft_transformer.py:384: FutureWarning: You are using `torch.load` with `weights_only=False` (the current default value), which uses the default pickle module implicitly. It is possible to construct malicious pickle data which will execute arbitrary code during unpickling (See https://github.com/pytorch/pytorch/blob/main/SECURITY.md#untrusted-models for more details). In a future release, the default value for `weights_only` will be flipped to `True`. This limits the functions that could be executed during unpickling. Arbitrary objects will no longer be allowed to be loaded via this mode unless they are explicitly allowlisted by the user via `torch.serialization.add_safe_globals`. We recommend you start setting `weights_only=True` for any use case where you don't have full control of the loaded file. Please open an issue on GitHub for any issues related to this experimental feature.\n",
      "  self.model.load_state_dict(torch.load(f\"./models/{model_name}\"))\n"
     ]
    },
    {
     "data": {
      "image/png": "[encoded data removed]",
      "text/plain": [
       "<Figure size 600x400 with 2 Axes>"
      ]
     },
     "metadata": {},
     "output_type": "display_data"
    },
    {
     "name": "stdout",
     "output_type": "stream",
     "text": [
      "混淆矩陣圖表已保存為 'confusion_matrix.png'\n"
     ]
    },
    {
     "data": {
      "text/plain": [
       "(0.684,\n",
       " array([[648, 178],\n",
       "        [138,  36]], dtype=int64))"
      ]
     },
     "execution_count": 40,
     "metadata": {},
     "output_type": "execute_result"
    },
    {
     "data": {
      "text/plain": [
       "<Figure size 640x480 with 0 Axes>"
      ]
     },
     "metadata": {},
     "output_type": "display_data"
    }
   ],
   "source": [
    "ft_transformer_smote_nc.evaluate_model(model_name='ft_transformer_model_smote_nc.pth')"
   ]
  },
  {
   "cell_type": "markdown",
   "id": "232dcc70",
   "metadata": {},
   "source": [
    "## Borderline"
   ]
  },
  {
   "cell_type": "code",
   "execution_count": 14,
   "id": "50b3db59",
   "metadata": {},
   "outputs": [
    {
     "name": "stdout",
     "output_type": "stream",
     "text": [
      "Encoded gender: [0, 1]\n",
      "Encoded primary_diagnosis: [0, 1, 2, 3, 4]\n",
      "Encoded discharge_to: [0, 1, 2, 3]\n",
      "Encoded num_procedures: [0, 1, 2, 3, 4, 5, 6, 7, 8, 9]\n",
      "Encoded days_in_hospital: [0, 1, 2, 3, 4, 5, 6, 7, 8, 9, 10, 11, 12, 13]\n",
      "Encoded comorbidity_score: [0, 1, 2, 3, 4]\n",
      "=== Feature Encoding Complete ===\n",
      "Numerical features: ['age']\n",
      "Categorical features (encoded): ['gender', 'primary_diagnosis', 'discharge_to', 'num_procedures', 'days_in_hospital', 'comorbidity_score']\n",
      "\n",
      "Sample of encoded data:\n",
      "  gender primary_diagnosis discharge_to num_procedures days_in_hospital  \\\n",
      "0      1                 2            1              1                1   \n",
      "1      0                 0            2              2               12   \n",
      "2      1                 1            0              1                6   \n",
      "3      1                 0            3              9                1   \n",
      "4      1                 1            2              6                3   \n",
      "\n",
      "  comorbidity_score  \n",
      "0                 1  \n",
      "1                 2  \n",
      "2                 1  \n",
      "3                 2  \n",
      "4                 4  \n",
      "=== PREPROCESS DEBUG INFO ===\n",
      "Before sampling - Training set size: 4000\n",
      "Before sampling - Class distribution: {0: 3234, 1: 766}\n",
      "Before sampling - X_num_train shape: (4000, 1)\n",
      "Before sampling - X_cat_train shape: (4000, 6)\n",
      "🔄 Applying SMOTE with method: borderline\n",
      "Applying BORDERLINE to handle class imbalance...\n",
      "Original class distribution: {0: 3234, 1: 766}\n",
      "After BORDERLINE class distribution: {0: 3234, 1: 3234}\n",
      "Training set size: 4000 -> 6468\n",
      "After SMOTE - Training set size: 6468 (was 4000)\n",
      "After SMOTE - Class distribution: {0: 3234, 1: 3234}\n",
      "After SMOTE - X_num_train shape: (6468, 1)\n",
      "After SMOTE - X_cat_train shape: (6468, 6)\n",
      "train_df_train_csv shape after DataFrame creation: (6468, 8)\n"
     ]
    },
    {
     "name": "stderr",
     "output_type": "stream",
     "text": [
      "100%|██████████| 6/6 [00:00<?, ?it/s]"
     ]
    },
    {
     "name": "stdout",
     "output_type": "stream",
     "text": [
      "Final train_df_train_csv_processed shape: (6468, 7)\n",
      "Final test_df_train_csv_processed shape: (1000, 7)\n",
      "=== END PREPROCESS DEBUG ===\n",
      "categorical features (cols): ['cat_0', 'cat_1', 'cat_2', 'cat_3', 'cat_4', 'cat_5']\n",
      "categorical features (array): 6\n",
      "numerical features (cols): ['num_0']\n",
      "numerical features (array): 1\n"
     ]
    },
    {
     "name": "stderr",
     "output_type": "stream",
     "text": [
      "\n",
      "c:\\Users\\ShiShiuan\\Desktop\\機器學習與人工智慧實作\\venv\\lib\\site-packages\\sklearn\\pipeline.py:62: FutureWarning: This Pipeline instance is not fitted yet. Call 'fit' with appropriate arguments before using other methods such as transform, predict, etc. This will raise an error in 1.8 instead of the current warning.\n",
      "  warnings.warn(\n",
      "c:\\Users\\ShiShiuan\\Desktop\\機器學習與人工智慧實作\\venv\\lib\\site-packages\\sklearn\\pipeline.py:62: FutureWarning: This Pipeline instance is not fitted yet. Call 'fit' with appropriate arguments before using other methods such as transform, predict, etc. This will raise an error in 1.8 instead of the current warning.\n",
      "  warnings.warn(\n",
      "c:\\Users\\ShiShiuan\\Desktop\\機器學習與人工智慧實作\\venv\\lib\\site-packages\\sklearn\\pipeline.py:62: FutureWarning: This Pipeline instance is not fitted yet. Call 'fit' with appropriate arguments before using other methods such as transform, predict, etc. This will raise an error in 1.8 instead of the current warning.\n",
      "  warnings.warn(\n",
      "c:\\Users\\ShiShiuan\\Desktop\\機器學習與人工智慧實作\\venv\\lib\\site-packages\\sklearn\\pipeline.py:62: FutureWarning: This Pipeline instance is not fitted yet. Call 'fit' with appropriate arguments before using other methods such as transform, predict, etc. This will raise an error in 1.8 instead of the current warning.\n",
      "  warnings.warn(\n"
     ]
    }
   ],
   "source": [
    "ft_transformer_borderline = CustomerFTTransformer()\n",
    "ft_transformer_borderline.format_dataframe()\n",
    "ft_transformer_borderline.preprocess(use_smote=True, use_under_sampling=False, smote_method='borderline')\n",
    "ft_transformer_borderline.set_feautres_processed()\n",
    "ft_transformer_borderline.set_tablar_dataset()\n",
    "ft_transformer_borderline.set_model_config()"
   ]
  },
  {
   "cell_type": "code",
   "execution_count": 15,
   "id": "526d2956",
   "metadata": {},
   "outputs": [
    {
     "name": "stdout",
     "output_type": "stream",
     "text": [
      "=== Class Distribution Analysis ===\n",
      "Class distribution:\n",
      "  Class 0: 3234 samples (50.00%)\n",
      "  Class 1: 3234 samples (50.00%)\n",
      "Imbalance ratio: 1.00\n",
      "✅ Dataset is relatively balanced.\n"
     ]
    },
    {
     "data": {
      "text/plain": [
       "(target\n",
       " 0    3234\n",
       " 1    3234\n",
       " Name: count, dtype: int64,\n",
       " 1.0)"
      ]
     },
     "execution_count": 15,
     "metadata": {},
     "output_type": "execute_result"
    }
   ],
   "source": [
    "ft_transformer_borderline.check_class_distribution(ft_transformer_borderline.train_df_train_csv_processed, 'target')"
   ]
  },
  {
   "cell_type": "code",
   "execution_count": 16,
   "id": "2b363dbb",
   "metadata": {},
   "outputs": [
    {
     "name": "stdout",
     "output_type": "stream",
     "text": [
      "Using standard CrossEntropyLoss (no class weights)\n"
     ]
    },
    {
     "name": "stderr",
     "output_type": "stream",
     "text": [
      "                                                                                    "
     ]
    },
    {
     "name": "stdout",
     "output_type": "stream",
     "text": [
      "Model saved as ./models/ft_transformer_model_borderline.pth\n"
     ]
    },
    {
     "name": "stderr",
     "output_type": "stream",
     "text": [
      "\r"
     ]
    }
   ],
   "source": [
    "ft_transformer_borderline.train_model(num_epochs=500, model_name='ft_transformer_model_borderline.pth', use_class_weight=False)"
   ]
  },
  {
   "cell_type": "code",
   "execution_count": 17,
   "id": "112e0e05",
   "metadata": {},
   "outputs": [
    {
     "name": "stdout",
     "output_type": "stream",
     "text": [
      "Test Accuracy: 0.3870\n",
      "\n",
      "Classification Report:\n",
      "              precision    recall  f1-score   support\n",
      "\n",
      "           0       0.83      0.32      0.47       826\n",
      "           1       0.18      0.68      0.28       174\n",
      "\n",
      "    accuracy                           0.39      1000\n",
      "   macro avg       0.50      0.50      0.37      1000\n",
      "weighted avg       0.72      0.39      0.43      1000\n",
      "\n",
      "\n",
      "Confusion Matrix:\n",
      "[[268 558]\n",
      " [ 55 119]]\n",
      "\n",
      "Detailed Confusion Matrix:\n",
      "Predicted:       0       1\n",
      "Actual 0:     268     558\n",
      "Actual 1:      55     119\n"
     ]
    },
    {
     "name": "stderr",
     "output_type": "stream",
     "text": [
      "c:\\Users\\ShiShiuan\\Desktop\\機器學習與人工智慧實作\\src\\ft_transformer.py:394: FutureWarning: You are using `torch.load` with `weights_only=False` (the current default value), which uses the default pickle module implicitly. It is possible to construct malicious pickle data which will execute arbitrary code during unpickling (See https://github.com/pytorch/pytorch/blob/main/SECURITY.md#untrusted-models for more details). In a future release, the default value for `weights_only` will be flipped to `True`. This limits the functions that could be executed during unpickling. Arbitrary objects will no longer be allowed to be loaded via this mode unless they are explicitly allowlisted by the user via `torch.serialization.add_safe_globals`. We recommend you start setting `weights_only=True` for any use case where you don't have full control of the loaded file. Please open an issue on GitHub for any issues related to this experimental feature.\n",
      "  self.model.load_state_dict(torch.load(f\"./models/{model_name}\"))\n"
     ]
    },
    {
     "data": {
      "image/png": "[encoded data removed]",
      "text/plain": [
       "<Figure size 600x400 with 2 Axes>"
      ]
     },
     "metadata": {},
     "output_type": "display_data"
    },
    {
     "name": "stdout",
     "output_type": "stream",
     "text": [
      "混淆矩陣圖表已保存為 'confusion_matrix.png'\n"
     ]
    },
    {
     "data": {
      "text/plain": [
       "(0.387,\n",
       " array([[268, 558],\n",
       "        [ 55, 119]], dtype=int64))"
      ]
     },
     "execution_count": 17,
     "metadata": {},
     "output_type": "execute_result"
    },
    {
     "data": {
      "text/plain": [
       "<Figure size 640x480 with 0 Axes>"
      ]
     },
     "metadata": {},
     "output_type": "display_data"
    }
   ],
   "source": [
    "ft_transformer_borderline.evaluate_model(model_name='ft_transformer_model_borderline.pth')"
   ]
  },
  {
   "cell_type": "markdown",
   "id": "147564c4",
   "metadata": {},
   "source": [
    "# Under Sampling"
   ]
  },
  {
   "cell_type": "markdown",
   "id": "6dd6583d",
   "metadata": {},
   "source": [
    "## Random Under Sampling"
   ]
  },
  {
   "cell_type": "code",
   "execution_count": 2,
   "id": "ced316df",
   "metadata": {},
   "outputs": [
    {
     "name": "stdout",
     "output_type": "stream",
     "text": [
      "Encoded gender: [0, 1]\n",
      "Encoded primary_diagnosis: [0, 1, 2, 3, 4]\n",
      "Encoded discharge_to: [0, 1, 2, 3]\n",
      "=== Feature Encoding Complete ===\n",
      "Numerical features: ['age', 'num_procedures', 'days_in_hospital', 'comorbidity_score']\n",
      "Categorical features (encoded): ['gender', 'primary_diagnosis', 'discharge_to']\n",
      "\n",
      "Sample of encoded data:\n",
      "  gender primary_diagnosis discharge_to\n",
      "0      1                 2            1\n",
      "1      0                 0            2\n",
      "2      1                 1            0\n",
      "3      1                 0            3\n",
      "4      1                 1            2\n",
      "🔄 Applying under sampling with method: random\n",
      "=== Applying random under sampling ===\n",
      "Original class distribution: {0: 3234, 1: 766}\n",
      "Imbalance ratio: 4.22\n",
      "Applying random under sampling...\n",
      "=== Under sampling results ===\n",
      "Final class distribution: {0: 766, 1: 766}\n",
      "Training set size: 4000 -> 1532\n",
      "Samples removed: 2468\n",
      "✅ Under sampling successful using random method\n",
      "After under sampling - Training set size: 1532 (was 4000)\n",
      "train_df_train_csv shape after DataFrame creation: (1532, 8)\n"
     ]
    },
    {
     "name": "stderr",
     "output_type": "stream",
     "text": [
      "100%|██████████| 3/3 [00:00<00:00, 205.91it/s]"
     ]
    },
    {
     "name": "stdout",
     "output_type": "stream",
     "text": [
      "Final train_df_train_csv_processed shape: (1532, 7)\n",
      "Final test_df_train_csv_processed shape: (1000, 7)\n",
      "=== END PREPROCESS DEBUG ===\n",
      "categorical features (cols): ['cat_0', 'cat_1', 'cat_2']\n",
      "categorical features (array): 3\n",
      "numerical features (cols): ['num_0', 'num_1', 'num_2', 'num_3']\n",
      "numerical features (array): 4\n"
     ]
    },
    {
     "name": "stderr",
     "output_type": "stream",
     "text": [
      "\n",
      "c:\\Users\\ShiShiuan\\Desktop\\機器學習與人工智慧實作\\venv\\lib\\site-packages\\sklearn\\pipeline.py:62: FutureWarning: This Pipeline instance is not fitted yet. Call 'fit' with appropriate arguments before using other methods such as transform, predict, etc. This will raise an error in 1.8 instead of the current warning.\n",
      "  warnings.warn(\n",
      "c:\\Users\\ShiShiuan\\Desktop\\機器學習與人工智慧實作\\venv\\lib\\site-packages\\sklearn\\pipeline.py:62: FutureWarning: This Pipeline instance is not fitted yet. Call 'fit' with appropriate arguments before using other methods such as transform, predict, etc. This will raise an error in 1.8 instead of the current warning.\n",
      "  warnings.warn(\n",
      "c:\\Users\\ShiShiuan\\Desktop\\機器學習與人工智慧實作\\venv\\lib\\site-packages\\sklearn\\pipeline.py:62: FutureWarning: This Pipeline instance is not fitted yet. Call 'fit' with appropriate arguments before using other methods such as transform, predict, etc. This will raise an error in 1.8 instead of the current warning.\n",
      "  warnings.warn(\n",
      "c:\\Users\\ShiShiuan\\Desktop\\機器學習與人工智慧實作\\venv\\lib\\site-packages\\sklearn\\pipeline.py:62: FutureWarning: This Pipeline instance is not fitted yet. Call 'fit' with appropriate arguments before using other methods such as transform, predict, etc. This will raise an error in 1.8 instead of the current warning.\n",
      "  warnings.warn(\n"
     ]
    }
   ],
   "source": [
    "ft_transformer_random_under_sampling = CustomerFTTransformer()\n",
    "ft_transformer_random_under_sampling.format_dataframe()\n",
    "ft_transformer_random_under_sampling.preprocess(use_under_sampling=True, under_sampling_method='random')\n",
    "ft_transformer_random_under_sampling.set_feautres_processed()\n",
    "ft_transformer_random_under_sampling.set_tablar_dataset()\n",
    "ft_transformer_random_under_sampling.set_model_config()"
   ]
  },
  {
   "cell_type": "code",
   "execution_count": 6,
   "id": "6f3f39b2",
   "metadata": {},
   "outputs": [
    {
     "data": {
      "text/html": [
       "<div>\n",
       "<style scoped>\n",
       "    .dataframe tbody tr th:only-of-type {\n",
       "        vertical-align: middle;\n",
       "    }\n",
       "\n",
       "    .dataframe tbody tr th {\n",
       "        vertical-align: top;\n",
       "    }\n",
       "\n",
       "    .dataframe thead th {\n",
       "        text-align: right;\n",
       "    }\n",
       "</style>\n",
       "<table border=\"1\" class=\"dataframe\">\n",
       "  <thead>\n",
       "    <tr style=\"text-align: right;\">\n",
       "      <th></th>\n",
       "      <th>num_0</th>\n",
       "      <th>cat_0</th>\n",
       "      <th>cat_1</th>\n",
       "      <th>cat_2</th>\n",
       "      <th>cat_3</th>\n",
       "      <th>cat_4</th>\n",
       "      <th>cat_5</th>\n",
       "      <th>target</th>\n",
       "    </tr>\n",
       "  </thead>\n",
       "  <tbody>\n",
       "    <tr>\n",
       "      <th>0</th>\n",
       "      <td>-1.315580</td>\n",
       "      <td>0</td>\n",
       "      <td>3</td>\n",
       "      <td>0</td>\n",
       "      <td>7</td>\n",
       "      <td>3</td>\n",
       "      <td>2</td>\n",
       "      <td>1</td>\n",
       "    </tr>\n",
       "    <tr>\n",
       "      <th>1</th>\n",
       "      <td>-0.832266</td>\n",
       "      <td>1</td>\n",
       "      <td>3</td>\n",
       "      <td>0</td>\n",
       "      <td>2</td>\n",
       "      <td>7</td>\n",
       "      <td>1</td>\n",
       "      <td>0</td>\n",
       "    </tr>\n",
       "    <tr>\n",
       "      <th>2</th>\n",
       "      <td>0.279357</td>\n",
       "      <td>0</td>\n",
       "      <td>4</td>\n",
       "      <td>1</td>\n",
       "      <td>8</td>\n",
       "      <td>2</td>\n",
       "      <td>1</td>\n",
       "      <td>0</td>\n",
       "    </tr>\n",
       "    <tr>\n",
       "      <th>3</th>\n",
       "      <td>0.955997</td>\n",
       "      <td>1</td>\n",
       "      <td>4</td>\n",
       "      <td>1</td>\n",
       "      <td>4</td>\n",
       "      <td>3</td>\n",
       "      <td>0</td>\n",
       "      <td>0</td>\n",
       "    </tr>\n",
       "    <tr>\n",
       "      <th>4</th>\n",
       "      <td>0.569345</td>\n",
       "      <td>0</td>\n",
       "      <td>1</td>\n",
       "      <td>0</td>\n",
       "      <td>6</td>\n",
       "      <td>5</td>\n",
       "      <td>4</td>\n",
       "      <td>0</td>\n",
       "    </tr>\n",
       "    <tr>\n",
       "      <th>...</th>\n",
       "      <td>...</td>\n",
       "      <td>...</td>\n",
       "      <td>...</td>\n",
       "      <td>...</td>\n",
       "      <td>...</td>\n",
       "      <td>...</td>\n",
       "      <td>...</td>\n",
       "      <td>...</td>\n",
       "    </tr>\n",
       "    <tr>\n",
       "      <th>1527</th>\n",
       "      <td>0.037700</td>\n",
       "      <td>1</td>\n",
       "      <td>2</td>\n",
       "      <td>2</td>\n",
       "      <td>2</td>\n",
       "      <td>7</td>\n",
       "      <td>4</td>\n",
       "      <td>1</td>\n",
       "    </tr>\n",
       "    <tr>\n",
       "      <th>1528</th>\n",
       "      <td>-0.638940</td>\n",
       "      <td>1</td>\n",
       "      <td>0</td>\n",
       "      <td>1</td>\n",
       "      <td>7</td>\n",
       "      <td>11</td>\n",
       "      <td>0</td>\n",
       "      <td>1</td>\n",
       "    </tr>\n",
       "    <tr>\n",
       "      <th>1529</th>\n",
       "      <td>-0.977260</td>\n",
       "      <td>0</td>\n",
       "      <td>4</td>\n",
       "      <td>1</td>\n",
       "      <td>6</td>\n",
       "      <td>7</td>\n",
       "      <td>4</td>\n",
       "      <td>1</td>\n",
       "    </tr>\n",
       "    <tr>\n",
       "      <th>1530</th>\n",
       "      <td>-0.397283</td>\n",
       "      <td>1</td>\n",
       "      <td>1</td>\n",
       "      <td>3</td>\n",
       "      <td>2</td>\n",
       "      <td>0</td>\n",
       "      <td>4</td>\n",
       "      <td>1</td>\n",
       "    </tr>\n",
       "    <tr>\n",
       "      <th>1531</th>\n",
       "      <td>0.617677</td>\n",
       "      <td>1</td>\n",
       "      <td>1</td>\n",
       "      <td>1</td>\n",
       "      <td>8</td>\n",
       "      <td>2</td>\n",
       "      <td>4</td>\n",
       "      <td>1</td>\n",
       "    </tr>\n",
       "  </tbody>\n",
       "</table>\n",
       "<p>1532 rows × 8 columns</p>\n",
       "</div>"
      ],
      "text/plain": [
       "         num_0  cat_0  cat_1  cat_2  cat_3  cat_4  cat_5  target\n",
       "0    -1.315580      0      3      0      7      3      2       1\n",
       "1    -0.832266      1      3      0      2      7      1       0\n",
       "2     0.279357      0      4      1      8      2      1       0\n",
       "3     0.955997      1      4      1      4      3      0       0\n",
       "4     0.569345      0      1      0      6      5      4       0\n",
       "...        ...    ...    ...    ...    ...    ...    ...     ...\n",
       "1527  0.037700      1      2      2      2      7      4       1\n",
       "1528 -0.638940      1      0      1      7     11      0       1\n",
       "1529 -0.977260      0      4      1      6      7      4       1\n",
       "1530 -0.397283      1      1      3      2      0      4       1\n",
       "1531  0.617677      1      1      1      8      2      4       1\n",
       "\n",
       "[1532 rows x 8 columns]"
      ]
     },
     "execution_count": 6,
     "metadata": {},
     "output_type": "execute_result"
    }
   ],
   "source": [
    "ft_transformer_random_under_sampling.train_df_train_csv_processed"
   ]
  },
  {
   "cell_type": "code",
   "execution_count": 7,
   "id": "2cd233f5",
   "metadata": {},
   "outputs": [
    {
     "name": "stdout",
     "output_type": "stream",
     "text": [
      "=== Class Distribution Analysis ===\n",
      "Class distribution:\n",
      "  Class 0: 766 samples (50.00%)\n",
      "  Class 1: 766 samples (50.00%)\n",
      "Imbalance ratio: 1.00\n",
      "✅ Dataset is relatively balanced.\n"
     ]
    },
    {
     "data": {
      "text/plain": [
       "(target\n",
       " 0    766\n",
       " 1    766\n",
       " Name: count, dtype: int64,\n",
       " 1.0)"
      ]
     },
     "execution_count": 7,
     "metadata": {},
     "output_type": "execute_result"
    }
   ],
   "source": [
    "ft_transformer_random_under_sampling.check_class_distribution(ft_transformer_random_under_sampling.train_df_train_csv_processed, 'target')"
   ]
  },
  {
   "cell_type": "code",
   "execution_count": 9,
   "id": "ea73b4ca",
   "metadata": {},
   "outputs": [
    {
     "name": "stdout",
     "output_type": "stream",
     "text": [
      "Using standard CrossEntropyLoss (no class weights)\n"
     ]
    },
    {
     "name": "stderr",
     "output_type": "stream",
     "text": [
      "                                                                                    "
     ]
    },
    {
     "name": "stdout",
     "output_type": "stream",
     "text": [
      "Model saved as ./models/ft_transformer_model_random_under_sampling.pth\n"
     ]
    },
    {
     "name": "stderr",
     "output_type": "stream",
     "text": [
      "\r"
     ]
    }
   ],
   "source": [
    "ft_transformer_random_under_sampling.train_model(num_epochs=500, model_name='ft_transformer_model_random_under_sampling.pth', use_class_weight=False)"
   ]
  },
  {
   "cell_type": "code",
   "execution_count": 12,
   "id": "f55ec875",
   "metadata": {},
   "outputs": [
    {
     "name": "stdout",
     "output_type": "stream",
     "text": [
      "Test Accuracy: 0.7400\n",
      "\n",
      "Classification Report:\n",
      "              precision    recall  f1-score   support\n",
      "\n",
      "           0       0.84      0.85      0.84       826\n",
      "           1       0.24      0.22      0.23       174\n",
      "\n",
      "    accuracy                           0.74      1000\n",
      "   macro avg       0.54      0.54      0.54      1000\n",
      "weighted avg       0.73      0.74      0.74      1000\n",
      "\n",
      "\n",
      "Confusion Matrix:\n",
      "[[701 125]\n",
      " [135  39]]\n",
      "\n",
      "Detailed Confusion Matrix:\n",
      "Predicted:       0       1\n",
      "Actual 0:     701     125\n",
      "Actual 1:     135      39\n"
     ]
    },
    {
     "data": {
      "image/png": "[encoded data removed]",
      "text/plain": [
       "<Figure size 600x400 with 2 Axes>"
      ]
     },
     "metadata": {},
     "output_type": "display_data"
    },
    {
     "name": "stdout",
     "output_type": "stream",
     "text": [
      "混淆矩陣圖表已保存為 'confusion_matrix.png'\n"
     ]
    },
    {
     "data": {
      "text/plain": [
       "(0.74,\n",
       " array([[701, 125],\n",
       "        [135,  39]], dtype=int64))"
      ]
     },
     "execution_count": 12,
     "metadata": {},
     "output_type": "execute_result"
    },
    {
     "data": {
      "text/plain": [
       "<Figure size 640x480 with 0 Axes>"
      ]
     },
     "metadata": {},
     "output_type": "display_data"
    }
   ],
   "source": [
    "ft_transformer_random_under_sampling.evaluate_model(model_name='ft_transformer_model_random_under_sampling.pth')"
   ]
  },
  {
   "cell_type": "markdown",
   "id": "36fdebea",
   "metadata": {},
   "source": [
    "## Tomek"
   ]
  },
  {
   "cell_type": "code",
   "execution_count": 4,
   "id": "26f08893",
   "metadata": {},
   "outputs": [
    {
     "name": "stdout",
     "output_type": "stream",
     "text": [
      "Encoded gender: [0, 1]\n",
      "Encoded primary_diagnosis: [0, 1, 2, 3, 4]\n",
      "Encoded discharge_to: [0, 1, 2, 3]\n",
      "=== Feature Encoding Complete ===\n",
      "Numerical features: ['age', 'num_procedures', 'days_in_hospital', 'comorbidity_score']\n",
      "Categorical features (encoded): ['gender', 'primary_diagnosis', 'discharge_to']\n",
      "\n",
      "Sample of encoded data:\n",
      "  gender primary_diagnosis discharge_to\n",
      "0      1                 2            1\n",
      "1      0                 0            2\n",
      "2      1                 1            0\n",
      "3      1                 0            3\n",
      "4      1                 1            2\n",
      "Applying Under Sampling using: tomek, then applying SMOTE using: smotenc\n",
      "🔄 Applying under sampling with method: tomek\n",
      "=== Applying tomek under sampling ===\n",
      "Original class distribution: {0: 3234, 1: 766}\n",
      "Imbalance ratio: 4.22\n",
      "Applying tomek under sampling...\n",
      "Attempting Tomek Links under sampling...\n",
      "After Tomek Links: 3656 samples\n",
      "Removed 344 samples\n",
      "New class distribution: {0: 2890, 1: 766}\n",
      "=== Under sampling results ===\n",
      "Final class distribution: {0: 2890, 1: 766}\n",
      "Training set size: 4000 -> 3656\n",
      "Samples removed: 344\n",
      "✅ Under sampling successful using tomek method\n",
      "After under sampling - Training set size: 3656 (was 4000)\n",
      "🔄 Applying SMOTE with method: smotenc\n",
      "Applying SMOTENC to handle class imbalance...\n",
      "Original class distribution: {0: 2890, 1: 766}\n",
      "Using SMOTENC for mixed data types...\n",
      "Numerical features shape: (3656, 4)\n",
      "Categorical features shape: (3656, 3)\n",
      "Categorical feature indices: [4, 5, 6]\n",
      "Combined features shape: (3656, 7)\n",
      "After SMOTENC class distribution: {0: 2890, 1: 2890}\n",
      "Training set size: 3656 -> 5780\n",
      "After SMOTE - Training set size: 5780 (was 3656)\n",
      "After SMOTE - Class distribution: {0: 2890, 1: 2890}\n",
      "After SMOTE - X_num_train shape: (5780, 4)\n",
      "After SMOTE - X_cat_train shape: (5780, 3)\n",
      "train_df_train_csv shape after DataFrame creation: (5780, 8)\n"
     ]
    },
    {
     "name": "stderr",
     "output_type": "stream",
     "text": [
      "100%|██████████| 3/3 [00:00<00:00, 191.93it/s]"
     ]
    },
    {
     "name": "stdout",
     "output_type": "stream",
     "text": [
      "Final train_df_train_csv_processed shape: (5780, 7)\n",
      "Final test_df_train_csv_processed shape: (1000, 7)\n",
      "=== END PREPROCESS DEBUG ===\n",
      "categorical features (cols): ['cat_0', 'cat_1', 'cat_2']\n",
      "categorical features (array): 3\n",
      "numerical features (cols): ['num_0', 'num_1', 'num_2', 'num_3']\n",
      "numerical features (array): 4\n"
     ]
    },
    {
     "name": "stderr",
     "output_type": "stream",
     "text": [
      "\n",
      "c:\\Users\\ShiShiuan\\Desktop\\機器學習與人工智慧實作\\venv\\lib\\site-packages\\sklearn\\pipeline.py:62: FutureWarning: This Pipeline instance is not fitted yet. Call 'fit' with appropriate arguments before using other methods such as transform, predict, etc. This will raise an error in 1.8 instead of the current warning.\n",
      "  warnings.warn(\n",
      "c:\\Users\\ShiShiuan\\Desktop\\機器學習與人工智慧實作\\venv\\lib\\site-packages\\sklearn\\pipeline.py:62: FutureWarning: This Pipeline instance is not fitted yet. Call 'fit' with appropriate arguments before using other methods such as transform, predict, etc. This will raise an error in 1.8 instead of the current warning.\n",
      "  warnings.warn(\n",
      "c:\\Users\\ShiShiuan\\Desktop\\機器學習與人工智慧實作\\venv\\lib\\site-packages\\sklearn\\pipeline.py:62: FutureWarning: This Pipeline instance is not fitted yet. Call 'fit' with appropriate arguments before using other methods such as transform, predict, etc. This will raise an error in 1.8 instead of the current warning.\n",
      "  warnings.warn(\n",
      "c:\\Users\\ShiShiuan\\Desktop\\機器學習與人工智慧實作\\venv\\lib\\site-packages\\sklearn\\pipeline.py:62: FutureWarning: This Pipeline instance is not fitted yet. Call 'fit' with appropriate arguments before using other methods such as transform, predict, etc. This will raise an error in 1.8 instead of the current warning.\n",
      "  warnings.warn(\n"
     ]
    }
   ],
   "source": [
    "ft_transformer_tomek_under_sampling = CustomerFTTransformer()\n",
    "ft_transformer_tomek_under_sampling.format_dataframe()\n",
    "ft_transformer_tomek_under_sampling.preprocess(use_smote=True, use_under_sampling=True, smote_method='smotenc', under_sampling_method='tomek')\n",
    "ft_transformer_tomek_under_sampling.set_feautres_processed()\n",
    "ft_transformer_tomek_under_sampling.set_tablar_dataset()\n",
    "ft_transformer_tomek_under_sampling.set_model_config()"
   ]
  },
  {
   "cell_type": "code",
   "execution_count": 5,
   "id": "3943dda6",
   "metadata": {},
   "outputs": [
    {
     "name": "stdout",
     "output_type": "stream",
     "text": [
      "=== Class Distribution Analysis ===\n",
      "Class distribution:\n",
      "  Class 0: 2890 samples (50.00%)\n",
      "  Class 1: 2890 samples (50.00%)\n",
      "Imbalance ratio: 1.00\n",
      "✅ Dataset is relatively balanced.\n"
     ]
    },
    {
     "data": {
      "text/plain": [
       "(target\n",
       " 0    2890\n",
       " 1    2890\n",
       " Name: count, dtype: int64,\n",
       " 1.0)"
      ]
     },
     "execution_count": 5,
     "metadata": {},
     "output_type": "execute_result"
    }
   ],
   "source": [
    "ft_transformer_tomek_under_sampling.check_class_distribution(ft_transformer_tomek_under_sampling.train_df_train_csv_processed, 'target')"
   ]
  },
  {
   "cell_type": "code",
   "execution_count": 10,
   "id": "a7a11ff5",
   "metadata": {},
   "outputs": [
    {
     "data": {
      "text/html": [
       "<div>\n",
       "<style scoped>\n",
       "    .dataframe tbody tr th:only-of-type {\n",
       "        vertical-align: middle;\n",
       "    }\n",
       "\n",
       "    .dataframe tbody tr th {\n",
       "        vertical-align: top;\n",
       "    }\n",
       "\n",
       "    .dataframe thead th {\n",
       "        text-align: right;\n",
       "    }\n",
       "</style>\n",
       "<table border=\"1\" class=\"dataframe\">\n",
       "  <thead>\n",
       "    <tr style=\"text-align: right;\">\n",
       "      <th></th>\n",
       "      <th>num_0</th>\n",
       "      <th>num_1</th>\n",
       "      <th>num_2</th>\n",
       "      <th>num_3</th>\n",
       "      <th>cat_0</th>\n",
       "      <th>cat_1</th>\n",
       "      <th>cat_2</th>\n",
       "      <th>target</th>\n",
       "    </tr>\n",
       "  </thead>\n",
       "  <tbody>\n",
       "    <tr>\n",
       "      <th>0</th>\n",
       "      <td>-0.990645</td>\n",
       "      <td>-0.867915</td>\n",
       "      <td>1.410351</td>\n",
       "      <td>-1.428785</td>\n",
       "      <td>1</td>\n",
       "      <td>1</td>\n",
       "      <td>2</td>\n",
       "      <td>0</td>\n",
       "    </tr>\n",
       "    <tr>\n",
       "      <th>1</th>\n",
       "      <td>0.863032</td>\n",
       "      <td>-0.867915</td>\n",
       "      <td>-0.856877</td>\n",
       "      <td>-0.722811</td>\n",
       "      <td>1</td>\n",
       "      <td>3</td>\n",
       "      <td>1</td>\n",
       "      <td>1</td>\n",
       "    </tr>\n",
       "    <tr>\n",
       "      <th>2</th>\n",
       "      <td>-0.450682</td>\n",
       "      <td>0.670448</td>\n",
       "      <td>-1.108791</td>\n",
       "      <td>-0.492910</td>\n",
       "      <td>0</td>\n",
       "      <td>4</td>\n",
       "      <td>2</td>\n",
       "      <td>1</td>\n",
       "    </tr>\n",
       "    <tr>\n",
       "      <th>3</th>\n",
       "      <td>-0.847568</td>\n",
       "      <td>-1.474177</td>\n",
       "      <td>0.076395</td>\n",
       "      <td>1.395110</td>\n",
       "      <td>0</td>\n",
       "      <td>1</td>\n",
       "      <td>0</td>\n",
       "      <td>1</td>\n",
       "    </tr>\n",
       "    <tr>\n",
       "      <th>4</th>\n",
       "      <td>0.424003</td>\n",
       "      <td>-0.512277</td>\n",
       "      <td>1.662265</td>\n",
       "      <td>0.689136</td>\n",
       "      <td>1</td>\n",
       "      <td>3</td>\n",
       "      <td>3</td>\n",
       "      <td>0</td>\n",
       "    </tr>\n",
       "    <tr>\n",
       "      <th>...</th>\n",
       "      <td>...</td>\n",
       "      <td>...</td>\n",
       "      <td>...</td>\n",
       "      <td>...</td>\n",
       "      <td>...</td>\n",
       "      <td>...</td>\n",
       "      <td>...</td>\n",
       "      <td>...</td>\n",
       "    </tr>\n",
       "    <tr>\n",
       "      <th>5775</th>\n",
       "      <td>-1.084300</td>\n",
       "      <td>0.067085</td>\n",
       "      <td>-1.062071</td>\n",
       "      <td>1.395110</td>\n",
       "      <td>0</td>\n",
       "      <td>4</td>\n",
       "      <td>3</td>\n",
       "      <td>1</td>\n",
       "    </tr>\n",
       "    <tr>\n",
       "      <th>5776</th>\n",
       "      <td>-1.529753</td>\n",
       "      <td>0.461136</td>\n",
       "      <td>-0.114137</td>\n",
       "      <td>-0.908414</td>\n",
       "      <td>0</td>\n",
       "      <td>3</td>\n",
       "      <td>2</td>\n",
       "      <td>1</td>\n",
       "    </tr>\n",
       "    <tr>\n",
       "      <th>5777</th>\n",
       "      <td>-0.348699</td>\n",
       "      <td>-1.579189</td>\n",
       "      <td>0.616123</td>\n",
       "      <td>-1.428785</td>\n",
       "      <td>1</td>\n",
       "      <td>2</td>\n",
       "      <td>3</td>\n",
       "      <td>1</td>\n",
       "    </tr>\n",
       "    <tr>\n",
       "      <th>5778</th>\n",
       "      <td>-0.303593</td>\n",
       "      <td>1.621546</td>\n",
       "      <td>1.239221</td>\n",
       "      <td>-0.722811</td>\n",
       "      <td>0</td>\n",
       "      <td>2</td>\n",
       "      <td>3</td>\n",
       "      <td>1</td>\n",
       "    </tr>\n",
       "    <tr>\n",
       "      <th>5779</th>\n",
       "      <td>-0.746740</td>\n",
       "      <td>-1.223552</td>\n",
       "      <td>-0.353049</td>\n",
       "      <td>-0.016838</td>\n",
       "      <td>0</td>\n",
       "      <td>0</td>\n",
       "      <td>2</td>\n",
       "      <td>1</td>\n",
       "    </tr>\n",
       "  </tbody>\n",
       "</table>\n",
       "<p>5780 rows × 8 columns</p>\n",
       "</div>"
      ],
      "text/plain": [
       "         num_0     num_1     num_2     num_3  cat_0  cat_1  cat_2  target\n",
       "0    -0.990645 -0.867915  1.410351 -1.428785      1      1      2       0\n",
       "1     0.863032 -0.867915 -0.856877 -0.722811      1      3      1       1\n",
       "2    -0.450682  0.670448 -1.108791 -0.492910      0      4      2       1\n",
       "3    -0.847568 -1.474177  0.076395  1.395110      0      1      0       1\n",
       "4     0.424003 -0.512277  1.662265  0.689136      1      3      3       0\n",
       "...        ...       ...       ...       ...    ...    ...    ...     ...\n",
       "5775 -1.084300  0.067085 -1.062071  1.395110      0      4      3       1\n",
       "5776 -1.529753  0.461136 -0.114137 -0.908414      0      3      2       1\n",
       "5777 -0.348699 -1.579189  0.616123 -1.428785      1      2      3       1\n",
       "5778 -0.303593  1.621546  1.239221 -0.722811      0      2      3       1\n",
       "5779 -0.746740 -1.223552 -0.353049 -0.016838      0      0      2       1\n",
       "\n",
       "[5780 rows x 8 columns]"
      ]
     },
     "execution_count": 10,
     "metadata": {},
     "output_type": "execute_result"
    }
   ],
   "source": [
    "ft_transformer_tomek_under_sampling.train_df_train_csv_processed"
   ]
  },
  {
   "cell_type": "code",
   "execution_count": 14,
   "id": "cc36ef89",
   "metadata": {},
   "outputs": [
    {
     "name": "stdout",
     "output_type": "stream",
     "text": [
      "Using current (post-sampling) data distribution for class weight computation\n",
      "Current class distribution: {0: 2890, 1: 2890}\n",
      "Class 0: weight = 1.0000\n",
      "Class 1: weight = 1.0000\n",
      "Original class distribution (for reference): {0: 3234, 1: 766}\n",
      "Using class weights: [1. 1.]\n"
     ]
    },
    {
     "name": "stderr",
     "output_type": "stream",
     "text": [
      "                                                                                    "
     ]
    },
    {
     "name": "stdout",
     "output_type": "stream",
     "text": [
      "Model saved as ./models/ft_transformer_model_tomek_under_sampling.pth\n"
     ]
    },
    {
     "name": "stderr",
     "output_type": "stream",
     "text": [
      "\r"
     ]
    }
   ],
   "source": [
    "ft_transformer_tomek_under_sampling.train_model(num_epochs=500, model_name='ft_transformer_model_tomek_under_sampling.pth', use_class_weight=True)"
   ]
  },
  {
   "cell_type": "code",
   "execution_count": 15,
   "id": "f9dad3af",
   "metadata": {},
   "outputs": [
    {
     "name": "stdout",
     "output_type": "stream",
     "text": [
      "Test Accuracy: 0.5880\n",
      "\n",
      "Classification Report:\n",
      "              precision    recall  f1-score   support\n",
      "\n",
      "           0       0.83      0.63      0.72       826\n",
      "           1       0.18      0.40      0.25       174\n",
      "\n",
      "    accuracy                           0.59      1000\n",
      "   macro avg       0.51      0.51      0.48      1000\n",
      "weighted avg       0.72      0.59      0.63      1000\n",
      "\n",
      "\n",
      "Confusion Matrix:\n",
      "[[519 307]\n",
      " [105  69]]\n",
      "\n",
      "Detailed Confusion Matrix:\n",
      "Predicted:       0       1\n",
      "Actual 0:     519     307\n",
      "Actual 1:     105      69\n"
     ]
    },
    {
     "name": "stderr",
     "output_type": "stream",
     "text": [
      "c:\\Users\\ShiShiuan\\Desktop\\機器學習與人工智慧實作\\src\\ft_transformer.py:386: FutureWarning: You are using `torch.load` with `weights_only=False` (the current default value), which uses the default pickle module implicitly. It is possible to construct malicious pickle data which will execute arbitrary code during unpickling (See https://github.com/pytorch/pytorch/blob/main/SECURITY.md#untrusted-models for more details). In a future release, the default value for `weights_only` will be flipped to `True`. This limits the functions that could be executed during unpickling. Arbitrary objects will no longer be allowed to be loaded via this mode unless they are explicitly allowlisted by the user via `torch.serialization.add_safe_globals`. We recommend you start setting `weights_only=True` for any use case where you don't have full control of the loaded file. Please open an issue on GitHub for any issues related to this experimental feature.\n",
      "  self.model.load_state_dict(torch.load(f\"./models/{model_name}\"))\n"
     ]
    },
    {
     "data": {
      "image/png": "[encoded data removed]",
      "text/plain": [
       "<Figure size 600x400 with 2 Axes>"
      ]
     },
     "metadata": {},
     "output_type": "display_data"
    },
    {
     "name": "stdout",
     "output_type": "stream",
     "text": [
      "混淆矩陣圖表已保存為 'confusion_matrix.png'\n"
     ]
    },
    {
     "data": {
      "text/plain": [
       "(0.588,\n",
       " array([[519, 307],\n",
       "        [105,  69]], dtype=int64))"
      ]
     },
     "execution_count": 15,
     "metadata": {},
     "output_type": "execute_result"
    },
    {
     "data": {
      "text/plain": [
       "<Figure size 640x480 with 0 Axes>"
      ]
     },
     "metadata": {},
     "output_type": "display_data"
    }
   ],
   "source": [
    "ft_transformer_tomek_under_sampling.evaluate_model(model_name='ft_transformer_model_tomek_under_sampling.pth')"
   ]
  },
  {
   "cell_type": "markdown",
   "id": "02761312",
   "metadata": {},
   "source": [
    "## ENN"
   ]
  },
  {
   "cell_type": "code",
   "execution_count": 3,
   "id": "9fddd2ff",
   "metadata": {},
   "outputs": [
    {
     "name": "stdout",
     "output_type": "stream",
     "text": [
      "Encoded gender: [0, 1]\n",
      "Encoded primary_diagnosis: [0, 1, 2, 3, 4]\n",
      "Encoded discharge_to: [0, 1, 2, 3]\n",
      "Encoded num_procedures: [0, 1, 2, 3, 4, 5, 6, 7, 8, 9]\n",
      "Encoded days_in_hospital: [0, 1, 2, 3, 4, 5, 6, 7, 8, 9, 10, 11, 12, 13]\n",
      "Encoded comorbidity_score: [0, 1, 2, 3, 4]\n",
      "=== Feature Encoding Complete ===\n",
      "Numerical features: ['age']\n",
      "Categorical features (encoded): ['gender', 'primary_diagnosis', 'discharge_to', 'num_procedures', 'days_in_hospital', 'comorbidity_score']\n",
      "\n",
      "Sample of encoded data:\n",
      "  gender primary_diagnosis discharge_to num_procedures days_in_hospital  \\\n",
      "0      1                 2            1              1                1   \n",
      "1      0                 0            2              2               12   \n",
      "2      1                 1            0              1                6   \n",
      "3      1                 0            3              9                1   \n",
      "4      1                 1            2              6                3   \n",
      "\n",
      "  comorbidity_score  \n",
      "0                 1  \n",
      "1                 2  \n",
      "2                 1  \n",
      "3                 2  \n",
      "4                 4  \n",
      "=== PREPROCESS DEBUG INFO ===\n",
      "Before sampling - Training set size: 4000\n",
      "Before sampling - Class distribution: {0: 3234, 1: 766}\n",
      "Before sampling - X_num_train shape: (4000, 1)\n",
      "Before sampling - X_cat_train shape: (4000, 6)\n",
      "🔄 Applying under sampling with method: enn\n",
      "=== Applying enn under sampling ===\n",
      "Original class distribution: {0: 3234, 1: 766}\n",
      "Imbalance ratio: 4.22\n",
      "Applying enn under sampling...\n",
      "=== Under sampling results ===\n",
      "Final class distribution: {0: 1705, 1: 766}\n",
      "Training set size: 4000 -> 2471\n",
      "Samples removed: 1529\n",
      "✅ Under sampling successful using enn method\n",
      "After under sampling - Training set size: 2471 (was 4000)\n",
      "train_df_train_csv shape after DataFrame creation: (2471, 8)\n"
     ]
    },
    {
     "name": "stderr",
     "output_type": "stream",
     "text": [
      "100%|██████████| 6/6 [00:00<?, ?it/s]"
     ]
    },
    {
     "name": "stdout",
     "output_type": "stream",
     "text": [
      "Final train_df_train_csv_processed shape: (2471, 7)\n",
      "Final test_df_train_csv_processed shape: (1000, 7)\n",
      "=== END PREPROCESS DEBUG ===\n",
      "categorical features (cols): ['cat_0', 'cat_1', 'cat_2', 'cat_3', 'cat_4', 'cat_5']\n",
      "categorical features (array): 6\n",
      "numerical features (cols): ['num_0']\n",
      "numerical features (array): 1\n"
     ]
    },
    {
     "name": "stderr",
     "output_type": "stream",
     "text": [
      "\n",
      "c:\\Users\\ShiShiuan\\Desktop\\機器學習與人工智慧實作\\venv\\lib\\site-packages\\sklearn\\pipeline.py:62: FutureWarning: This Pipeline instance is not fitted yet. Call 'fit' with appropriate arguments before using other methods such as transform, predict, etc. This will raise an error in 1.8 instead of the current warning.\n",
      "  warnings.warn(\n",
      "c:\\Users\\ShiShiuan\\Desktop\\機器學習與人工智慧實作\\venv\\lib\\site-packages\\sklearn\\pipeline.py:62: FutureWarning: This Pipeline instance is not fitted yet. Call 'fit' with appropriate arguments before using other methods such as transform, predict, etc. This will raise an error in 1.8 instead of the current warning.\n",
      "  warnings.warn(\n",
      "c:\\Users\\ShiShiuan\\Desktop\\機器學習與人工智慧實作\\venv\\lib\\site-packages\\sklearn\\pipeline.py:62: FutureWarning: This Pipeline instance is not fitted yet. Call 'fit' with appropriate arguments before using other methods such as transform, predict, etc. This will raise an error in 1.8 instead of the current warning.\n",
      "  warnings.warn(\n",
      "c:\\Users\\ShiShiuan\\Desktop\\機器學習與人工智慧實作\\venv\\lib\\site-packages\\sklearn\\pipeline.py:62: FutureWarning: This Pipeline instance is not fitted yet. Call 'fit' with appropriate arguments before using other methods such as transform, predict, etc. This will raise an error in 1.8 instead of the current warning.\n",
      "  warnings.warn(\n"
     ]
    }
   ],
   "source": [
    "ft_transformer_enn_under_sampling = CustomerFTTransformer()\n",
    "ft_transformer_enn_under_sampling.format_dataframe()\n",
    "ft_transformer_enn_under_sampling.preprocess(use_under_sampling=True, under_sampling_method='enn')\n",
    "ft_transformer_enn_under_sampling.set_feautres_processed()\n",
    "ft_transformer_enn_under_sampling.set_tablar_dataset()\n",
    "ft_transformer_enn_under_sampling.set_model_config()"
   ]
  },
  {
   "cell_type": "code",
   "execution_count": 4,
   "id": "bdf29c32",
   "metadata": {},
   "outputs": [
    {
     "data": {
      "text/html": [
       "<div>\n",
       "<style scoped>\n",
       "    .dataframe tbody tr th:only-of-type {\n",
       "        vertical-align: middle;\n",
       "    }\n",
       "\n",
       "    .dataframe tbody tr th {\n",
       "        vertical-align: top;\n",
       "    }\n",
       "\n",
       "    .dataframe thead th {\n",
       "        text-align: right;\n",
       "    }\n",
       "</style>\n",
       "<table border=\"1\" class=\"dataframe\">\n",
       "  <thead>\n",
       "    <tr style=\"text-align: right;\">\n",
       "      <th></th>\n",
       "      <th>num_0</th>\n",
       "      <th>cat_0</th>\n",
       "      <th>cat_1</th>\n",
       "      <th>cat_2</th>\n",
       "      <th>cat_3</th>\n",
       "      <th>cat_4</th>\n",
       "      <th>cat_5</th>\n",
       "      <th>target</th>\n",
       "    </tr>\n",
       "  </thead>\n",
       "  <tbody>\n",
       "    <tr>\n",
       "      <th>0</th>\n",
       "      <td>0.585107</td>\n",
       "      <td>0</td>\n",
       "      <td>1</td>\n",
       "      <td>2</td>\n",
       "      <td>8</td>\n",
       "      <td>12</td>\n",
       "      <td>4</td>\n",
       "      <td>0</td>\n",
       "    </tr>\n",
       "    <tr>\n",
       "      <th>1</th>\n",
       "      <td>-0.734232</td>\n",
       "      <td>1</td>\n",
       "      <td>0</td>\n",
       "      <td>3</td>\n",
       "      <td>1</td>\n",
       "      <td>4</td>\n",
       "      <td>1</td>\n",
       "      <td>1</td>\n",
       "    </tr>\n",
       "    <tr>\n",
       "      <th>2</th>\n",
       "      <td>-1.027418</td>\n",
       "      <td>1</td>\n",
       "      <td>1</td>\n",
       "      <td>2</td>\n",
       "      <td>6</td>\n",
       "      <td>12</td>\n",
       "      <td>0</td>\n",
       "      <td>1</td>\n",
       "    </tr>\n",
       "    <tr>\n",
       "      <th>3</th>\n",
       "      <td>-0.050130</td>\n",
       "      <td>1</td>\n",
       "      <td>2</td>\n",
       "      <td>2</td>\n",
       "      <td>3</td>\n",
       "      <td>2</td>\n",
       "      <td>0</td>\n",
       "      <td>0</td>\n",
       "    </tr>\n",
       "    <tr>\n",
       "      <th>4</th>\n",
       "      <td>-0.392181</td>\n",
       "      <td>0</td>\n",
       "      <td>1</td>\n",
       "      <td>3</td>\n",
       "      <td>2</td>\n",
       "      <td>0</td>\n",
       "      <td>2</td>\n",
       "      <td>0</td>\n",
       "    </tr>\n",
       "    <tr>\n",
       "      <th>...</th>\n",
       "      <td>...</td>\n",
       "      <td>...</td>\n",
       "      <td>...</td>\n",
       "      <td>...</td>\n",
       "      <td>...</td>\n",
       "      <td>...</td>\n",
       "      <td>...</td>\n",
       "      <td>...</td>\n",
       "    </tr>\n",
       "    <tr>\n",
       "      <th>2466</th>\n",
       "      <td>0.389650</td>\n",
       "      <td>1</td>\n",
       "      <td>3</td>\n",
       "      <td>0</td>\n",
       "      <td>4</td>\n",
       "      <td>10</td>\n",
       "      <td>4</td>\n",
       "      <td>0</td>\n",
       "    </tr>\n",
       "    <tr>\n",
       "      <th>2467</th>\n",
       "      <td>-0.196723</td>\n",
       "      <td>0</td>\n",
       "      <td>2</td>\n",
       "      <td>0</td>\n",
       "      <td>0</td>\n",
       "      <td>6</td>\n",
       "      <td>2</td>\n",
       "      <td>0</td>\n",
       "    </tr>\n",
       "    <tr>\n",
       "      <th>2468</th>\n",
       "      <td>-0.392181</td>\n",
       "      <td>0</td>\n",
       "      <td>1</td>\n",
       "      <td>0</td>\n",
       "      <td>3</td>\n",
       "      <td>3</td>\n",
       "      <td>4</td>\n",
       "      <td>0</td>\n",
       "    </tr>\n",
       "    <tr>\n",
       "      <th>2469</th>\n",
       "      <td>-1.711519</td>\n",
       "      <td>0</td>\n",
       "      <td>3</td>\n",
       "      <td>3</td>\n",
       "      <td>1</td>\n",
       "      <td>10</td>\n",
       "      <td>2</td>\n",
       "      <td>0</td>\n",
       "    </tr>\n",
       "    <tr>\n",
       "      <th>2470</th>\n",
       "      <td>-1.271740</td>\n",
       "      <td>1</td>\n",
       "      <td>1</td>\n",
       "      <td>3</td>\n",
       "      <td>2</td>\n",
       "      <td>9</td>\n",
       "      <td>2</td>\n",
       "      <td>0</td>\n",
       "    </tr>\n",
       "  </tbody>\n",
       "</table>\n",
       "<p>2471 rows × 8 columns</p>\n",
       "</div>"
      ],
      "text/plain": [
       "         num_0  cat_0  cat_1  cat_2  cat_3  cat_4  cat_5  target\n",
       "0     0.585107      0      1      2      8     12      4       0\n",
       "1    -0.734232      1      0      3      1      4      1       1\n",
       "2    -1.027418      1      1      2      6     12      0       1\n",
       "3    -0.050130      1      2      2      3      2      0       0\n",
       "4    -0.392181      0      1      3      2      0      2       0\n",
       "...        ...    ...    ...    ...    ...    ...    ...     ...\n",
       "2466  0.389650      1      3      0      4     10      4       0\n",
       "2467 -0.196723      0      2      0      0      6      2       0\n",
       "2468 -0.392181      0      1      0      3      3      4       0\n",
       "2469 -1.711519      0      3      3      1     10      2       0\n",
       "2470 -1.271740      1      1      3      2      9      2       0\n",
       "\n",
       "[2471 rows x 8 columns]"
      ]
     },
     "execution_count": 4,
     "metadata": {},
     "output_type": "execute_result"
    }
   ],
   "source": [
    "ft_transformer_enn_under_sampling.train_df_train_csv_processed"
   ]
  },
  {
   "cell_type": "code",
   "execution_count": 5,
   "id": "d23041dc",
   "metadata": {},
   "outputs": [
    {
     "name": "stdout",
     "output_type": "stream",
     "text": [
      "=== Class Distribution Analysis ===\n",
      "Class distribution:\n",
      "  Class 0: 1705 samples (69.00%)\n",
      "  Class 1: 766 samples (31.00%)\n",
      "Imbalance ratio: 2.23\n",
      "⚠️  Dataset is imbalanced.\n"
     ]
    },
    {
     "data": {
      "text/plain": [
       "(target\n",
       " 0    1705\n",
       " 1     766\n",
       " Name: count, dtype: int64,\n",
       " 2.2258485639686683)"
      ]
     },
     "execution_count": 5,
     "metadata": {},
     "output_type": "execute_result"
    }
   ],
   "source": [
    "ft_transformer_enn_under_sampling.check_class_distribution(ft_transformer_enn_under_sampling.train_df_train_csv_processed, 'target')"
   ]
  },
  {
   "cell_type": "code",
   "execution_count": 6,
   "id": "52333f97",
   "metadata": {},
   "outputs": [
    {
     "name": "stdout",
     "output_type": "stream",
     "text": [
      "Using current (post-sampling) data distribution for class weight computation\n",
      "Current class distribution: {0: 1705, 1: 766}\n",
      "Class 0: weight = 0.7246\n",
      "Class 1: weight = 1.6129\n",
      "Original class distribution (for reference): {0: 3234, 1: 766}\n",
      "Using class weights: [0.72463346 1.6129243 ]\n"
     ]
    },
    {
     "name": "stderr",
     "output_type": "stream",
     "text": [
      "                                                                                    "
     ]
    },
    {
     "name": "stdout",
     "output_type": "stream",
     "text": [
      "Model saved as ./models/ft_transformer_model_enn_under_sampling.pth\n"
     ]
    },
    {
     "name": "stderr",
     "output_type": "stream",
     "text": [
      "\r"
     ]
    }
   ],
   "source": [
    "ft_transformer_enn_under_sampling.train_model(num_epochs=500, model_name='ft_transformer_model_enn_under_sampling.pth', use_class_weight=True)"
   ]
  },
  {
   "cell_type": "code",
   "execution_count": 7,
   "id": "70273163",
   "metadata": {},
   "outputs": [
    {
     "name": "stderr",
     "output_type": "stream",
     "text": [
      "c:\\Users\\ShiShiuan\\Desktop\\機器學習與人工智慧實作\\src\\ft_transformer.py:394: FutureWarning: You are using `torch.load` with `weights_only=False` (the current default value), which uses the default pickle module implicitly. It is possible to construct malicious pickle data which will execute arbitrary code during unpickling (See https://github.com/pytorch/pytorch/blob/main/SECURITY.md#untrusted-models for more details). In a future release, the default value for `weights_only` will be flipped to `True`. This limits the functions that could be executed during unpickling. Arbitrary objects will no longer be allowed to be loaded via this mode unless they are explicitly allowlisted by the user via `torch.serialization.add_safe_globals`. We recommend you start setting `weights_only=True` for any use case where you don't have full control of the loaded file. Please open an issue on GitHub for any issues related to this experimental feature.\n",
      "  self.model.load_state_dict(torch.load(f\"./models/{model_name}\"))\n"
     ]
    },
    {
     "name": "stdout",
     "output_type": "stream",
     "text": [
      "Test Accuracy: 0.4030\n",
      "\n",
      "Classification Report:\n",
      "              precision    recall  f1-score   support\n",
      "\n",
      "           0       0.81      0.36      0.50       826\n",
      "           1       0.17      0.60      0.26       174\n",
      "\n",
      "    accuracy                           0.40      1000\n",
      "   macro avg       0.49      0.48      0.38      1000\n",
      "weighted avg       0.70      0.40      0.46      1000\n",
      "\n",
      "\n",
      "Confusion Matrix:\n",
      "[[298 528]\n",
      " [ 69 105]]\n",
      "\n",
      "Detailed Confusion Matrix:\n",
      "Predicted:       0       1\n",
      "Actual 0:     298     528\n",
      "Actual 1:      69     105\n"
     ]
    },
    {
     "data": {
      "image/png": "[encoded data removed]",
      "text/plain": [
       "<Figure size 600x400 with 2 Axes>"
      ]
     },
     "metadata": {},
     "output_type": "display_data"
    },
    {
     "name": "stdout",
     "output_type": "stream",
     "text": [
      "混淆矩陣圖表已保存為 'confusion_matrix.png'\n"
     ]
    },
    {
     "data": {
      "text/plain": [
       "(0.403,\n",
       " array([[298, 528],\n",
       "        [ 69, 105]], dtype=int64))"
      ]
     },
     "execution_count": 7,
     "metadata": {},
     "output_type": "execute_result"
    },
    {
     "data": {
      "text/plain": [
       "<Figure size 640x480 with 0 Axes>"
      ]
     },
     "metadata": {},
     "output_type": "display_data"
    }
   ],
   "source": [
    "ft_transformer_enn_under_sampling.evaluate_model(model_name='ft_transformer_model_enn_under_sampling.pth')"
   ]
  },
  {
   "cell_type": "markdown",
   "id": "e292f568",
   "metadata": {},
   "source": [
    "# Class Weight"
   ]
  },
  {
   "cell_type": "code",
   "execution_count": 6,
   "id": "5f104d4d",
   "metadata": {},
   "outputs": [
    {
     "name": "stdout",
     "output_type": "stream",
     "text": [
      "Encoded gender: [0, 1]\n",
      "Encoded primary_diagnosis: [0, 1, 2, 3, 4]\n",
      "Encoded discharge_to: [0, 1, 2, 3]\n",
      "=== Feature Encoding Complete ===\n",
      "Numerical features: ['age', 'num_procedures', 'days_in_hospital', 'comorbidity_score']\n",
      "Categorical features (encoded): ['gender', 'primary_diagnosis', 'discharge_to']\n",
      "\n",
      "Sample of encoded data:\n",
      "  gender primary_diagnosis discharge_to\n",
      "0      1                 2            1\n",
      "1      0                 0            2\n",
      "2      1                 1            0\n",
      "3      1                 0            3\n",
      "4      1                 1            2\n",
      "=== PREPROCESS DEBUG INFO ===\n",
      "Before sampling - Training set size: 4000\n",
      "Before sampling - Class distribution: {0: 3234, 1: 766}\n",
      "Before sampling - X_num_train shape: (4000, 4)\n",
      "Before sampling - X_cat_train shape: (4000, 3)\n",
      "📝 No sampling method applied\n",
      "train_df_train_csv shape after DataFrame creation: (4000, 8)\n"
     ]
    },
    {
     "name": "stderr",
     "output_type": "stream",
     "text": [
      "100%|██████████| 3/3 [00:00<?, ?it/s]"
     ]
    },
    {
     "name": "stdout",
     "output_type": "stream",
     "text": [
      "Final train_df_train_csv_processed shape: (4000, 7)\n",
      "Final test_df_train_csv_processed shape: (1000, 7)\n",
      "=== END PREPROCESS DEBUG ===\n",
      "categorical features (cols): ['cat_0', 'cat_1', 'cat_2']\n",
      "categorical features (array): 3\n",
      "numerical features (cols): ['num_0', 'num_1', 'num_2', 'num_3']\n",
      "numerical features (array): 4\n"
     ]
    },
    {
     "name": "stderr",
     "output_type": "stream",
     "text": [
      "\n",
      "c:\\Users\\ShiShiuan\\Desktop\\機器學習與人工智慧實作\\venv\\lib\\site-packages\\sklearn\\pipeline.py:62: FutureWarning: This Pipeline instance is not fitted yet. Call 'fit' with appropriate arguments before using other methods such as transform, predict, etc. This will raise an error in 1.8 instead of the current warning.\n",
      "  warnings.warn(\n",
      "c:\\Users\\ShiShiuan\\Desktop\\機器學習與人工智慧實作\\venv\\lib\\site-packages\\sklearn\\pipeline.py:62: FutureWarning: This Pipeline instance is not fitted yet. Call 'fit' with appropriate arguments before using other methods such as transform, predict, etc. This will raise an error in 1.8 instead of the current warning.\n",
      "  warnings.warn(\n",
      "c:\\Users\\ShiShiuan\\Desktop\\機器學習與人工智慧實作\\venv\\lib\\site-packages\\sklearn\\pipeline.py:62: FutureWarning: This Pipeline instance is not fitted yet. Call 'fit' with appropriate arguments before using other methods such as transform, predict, etc. This will raise an error in 1.8 instead of the current warning.\n",
      "  warnings.warn(\n",
      "c:\\Users\\ShiShiuan\\Desktop\\機器學習與人工智慧實作\\venv\\lib\\site-packages\\sklearn\\pipeline.py:62: FutureWarning: This Pipeline instance is not fitted yet. Call 'fit' with appropriate arguments before using other methods such as transform, predict, etc. This will raise an error in 1.8 instead of the current warning.\n",
      "  warnings.warn(\n"
     ]
    }
   ],
   "source": [
    "ft_transformer_class_weight = CustomerFTTransformer()\n",
    "ft_transformer_class_weight.format_dataframe()\n",
    "ft_transformer_class_weight.preprocess()\n",
    "ft_transformer_class_weight.set_feautres_processed()\n",
    "ft_transformer_class_weight.set_tablar_dataset()\n",
    "ft_transformer_class_weight.set_model_config()"
   ]
  },
  {
   "cell_type": "code",
   "execution_count": 7,
   "id": "3e5c0988",
   "metadata": {},
   "outputs": [
    {
     "name": "stdout",
     "output_type": "stream",
     "text": [
      "=== Class Distribution Analysis ===\n",
      "Class distribution:\n",
      "  Class 0: 3234 samples (80.85%)\n",
      "  Class 1: 766 samples (19.15%)\n",
      "Imbalance ratio: 4.22\n",
      "⚠️  Dataset is imbalanced.\n"
     ]
    },
    {
     "data": {
      "text/plain": [
       "(target\n",
       " 0    3234\n",
       " 1     766\n",
       " Name: count, dtype: int64,\n",
       " 4.221932114882507)"
      ]
     },
     "execution_count": 7,
     "metadata": {},
     "output_type": "execute_result"
    }
   ],
   "source": [
    "ft_transformer_class_weight.check_class_distribution(ft_transformer_class_weight.train_df_train_csv_processed, 'target')"
   ]
  },
  {
   "cell_type": "code",
   "execution_count": 10,
   "id": "3637e1db",
   "metadata": {},
   "outputs": [
    {
     "name": "stdout",
     "output_type": "stream",
     "text": [
      "Using current (post-sampling) data distribution for class weight computation\n",
      "Current class distribution: {0: 3234, 1: 766}\n",
      "Class 0: weight = 0.6184\n",
      "Class 1: weight = 2.6110\n",
      "Original class distribution (for reference): {0: 3234, 1: 766}\n",
      "Using class weights: [0.6184292 2.610966 ]\n"
     ]
    },
    {
     "name": "stderr",
     "output_type": "stream",
     "text": [
      "                                                                                    "
     ]
    },
    {
     "name": "stdout",
     "output_type": "stream",
     "text": [
      "Model saved as ./models/ft_transformer_model_class_weight.pth\n"
     ]
    },
    {
     "name": "stderr",
     "output_type": "stream",
     "text": [
      "\r"
     ]
    }
   ],
   "source": [
    "ft_transformer_class_weight.train_model(num_epochs=100, model_name='ft_transformer_model_class_weight.pth', use_class_weight=True)"
   ]
  },
  {
   "cell_type": "code",
   "execution_count": 11,
   "id": "6e0f1dc6",
   "metadata": {},
   "outputs": [
    {
     "name": "stdout",
     "output_type": "stream",
     "text": [
      "Test Accuracy: 0.6090\n",
      "\n",
      "Classification Report:\n",
      "              precision    recall  f1-score   support\n",
      "\n",
      "           0       0.82      0.67      0.74       826\n",
      "           1       0.16      0.30      0.21       174\n",
      "\n",
      "    accuracy                           0.61      1000\n",
      "   macro avg       0.49      0.49      0.48      1000\n",
      "weighted avg       0.71      0.61      0.65      1000\n",
      "\n",
      "\n",
      "Confusion Matrix:\n",
      "[[557 269]\n",
      " [122  52]]\n",
      "\n",
      "Detailed Confusion Matrix:\n",
      "Predicted:       0       1\n",
      "Actual 0:     557     269\n",
      "Actual 1:     122      52\n"
     ]
    },
    {
     "name": "stderr",
     "output_type": "stream",
     "text": [
      "c:\\Users\\ShiShiuan\\Desktop\\機器學習與人工智慧實作\\src\\ft_transformer.py:394: FutureWarning: You are using `torch.load` with `weights_only=False` (the current default value), which uses the default pickle module implicitly. It is possible to construct malicious pickle data which will execute arbitrary code during unpickling (See https://github.com/pytorch/pytorch/blob/main/SECURITY.md#untrusted-models for more details). In a future release, the default value for `weights_only` will be flipped to `True`. This limits the functions that could be executed during unpickling. Arbitrary objects will no longer be allowed to be loaded via this mode unless they are explicitly allowlisted by the user via `torch.serialization.add_safe_globals`. We recommend you start setting `weights_only=True` for any use case where you don't have full control of the loaded file. Please open an issue on GitHub for any issues related to this experimental feature.\n",
      "  self.model.load_state_dict(torch.load(f\"./models/{model_name}\"))\n"
     ]
    },
    {
     "data": {
      "image/png": "[encoded data removed]",
      "text/plain": [
       "<Figure size 600x400 with 2 Axes>"
      ]
     },
     "metadata": {},
     "output_type": "display_data"
    },
    {
     "name": "stdout",
     "output_type": "stream",
     "text": [
      "混淆矩陣圖表已保存為 'confusion_matrix.png'\n"
     ]
    },
    {
     "data": {
      "text/plain": [
       "(0.609,\n",
       " array([[557, 269],\n",
       "        [122,  52]], dtype=int64))"
      ]
     },
     "execution_count": 11,
     "metadata": {},
     "output_type": "execute_result"
    },
    {
     "data": {
      "text/plain": [
       "<Figure size 640x480 with 0 Axes>"
      ]
     },
     "metadata": {},
     "output_type": "display_data"
    }
   ],
   "source": [
    "ft_transformer_class_weight.evaluate_model(model_name='ft_transformer_model_class_weight.pth')"
   ]
  }
 ],
 "metadata": {
  "kernelspec": {
   "display_name": "venv",
   "language": "python",
   "name": "python3"
  },
  "language_info": {
   "codemirror_mode": {
    "name": "ipython",
    "version": 3
   },
   "file_extension": ".py",
   "mimetype": "text/x-python",
   "name": "python",
   "nbconvert_exporter": "python",
   "pygments_lexer": "ipython3",
   "version": "3.10.3"
  }
 },
 "nbformat": 4,
 "nbformat_minor": 5
}
