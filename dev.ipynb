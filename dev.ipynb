{
 "cells": [
  {
   "cell_type": "code",
   "execution_count": 1,
   "id": "eea1603e",
   "metadata": {},
   "outputs": [
    {
     "name": "stderr",
     "output_type": "stream",
     "text": [
      "c:\\Users\\ShiShiuan\\Desktop\\機器學習與人工智慧實作\\venv\\lib\\site-packages\\tqdm\\auto.py:21: TqdmWarning: IProgress not found. Please update jupyter and ipywidgets. See https://ipywidgets.readthedocs.io/en/stable/user_install.html\n",
      "  from .autonotebook import tqdm as notebook_tqdm\n"
     ]
    }
   ],
   "source": [
    "from src.ft_transformer import CustomerFTTransformer"
   ]
  },
  {
   "cell_type": "markdown",
   "id": "9107791c",
   "metadata": {},
   "source": [
    "# Use Original Data"
   ]
  },
  {
   "cell_type": "code",
   "execution_count": 2,
   "id": "a708f23b",
   "metadata": {},
   "outputs": [
    {
     "name": "stdout",
     "output_type": "stream",
     "text": [
      "Encoded gender: [0, 1]\n",
      "Encoded primary_diagnosis: [0, 1, 2, 3, 4]\n",
      "Encoded discharge_to: [0, 1, 2, 3]\n",
      "=== Feature Encoding Complete ===\n",
      "Numerical features: ['age', 'num_procedures', 'days_in_hospital', 'comorbidity_score']\n",
      "Categorical features (encoded): ['gender', 'primary_diagnosis', 'discharge_to']\n",
      "\n",
      "Sample of encoded data:\n",
      "  gender primary_diagnosis discharge_to\n",
      "0      1                 2            1\n",
      "1      0                 0            2\n",
      "2      1                 1            0\n",
      "3      1                 0            3\n",
      "4      1                 1            2\n",
      "train_df_train_csv shape after DataFrame creation: (4000, 8)\n"
     ]
    },
    {
     "name": "stderr",
     "output_type": "stream",
     "text": [
      "100%|██████████| 3/3 [00:00<00:00, 500.06it/s]"
     ]
    },
    {
     "name": "stdout",
     "output_type": "stream",
     "text": [
      "Final train_df_train_csv_processed shape: (4000, 7)\n",
      "Final test_df_train_csv_processed shape: (1000, 7)\n",
      "=== END PREPROCESS DEBUG ===\n",
      "categorical features (cols): ['cat_0', 'cat_1', 'cat_2']\n",
      "categorical features (array): 3\n",
      "numerical features (cols): ['num_0', 'num_1', 'num_2', 'num_3']\n",
      "numerical features (array): 4\n"
     ]
    },
    {
     "name": "stderr",
     "output_type": "stream",
     "text": [
      "\n",
      "c:\\Users\\ShiShiuan\\Desktop\\機器學習與人工智慧實作\\venv\\lib\\site-packages\\sklearn\\pipeline.py:62: FutureWarning: This Pipeline instance is not fitted yet. Call 'fit' with appropriate arguments before using other methods such as transform, predict, etc. This will raise an error in 1.8 instead of the current warning.\n",
      "  warnings.warn(\n",
      "c:\\Users\\ShiShiuan\\Desktop\\機器學習與人工智慧實作\\venv\\lib\\site-packages\\sklearn\\pipeline.py:62: FutureWarning: This Pipeline instance is not fitted yet. Call 'fit' with appropriate arguments before using other methods such as transform, predict, etc. This will raise an error in 1.8 instead of the current warning.\n",
      "  warnings.warn(\n",
      "c:\\Users\\ShiShiuan\\Desktop\\機器學習與人工智慧實作\\venv\\lib\\site-packages\\sklearn\\pipeline.py:62: FutureWarning: This Pipeline instance is not fitted yet. Call 'fit' with appropriate arguments before using other methods such as transform, predict, etc. This will raise an error in 1.8 instead of the current warning.\n",
      "  warnings.warn(\n",
      "c:\\Users\\ShiShiuan\\Desktop\\機器學習與人工智慧實作\\venv\\lib\\site-packages\\sklearn\\pipeline.py:62: FutureWarning: This Pipeline instance is not fitted yet. Call 'fit' with appropriate arguments before using other methods such as transform, predict, etc. This will raise an error in 1.8 instead of the current warning.\n",
      "  warnings.warn(\n"
     ]
    }
   ],
   "source": [
    "ft_transformer = CustomerFTTransformer()\n",
    "ft_transformer.format_dataframe()\n",
    "ft_transformer.preprocess(use_smote=False)\n",
    "ft_transformer.set_feautres_processed()\n",
    "ft_transformer.set_tablar_dataset()\n",
    "ft_transformer.set_model_config()"
   ]
  },
  {
   "cell_type": "code",
   "execution_count": 3,
   "id": "dee6f854",
   "metadata": {},
   "outputs": [
    {
     "name": "stdout",
     "output_type": "stream",
     "text": [
      "=== Class Distribution Analysis ===\n",
      "Class distribution:\n",
      "  Class 0: 3234 samples (80.85%)\n",
      "  Class 1: 766 samples (19.15%)\n",
      "Imbalance ratio: 4.22\n",
      "⚠️  Dataset is imbalanced.\n"
     ]
    },
    {
     "data": {
      "text/plain": [
       "(target\n",
       " 0    3234\n",
       " 1     766\n",
       " Name: count, dtype: int64,\n",
       " 4.221932114882507)"
      ]
     },
     "execution_count": 3,
     "metadata": {},
     "output_type": "execute_result"
    }
   ],
   "source": [
    "ft_transformer.check_class_distribution(ft_transformer.train_df_train_csv_processed, 'target')"
   ]
  },
  {
   "cell_type": "code",
   "execution_count": 4,
   "id": "04c7386f",
   "metadata": {},
   "outputs": [
    {
     "name": "stdout",
     "output_type": "stream",
     "text": [
      "Using standard CrossEntropyLoss (no class weights)\n"
     ]
    },
    {
     "name": "stderr",
     "output_type": "stream",
     "text": [
      "                                                                                    \r"
     ]
    },
    {
     "name": "stdout",
     "output_type": "stream",
     "text": [
      "Model saved as ./models/ft_transformer_model\n",
      "\n",
      "=== Training Set Evaluation ===\n",
      "Training Set Accuracy: 0.8912\n",
      "\n",
      "Training Set Classification Report:\n",
      "              precision    recall  f1-score   support\n",
      "\n",
      "           0       0.90      0.97      0.94      3234\n",
      "           1       0.81      0.56      0.66       766\n",
      "\n",
      "    accuracy                           0.89      4000\n",
      "   macro avg       0.86      0.76      0.80      4000\n",
      "weighted avg       0.89      0.89      0.88      4000\n",
      "\n",
      "\n",
      "Training Set Confusion Matrix:\n",
      "[[3136   98]\n",
      " [ 337  429]]\n",
      "Training Set ROC AUC: 0.9397\n",
      "✅ 訓練集評估圖表已保存為 'training_metrics.png'\n"
     ]
    },
    {
     "name": "stderr",
     "output_type": "stream",
     "text": [
      "c:\\Users\\ShiShiuan\\Desktop\\機器學習與人工智慧實作\\src\\ft_transformer.py:722: UserWarning: FigureCanvasAgg is non-interactive, and thus cannot be shown\n",
      "  plt.show()\n"
     ]
    },
    {
     "data": {
      "text/plain": [
       "{'model_name': 'ft_transformer_model', 'training_completed': True}"
      ]
     },
     "execution_count": 4,
     "metadata": {},
     "output_type": "execute_result"
    }
   ],
   "source": [
    "ft_transformer.train_model(num_epochs=100, model_name='ft_transformer_model')"
   ]
  },
  {
   "cell_type": "code",
   "execution_count": 5,
   "id": "d2524c67",
   "metadata": {},
   "outputs": [
    {
     "name": "stderr",
     "output_type": "stream",
     "text": [
      "c:\\Users\\ShiShiuan\\Desktop\\機器學習與人工智慧實作\\src\\ft_transformer.py:824: FutureWarning: You are using `torch.load` with `weights_only=False` (the current default value), which uses the default pickle module implicitly. It is possible to construct malicious pickle data which will execute arbitrary code during unpickling (See https://github.com/pytorch/pytorch/blob/main/SECURITY.md#untrusted-models for more details). In a future release, the default value for `weights_only` will be flipped to `True`. This limits the functions that could be executed during unpickling. Arbitrary objects will no longer be allowed to be loaded via this mode unless they are explicitly allowlisted by the user via `torch.serialization.add_safe_globals`. We recommend you start setting `weights_only=True` for any use case where you don't have full control of the loaded file. Please open an issue on GitHub for any issues related to this experimental feature.\n",
      "  self.model.load_state_dict(torch.load(f\"./models/{model_name}\"))\n",
      "c:\\Users\\ShiShiuan\\Desktop\\機器學習與人工智慧實作\\src\\ft_transformer.py:896: UserWarning: FigureCanvasAgg is non-interactive, and thus cannot be shown\n",
      "  plt.show()\n"
     ]
    },
    {
     "name": "stdout",
     "output_type": "stream",
     "text": [
      "Test Accuracy: 0.7640\n",
      "\n",
      "Classification Report:\n",
      "              precision    recall  f1-score   support\n",
      "\n",
      "           0       0.83      0.90      0.86       826\n",
      "           1       0.21      0.13      0.16       174\n",
      "\n",
      "    accuracy                           0.76      1000\n",
      "   macro avg       0.52      0.51      0.51      1000\n",
      "weighted avg       0.72      0.76      0.74      1000\n",
      "\n",
      "\n",
      "Confusion Matrix:\n",
      "[[741  85]\n",
      " [151  23]]\n",
      "\n",
      "Detailed Confusion Matrix:\n",
      "Predicted:       0       1\n",
      "Actual 0:     741      85\n",
      "Actual 1:     151      23\n",
      "混淆矩陣圖表已保存為 'confusion_matrix.png'\n"
     ]
    },
    {
     "data": {
      "text/plain": [
       "(0.764,\n",
       " array([[741,  85],\n",
       "        [151,  23]], dtype=int64))"
      ]
     },
     "execution_count": 5,
     "metadata": {},
     "output_type": "execute_result"
    }
   ],
   "source": [
    "ft_transformer.evaluate_model(model_name='ft_transformer_model')"
   ]
  },
  {
   "cell_type": "markdown",
   "id": "750810ca",
   "metadata": {},
   "source": [
    "# Over Sampling"
   ]
  },
  {
   "cell_type": "markdown",
   "id": "9aab1e06",
   "metadata": {},
   "source": [
    "## SMOTE"
   ]
  },
  {
   "cell_type": "code",
   "execution_count": 28,
   "id": "16722652",
   "metadata": {},
   "outputs": [
    {
     "name": "stdout",
     "output_type": "stream",
     "text": [
      "Encoded gender: [0, 1]\n",
      "Encoded primary_diagnosis: [0, 1, 2, 3, 4]\n",
      "Encoded discharge_to: [0, 1, 2, 3]\n",
      "Encoded num_procedures: [0, 1, 2, 3, 4, 5, 6, 7, 8, 9]\n",
      "Encoded days_in_hospital: [0, 1, 2, 3, 4, 5, 6, 7, 8, 9, 10, 11, 12, 13]\n",
      "Encoded comorbidity_score: [0, 1, 2, 3, 4]\n",
      "=== Feature Encoding Complete ===\n",
      "Numerical features: ['age']\n",
      "Categorical features (encoded): ['gender', 'primary_diagnosis', 'discharge_to', 'num_procedures', 'days_in_hospital', 'comorbidity_score']\n",
      "\n",
      "Sample of encoded data:\n",
      "  gender primary_diagnosis discharge_to num_procedures days_in_hospital  \\\n",
      "0      1                 2            1              1                1   \n",
      "1      0                 0            2              2               12   \n",
      "2      1                 1            0              1                6   \n",
      "3      1                 0            3              9                1   \n",
      "4      1                 1            2              6                3   \n",
      "\n",
      "  comorbidity_score  \n",
      "0                 1  \n",
      "1                 2  \n",
      "2                 1  \n",
      "3                 2  \n",
      "4                 4  \n",
      "=== PREPROCESS DEBUG INFO ===\n",
      "Before sampling - Training set size: 4000\n",
      "Before sampling - Class distribution: {0: 3234, 1: 766}\n",
      "Before sampling - X_num_train shape: (4000, 1)\n",
      "Before sampling - X_cat_train shape: (4000, 6)\n",
      "🔄 Applying SMOTE with method: smote\n",
      "Applying SMOTE to handle class imbalance...\n",
      "Original class distribution: {0: 3234, 1: 766}\n",
      "After SMOTE class distribution: {0: 3234, 1: 3234}\n",
      "Training set size: 4000 -> 6468\n",
      "After SMOTE - Training set size: 6468 (was 4000)\n",
      "After SMOTE - Class distribution: {0: 3234, 1: 3234}\n",
      "After SMOTE - X_num_train shape: (6468, 1)\n",
      "After SMOTE - X_cat_train shape: (6468, 6)\n",
      "train_df_train_csv shape after DataFrame creation: (6468, 8)\n"
     ]
    },
    {
     "name": "stderr",
     "output_type": "stream",
     "text": [
      "100%|██████████| 6/6 [00:00<00:00, 382.31it/s]"
     ]
    },
    {
     "name": "stdout",
     "output_type": "stream",
     "text": [
      "Final train_df_train_csv_processed shape: (6468, 7)\n",
      "Final test_df_train_csv_processed shape: (1000, 7)\n",
      "=== END PREPROCESS DEBUG ===\n",
      "categorical features (cols): ['cat_0', 'cat_1', 'cat_2', 'cat_3', 'cat_4', 'cat_5']\n",
      "categorical features (array): 6\n",
      "numerical features (cols): ['num_0']\n",
      "numerical features (array): 1\n"
     ]
    },
    {
     "name": "stderr",
     "output_type": "stream",
     "text": [
      "\n",
      "c:\\Users\\ShiShiuan\\Desktop\\機器學習與人工智慧實作\\venv\\lib\\site-packages\\sklearn\\pipeline.py:62: FutureWarning: This Pipeline instance is not fitted yet. Call 'fit' with appropriate arguments before using other methods such as transform, predict, etc. This will raise an error in 1.8 instead of the current warning.\n",
      "  warnings.warn(\n",
      "c:\\Users\\ShiShiuan\\Desktop\\機器學習與人工智慧實作\\venv\\lib\\site-packages\\sklearn\\pipeline.py:62: FutureWarning: This Pipeline instance is not fitted yet. Call 'fit' with appropriate arguments before using other methods such as transform, predict, etc. This will raise an error in 1.8 instead of the current warning.\n",
      "  warnings.warn(\n",
      "c:\\Users\\ShiShiuan\\Desktop\\機器學習與人工智慧實作\\venv\\lib\\site-packages\\sklearn\\pipeline.py:62: FutureWarning: This Pipeline instance is not fitted yet. Call 'fit' with appropriate arguments before using other methods such as transform, predict, etc. This will raise an error in 1.8 instead of the current warning.\n",
      "  warnings.warn(\n",
      "c:\\Users\\ShiShiuan\\Desktop\\機器學習與人工智慧實作\\venv\\lib\\site-packages\\sklearn\\pipeline.py:62: FutureWarning: This Pipeline instance is not fitted yet. Call 'fit' with appropriate arguments before using other methods such as transform, predict, etc. This will raise an error in 1.8 instead of the current warning.\n",
      "  warnings.warn(\n"
     ]
    }
   ],
   "source": [
    "ft_transformer_smote = CustomerFTTransformer()\n",
    "ft_transformer_smote.format_dataframe()\n",
    "ft_transformer_smote.preprocess(use_smote=True, smote_method='smote')\n",
    "ft_transformer_smote.set_feautres_processed()\n",
    "ft_transformer_smote.set_tablar_dataset()\n",
    "ft_transformer_smote.set_model_config()"
   ]
  },
  {
   "cell_type": "code",
   "execution_count": 29,
   "id": "ab31315b",
   "metadata": {},
   "outputs": [
    {
     "name": "stdout",
     "output_type": "stream",
     "text": [
      "=== Class Distribution Analysis ===\n",
      "Class distribution:\n",
      "  Class 0: 3234 samples (50.00%)\n",
      "  Class 1: 3234 samples (50.00%)\n",
      "Imbalance ratio: 1.00\n",
      "✅ Dataset is relatively balanced.\n"
     ]
    },
    {
     "data": {
      "text/plain": [
       "(target\n",
       " 0    3234\n",
       " 1    3234\n",
       " Name: count, dtype: int64,\n",
       " 1.0)"
      ]
     },
     "execution_count": 29,
     "metadata": {},
     "output_type": "execute_result"
    }
   ],
   "source": [
    "ft_transformer_smote.check_class_distribution(ft_transformer_smote.train_df_train_csv_processed, 'target')"
   ]
  },
  {
   "cell_type": "code",
   "execution_count": 32,
   "id": "9e1813ea",
   "metadata": {},
   "outputs": [
    {
     "name": "stdout",
     "output_type": "stream",
     "text": [
      "Using standard CrossEntropyLoss (no class weights)\n"
     ]
    },
    {
     "name": "stderr",
     "output_type": "stream",
     "text": [
      "                                                                                    "
     ]
    },
    {
     "name": "stdout",
     "output_type": "stream",
     "text": [
      "Model saved as ./models/ft_transformer_model_smote.pth\n"
     ]
    },
    {
     "name": "stderr",
     "output_type": "stream",
     "text": [
      "\r"
     ]
    }
   ],
   "source": [
    "ft_transformer_smote.train_model(num_epochs=500, model_name='ft_transformer_model_smote.pth', use_class_weight=False)"
   ]
  },
  {
   "cell_type": "code",
   "execution_count": 39,
   "id": "c41dd711",
   "metadata": {},
   "outputs": [
    {
     "name": "stderr",
     "output_type": "stream",
     "text": [
      "c:\\Users\\ShiShiuan\\Desktop\\機器學習與人工智慧實作\\src\\ft_transformer.py:384: FutureWarning: You are using `torch.load` with `weights_only=False` (the current default value), which uses the default pickle module implicitly. It is possible to construct malicious pickle data which will execute arbitrary code during unpickling (See https://github.com/pytorch/pytorch/blob/main/SECURITY.md#untrusted-models for more details). In a future release, the default value for `weights_only` will be flipped to `True`. This limits the functions that could be executed during unpickling. Arbitrary objects will no longer be allowed to be loaded via this mode unless they are explicitly allowlisted by the user via `torch.serialization.add_safe_globals`. We recommend you start setting `weights_only=True` for any use case where you don't have full control of the loaded file. Please open an issue on GitHub for any issues related to this experimental feature.\n",
      "  self.model.load_state_dict(torch.load(f\"./models/{model_name}\"))\n"
     ]
    },
    {
     "name": "stdout",
     "output_type": "stream",
     "text": [
      "Test Accuracy: 0.4160\n",
      "\n",
      "Classification Report:\n",
      "              precision    recall  f1-score   support\n",
      "\n",
      "           0       0.80      0.39      0.52       826\n",
      "           1       0.16      0.55      0.25       174\n",
      "\n",
      "    accuracy                           0.42      1000\n",
      "   macro avg       0.48      0.47      0.39      1000\n",
      "weighted avg       0.69      0.42      0.47      1000\n",
      "\n",
      "\n",
      "Confusion Matrix:\n",
      "[[320 506]\n",
      " [ 78  96]]\n",
      "\n",
      "Detailed Confusion Matrix:\n",
      "Predicted:       0       1\n",
      "Actual 0:     320     506\n",
      "Actual 1:      78      96\n"
     ]
    },
    {
     "data": {
      "image/png": "[encoded data removed]",
      "text/plain": [
       "<Figure size 600x400 with 2 Axes>"
      ]
     },
     "metadata": {},
     "output_type": "display_data"
    },
    {
     "name": "stdout",
     "output_type": "stream",
     "text": [
      "混淆矩陣圖表已保存為 'confusion_matrix.png'\n"
     ]
    },
    {
     "data": {
      "text/plain": [
       "(0.416,\n",
       " array([[320, 506],\n",
       "        [ 78,  96]], dtype=int64))"
      ]
     },
     "execution_count": 39,
     "metadata": {},
     "output_type": "execute_result"
    },
    {
     "data": {
      "text/plain": [
       "<Figure size 640x480 with 0 Axes>"
      ]
     },
     "metadata": {},
     "output_type": "display_data"
    }
   ],
   "source": [
    "ft_transformer_smote.evaluate_model(model_name='ft_transformer_model_smote.pth')"
   ]
  },
  {
   "cell_type": "markdown",
   "id": "e9471d77",
   "metadata": {},
   "source": [
    "## SMOTE-NC"
   ]
  },
  {
   "cell_type": "code",
   "execution_count": 6,
   "id": "166299d6",
   "metadata": {},
   "outputs": [
    {
     "name": "stdout",
     "output_type": "stream",
     "text": [
      "Encoded gender: [0, 1]\n",
      "Encoded primary_diagnosis: [0, 1, 2, 3, 4]\n",
      "Encoded discharge_to: [0, 1, 2, 3]\n",
      "=== Feature Encoding Complete ===\n",
      "Numerical features: ['age', 'num_procedures', 'days_in_hospital', 'comorbidity_score']\n",
      "Categorical features (encoded): ['gender', 'primary_diagnosis', 'discharge_to']\n",
      "\n",
      "Sample of encoded data:\n",
      "  gender primary_diagnosis discharge_to\n",
      "0      1                 2            1\n",
      "1      0                 0            2\n",
      "2      1                 1            0\n",
      "3      1                 0            3\n",
      "4      1                 1            2\n",
      "🔄 Applying SMOTE with method: smotenc\n",
      "Applying SMOTENC to handle class imbalance...\n",
      "Original class distribution: {0: 3234, 1: 766}\n",
      "Using SMOTENC for mixed data types...\n",
      "Numerical features shape: (4000, 4)\n",
      "Categorical features shape: (4000, 3)\n",
      "Categorical feature indices: [4, 5, 6]\n",
      "Combined features shape: (4000, 7)\n",
      "After SMOTENC class distribution: {0: 3234, 1: 3234}\n",
      "Training set size: 4000 -> 6468\n",
      "After SMOTE - Training set size: 6468 (was 4000)\n",
      "After SMOTE - Class distribution: {0: 3234, 1: 3234}\n",
      "After SMOTE - X_num_train shape: (6468, 4)\n",
      "After SMOTE - X_cat_train shape: (6468, 3)\n",
      "train_df_train_csv shape after DataFrame creation: (6468, 8)\n"
     ]
    },
    {
     "name": "stderr",
     "output_type": "stream",
     "text": [
      "100%|██████████| 3/3 [00:00<?, ?it/s]"
     ]
    },
    {
     "name": "stdout",
     "output_type": "stream",
     "text": [
      "Final train_df_train_csv_processed shape: (6468, 7)\n",
      "Final test_df_train_csv_processed shape: (1000, 7)\n",
      "=== END PREPROCESS DEBUG ===\n",
      "categorical features (cols): ['cat_0', 'cat_1', 'cat_2']\n",
      "categorical features (array): 3\n",
      "numerical features (cols): ['num_0', 'num_1', 'num_2', 'num_3']\n",
      "numerical features (array): 4\n"
     ]
    },
    {
     "name": "stderr",
     "output_type": "stream",
     "text": [
      "\n",
      "c:\\Users\\ShiShiuan\\Desktop\\機器學習與人工智慧實作\\venv\\lib\\site-packages\\sklearn\\pipeline.py:62: FutureWarning: This Pipeline instance is not fitted yet. Call 'fit' with appropriate arguments before using other methods such as transform, predict, etc. This will raise an error in 1.8 instead of the current warning.\n",
      "  warnings.warn(\n",
      "c:\\Users\\ShiShiuan\\Desktop\\機器學習與人工智慧實作\\venv\\lib\\site-packages\\sklearn\\pipeline.py:62: FutureWarning: This Pipeline instance is not fitted yet. Call 'fit' with appropriate arguments before using other methods such as transform, predict, etc. This will raise an error in 1.8 instead of the current warning.\n",
      "  warnings.warn(\n",
      "c:\\Users\\ShiShiuan\\Desktop\\機器學習與人工智慧實作\\venv\\lib\\site-packages\\sklearn\\pipeline.py:62: FutureWarning: This Pipeline instance is not fitted yet. Call 'fit' with appropriate arguments before using other methods such as transform, predict, etc. This will raise an error in 1.8 instead of the current warning.\n",
      "  warnings.warn(\n",
      "c:\\Users\\ShiShiuan\\Desktop\\機器學習與人工智慧實作\\venv\\lib\\site-packages\\sklearn\\pipeline.py:62: FutureWarning: This Pipeline instance is not fitted yet. Call 'fit' with appropriate arguments before using other methods such as transform, predict, etc. This will raise an error in 1.8 instead of the current warning.\n",
      "  warnings.warn(\n"
     ]
    }
   ],
   "source": [
    "ft_transformer_smote_nc = CustomerFTTransformer()\n",
    "ft_transformer_smote_nc.format_dataframe()\n",
    "ft_transformer_smote_nc.preprocess(use_smote=True, use_under_sampling=False, smote_method='smotenc')\n",
    "ft_transformer_smote_nc.set_feautres_processed()\n",
    "ft_transformer_smote_nc.set_tablar_dataset()\n",
    "ft_transformer_smote_nc.set_model_config()"
   ]
  },
  {
   "cell_type": "code",
   "execution_count": 7,
   "id": "19478d7e",
   "metadata": {},
   "outputs": [
    {
     "name": "stdout",
     "output_type": "stream",
     "text": [
      "=== Class Distribution Analysis ===\n",
      "Class distribution:\n",
      "  Class 0: 3234 samples (50.00%)\n",
      "  Class 1: 3234 samples (50.00%)\n",
      "Imbalance ratio: 1.00\n",
      "✅ Dataset is relatively balanced.\n"
     ]
    },
    {
     "data": {
      "text/plain": [
       "(target\n",
       " 0    3234\n",
       " 1    3234\n",
       " Name: count, dtype: int64,\n",
       " 1.0)"
      ]
     },
     "execution_count": 7,
     "metadata": {},
     "output_type": "execute_result"
    }
   ],
   "source": [
    "ft_transformer_smote_nc.check_class_distribution(ft_transformer_smote_nc.train_df_train_csv_processed, 'target')"
   ]
  },
  {
   "cell_type": "code",
   "execution_count": 8,
   "id": "ef263c2d",
   "metadata": {},
   "outputs": [
    {
     "name": "stdout",
     "output_type": "stream",
     "text": [
      "Using standard CrossEntropyLoss (no class weights)\n"
     ]
    },
    {
     "name": "stderr",
     "output_type": "stream",
     "text": [
      "                                                                                    \r"
     ]
    },
    {
     "name": "stdout",
     "output_type": "stream",
     "text": [
      "Model saved as ./models/ft_transformer_model_smote_nc.pth\n",
      "\n",
      "=== Training Set Evaluation ===\n",
      "Training Set Accuracy: 0.9770\n",
      "\n",
      "Training Set Classification Report:\n",
      "              precision    recall  f1-score   support\n",
      "\n",
      "           0       0.99      0.96      0.98      3234\n",
      "           1       0.97      0.99      0.98      3234\n",
      "\n",
      "    accuracy                           0.98      6468\n",
      "   macro avg       0.98      0.98      0.98      6468\n",
      "weighted avg       0.98      0.98      0.98      6468\n",
      "\n",
      "\n",
      "Training Set Confusion Matrix:\n",
      "[[3119  115]\n",
      " [  34 3200]]\n",
      "Training Set ROC AUC: 0.9981\n",
      "✅ 訓練集評估圖表已保存為 'training_metrics.png'\n"
     ]
    },
    {
     "name": "stderr",
     "output_type": "stream",
     "text": [
      "c:\\Users\\ShiShiuan\\Desktop\\機器學習與人工智慧實作\\src\\ft_transformer.py:433: UserWarning: FigureCanvasAgg is non-interactive, and thus cannot be shown\n",
      "  plt.show()\n"
     ]
    }
   ],
   "source": [
    "ft_transformer_smote_nc.train_model(num_epochs=500, model_name='ft_transformer_model_smote_nc.pth', use_class_weight=False)"
   ]
  },
  {
   "cell_type": "code",
   "execution_count": 40,
   "id": "29f4604d",
   "metadata": {},
   "outputs": [
    {
     "name": "stdout",
     "output_type": "stream",
     "text": [
      "Test Accuracy: 0.6840\n",
      "\n",
      "Classification Report:\n",
      "              precision    recall  f1-score   support\n",
      "\n",
      "           0       0.82      0.78      0.80       826\n",
      "           1       0.17      0.21      0.19       174\n",
      "\n",
      "    accuracy                           0.68      1000\n",
      "   macro avg       0.50      0.50      0.49      1000\n",
      "weighted avg       0.71      0.68      0.70      1000\n",
      "\n",
      "\n",
      "Confusion Matrix:\n",
      "[[648 178]\n",
      " [138  36]]\n",
      "\n",
      "Detailed Confusion Matrix:\n",
      "Predicted:       0       1\n",
      "Actual 0:     648     178\n",
      "Actual 1:     138      36\n"
     ]
    },
    {
     "name": "stderr",
     "output_type": "stream",
     "text": [
      "c:\\Users\\ShiShiuan\\Desktop\\機器學習與人工智慧實作\\src\\ft_transformer.py:384: FutureWarning: You are using `torch.load` with `weights_only=False` (the current default value), which uses the default pickle module implicitly. It is possible to construct malicious pickle data which will execute arbitrary code during unpickling (See https://github.com/pytorch/pytorch/blob/main/SECURITY.md#untrusted-models for more details). In a future release, the default value for `weights_only` will be flipped to `True`. This limits the functions that could be executed during unpickling. Arbitrary objects will no longer be allowed to be loaded via this mode unless they are explicitly allowlisted by the user via `torch.serialization.add_safe_globals`. We recommend you start setting `weights_only=True` for any use case where you don't have full control of the loaded file. Please open an issue on GitHub for any issues related to this experimental feature.\n",
      "  self.model.load_state_dict(torch.load(f\"./models/{model_name}\"))\n"
     ]
    },
    {
     "data": {
      "image/png": "[encoded data removed]",
      "text/plain": [
       "<Figure size 600x400 with 2 Axes>"
      ]
     },
     "metadata": {},
     "output_type": "display_data"
    },
    {
     "name": "stdout",
     "output_type": "stream",
     "text": [
      "混淆矩陣圖表已保存為 'confusion_matrix.png'\n"
     ]
    },
    {
     "data": {
      "text/plain": [
       "(0.684,\n",
       " array([[648, 178],\n",
       "        [138,  36]], dtype=int64))"
      ]
     },
     "execution_count": 40,
     "metadata": {},
     "output_type": "execute_result"
    },
    {
     "data": {
      "text/plain": [
       "<Figure size 640x480 with 0 Axes>"
      ]
     },
     "metadata": {},
     "output_type": "display_data"
    }
   ],
   "source": [
    "ft_transformer_smote_nc.evaluate_model(model_name='ft_transformer_model_smote_nc.pth')"
   ]
  },
  {
   "cell_type": "markdown",
   "id": "232dcc70",
   "metadata": {},
   "source": [
    "## Borderline"
   ]
  },
  {
   "cell_type": "code",
   "execution_count": 14,
   "id": "50b3db59",
   "metadata": {},
   "outputs": [
    {
     "name": "stdout",
     "output_type": "stream",
     "text": [
      "Encoded gender: [0, 1]\n",
      "Encoded primary_diagnosis: [0, 1, 2, 3, 4]\n",
      "Encoded discharge_to: [0, 1, 2, 3]\n",
      "Encoded num_procedures: [0, 1, 2, 3, 4, 5, 6, 7, 8, 9]\n",
      "Encoded days_in_hospital: [0, 1, 2, 3, 4, 5, 6, 7, 8, 9, 10, 11, 12, 13]\n",
      "Encoded comorbidity_score: [0, 1, 2, 3, 4]\n",
      "=== Feature Encoding Complete ===\n",
      "Numerical features: ['age']\n",
      "Categorical features (encoded): ['gender', 'primary_diagnosis', 'discharge_to', 'num_procedures', 'days_in_hospital', 'comorbidity_score']\n",
      "\n",
      "Sample of encoded data:\n",
      "  gender primary_diagnosis discharge_to num_procedures days_in_hospital  \\\n",
      "0      1                 2            1              1                1   \n",
      "1      0                 0            2              2               12   \n",
      "2      1                 1            0              1                6   \n",
      "3      1                 0            3              9                1   \n",
      "4      1                 1            2              6                3   \n",
      "\n",
      "  comorbidity_score  \n",
      "0                 1  \n",
      "1                 2  \n",
      "2                 1  \n",
      "3                 2  \n",
      "4                 4  \n",
      "=== PREPROCESS DEBUG INFO ===\n",
      "Before sampling - Training set size: 4000\n",
      "Before sampling - Class distribution: {0: 3234, 1: 766}\n",
      "Before sampling - X_num_train shape: (4000, 1)\n",
      "Before sampling - X_cat_train shape: (4000, 6)\n",
      "🔄 Applying SMOTE with method: borderline\n",
      "Applying BORDERLINE to handle class imbalance...\n",
      "Original class distribution: {0: 3234, 1: 766}\n",
      "After BORDERLINE class distribution: {0: 3234, 1: 3234}\n",
      "Training set size: 4000 -> 6468\n",
      "After SMOTE - Training set size: 6468 (was 4000)\n",
      "After SMOTE - Class distribution: {0: 3234, 1: 3234}\n",
      "After SMOTE - X_num_train shape: (6468, 1)\n",
      "After SMOTE - X_cat_train shape: (6468, 6)\n",
      "train_df_train_csv shape after DataFrame creation: (6468, 8)\n"
     ]
    },
    {
     "name": "stderr",
     "output_type": "stream",
     "text": [
      "100%|██████████| 6/6 [00:00<?, ?it/s]"
     ]
    },
    {
     "name": "stdout",
     "output_type": "stream",
     "text": [
      "Final train_df_train_csv_processed shape: (6468, 7)\n",
      "Final test_df_train_csv_processed shape: (1000, 7)\n",
      "=== END PREPROCESS DEBUG ===\n",
      "categorical features (cols): ['cat_0', 'cat_1', 'cat_2', 'cat_3', 'cat_4', 'cat_5']\n",
      "categorical features (array): 6\n",
      "numerical features (cols): ['num_0']\n",
      "numerical features (array): 1\n"
     ]
    },
    {
     "name": "stderr",
     "output_type": "stream",
     "text": [
      "\n",
      "c:\\Users\\ShiShiuan\\Desktop\\機器學習與人工智慧實作\\venv\\lib\\site-packages\\sklearn\\pipeline.py:62: FutureWarning: This Pipeline instance is not fitted yet. Call 'fit' with appropriate arguments before using other methods such as transform, predict, etc. This will raise an error in 1.8 instead of the current warning.\n",
      "  warnings.warn(\n",
      "c:\\Users\\ShiShiuan\\Desktop\\機器學習與人工智慧實作\\venv\\lib\\site-packages\\sklearn\\pipeline.py:62: FutureWarning: This Pipeline instance is not fitted yet. Call 'fit' with appropriate arguments before using other methods such as transform, predict, etc. This will raise an error in 1.8 instead of the current warning.\n",
      "  warnings.warn(\n",
      "c:\\Users\\ShiShiuan\\Desktop\\機器學習與人工智慧實作\\venv\\lib\\site-packages\\sklearn\\pipeline.py:62: FutureWarning: This Pipeline instance is not fitted yet. Call 'fit' with appropriate arguments before using other methods such as transform, predict, etc. This will raise an error in 1.8 instead of the current warning.\n",
      "  warnings.warn(\n",
      "c:\\Users\\ShiShiuan\\Desktop\\機器學習與人工智慧實作\\venv\\lib\\site-packages\\sklearn\\pipeline.py:62: FutureWarning: This Pipeline instance is not fitted yet. Call 'fit' with appropriate arguments before using other methods such as transform, predict, etc. This will raise an error in 1.8 instead of the current warning.\n",
      "  warnings.warn(\n"
     ]
    }
   ],
   "source": [
    "ft_transformer_borderline = CustomerFTTransformer()\n",
    "ft_transformer_borderline.format_dataframe()\n",
    "ft_transformer_borderline.preprocess(use_smote=True, use_under_sampling=False, smote_method='borderline')\n",
    "ft_transformer_borderline.set_feautres_processed()\n",
    "ft_transformer_borderline.set_tablar_dataset()\n",
    "ft_transformer_borderline.set_model_config()"
   ]
  },
  {
   "cell_type": "code",
   "execution_count": 15,
   "id": "526d2956",
   "metadata": {},
   "outputs": [
    {
     "name": "stdout",
     "output_type": "stream",
     "text": [
      "=== Class Distribution Analysis ===\n",
      "Class distribution:\n",
      "  Class 0: 3234 samples (50.00%)\n",
      "  Class 1: 3234 samples (50.00%)\n",
      "Imbalance ratio: 1.00\n",
      "✅ Dataset is relatively balanced.\n"
     ]
    },
    {
     "data": {
      "text/plain": [
       "(target\n",
       " 0    3234\n",
       " 1    3234\n",
       " Name: count, dtype: int64,\n",
       " 1.0)"
      ]
     },
     "execution_count": 15,
     "metadata": {},
     "output_type": "execute_result"
    }
   ],
   "source": [
    "ft_transformer_borderline.check_class_distribution(ft_transformer_borderline.train_df_train_csv_processed, 'target')"
   ]
  },
  {
   "cell_type": "code",
   "execution_count": 16,
   "id": "2b363dbb",
   "metadata": {},
   "outputs": [
    {
     "name": "stdout",
     "output_type": "stream",
     "text": [
      "Using standard CrossEntropyLoss (no class weights)\n"
     ]
    },
    {
     "name": "stderr",
     "output_type": "stream",
     "text": [
      "                                                                                    "
     ]
    },
    {
     "name": "stdout",
     "output_type": "stream",
     "text": [
      "Model saved as ./models/ft_transformer_model_borderline.pth\n"
     ]
    },
    {
     "name": "stderr",
     "output_type": "stream",
     "text": [
      "\r"
     ]
    }
   ],
   "source": [
    "ft_transformer_borderline.train_model(num_epochs=500, model_name='ft_transformer_model_borderline.pth', use_class_weight=False)"
   ]
  },
  {
   "cell_type": "code",
   "execution_count": 17,
   "id": "112e0e05",
   "metadata": {},
   "outputs": [
    {
     "name": "stdout",
     "output_type": "stream",
     "text": [
      "Test Accuracy: 0.3870\n",
      "\n",
      "Classification Report:\n",
      "              precision    recall  f1-score   support\n",
      "\n",
      "           0       0.83      0.32      0.47       826\n",
      "           1       0.18      0.68      0.28       174\n",
      "\n",
      "    accuracy                           0.39      1000\n",
      "   macro avg       0.50      0.50      0.37      1000\n",
      "weighted avg       0.72      0.39      0.43      1000\n",
      "\n",
      "\n",
      "Confusion Matrix:\n",
      "[[268 558]\n",
      " [ 55 119]]\n",
      "\n",
      "Detailed Confusion Matrix:\n",
      "Predicted:       0       1\n",
      "Actual 0:     268     558\n",
      "Actual 1:      55     119\n"
     ]
    },
    {
     "name": "stderr",
     "output_type": "stream",
     "text": [
      "c:\\Users\\ShiShiuan\\Desktop\\機器學習與人工智慧實作\\src\\ft_transformer.py:394: FutureWarning: You are using `torch.load` with `weights_only=False` (the current default value), which uses the default pickle module implicitly. It is possible to construct malicious pickle data which will execute arbitrary code during unpickling (See https://github.com/pytorch/pytorch/blob/main/SECURITY.md#untrusted-models for more details). In a future release, the default value for `weights_only` will be flipped to `True`. This limits the functions that could be executed during unpickling. Arbitrary objects will no longer be allowed to be loaded via this mode unless they are explicitly allowlisted by the user via `torch.serialization.add_safe_globals`. We recommend you start setting `weights_only=True` for any use case where you don't have full control of the loaded file. Please open an issue on GitHub for any issues related to this experimental feature.\n",
      "  self.model.load_state_dict(torch.load(f\"./models/{model_name}\"))\n"
     ]
    },
    {
     "data": {
      "image/png": "[encoded data removed]",
      "text/plain": [
       "<Figure size 600x400 with 2 Axes>"
      ]
     },
     "metadata": {},
     "output_type": "display_data"
    },
    {
     "name": "stdout",
     "output_type": "stream",
     "text": [
      "混淆矩陣圖表已保存為 'confusion_matrix.png'\n"
     ]
    },
    {
     "data": {
      "text/plain": [
       "(0.387,\n",
       " array([[268, 558],\n",
       "        [ 55, 119]], dtype=int64))"
      ]
     },
     "execution_count": 17,
     "metadata": {},
     "output_type": "execute_result"
    },
    {
     "data": {
      "text/plain": [
       "<Figure size 640x480 with 0 Axes>"
      ]
     },
     "metadata": {},
     "output_type": "display_data"
    }
   ],
   "source": [
    "ft_transformer_borderline.evaluate_model(model_name='ft_transformer_model_borderline.pth')"
   ]
  },
  {
   "cell_type": "markdown",
   "id": "147564c4",
   "metadata": {},
   "source": [
    "# Under Sampling"
   ]
  },
  {
   "cell_type": "markdown",
   "id": "6dd6583d",
   "metadata": {},
   "source": [
    "## Random Under Sampling"
   ]
  },
  {
   "cell_type": "code",
   "execution_count": 2,
   "id": "ced316df",
   "metadata": {},
   "outputs": [
    {
     "name": "stdout",
     "output_type": "stream",
     "text": [
      "Encoded gender: [0, 1]\n",
      "Encoded primary_diagnosis: [0, 1, 2, 3, 4]\n",
      "Encoded discharge_to: [0, 1, 2, 3]\n",
      "=== Feature Encoding Complete ===\n",
      "Numerical features: ['age', 'num_procedures', 'days_in_hospital', 'comorbidity_score']\n",
      "Categorical features (encoded): ['gender', 'primary_diagnosis', 'discharge_to']\n",
      "\n",
      "Sample of encoded data:\n",
      "  gender primary_diagnosis discharge_to\n",
      "0      1                 1            1\n",
      "1      1                 3            0\n",
      "2      0                 1            2\n",
      "3      0                 4            0\n",
      "4      0                 2            3\n",
      "🔄 Applying under sampling with method: random\n",
      "=== Applying random under sampling ===\n",
      "Original class distribution: {0: 3231, 1: 769}\n",
      "Imbalance ratio: 4.20\n",
      "Applying random under sampling...\n",
      "=== Under sampling results ===\n",
      "Final class distribution: {0: 769, 1: 769}\n",
      "Training set size: 4000 -> 1538\n",
      "Samples removed: 2462\n",
      "✅ Under sampling successful using random method\n",
      "After under sampling - Training set size: 1538 (was 4000)\n",
      "train_df_train_csv shape after DataFrame creation: (1538, 8)\n"
     ]
    },
    {
     "name": "stderr",
     "output_type": "stream",
     "text": [
      "100%|██████████| 3/3 [00:00<00:00, 1000.39it/s]"
     ]
    },
    {
     "name": "stdout",
     "output_type": "stream",
     "text": [
      "Final train_df_train_csv_processed shape: (1538, 7)\n",
      "Final test_df_train_csv_processed shape: (1000, 7)\n",
      "=== END PREPROCESS DEBUG ===\n",
      "categorical features (cols): ['cat_0', 'cat_1', 'cat_2']\n",
      "categorical features (array): 3\n",
      "numerical features (cols): ['num_0', 'num_1', 'num_2', 'num_3']\n",
      "numerical features (array): 4\n"
     ]
    },
    {
     "name": "stderr",
     "output_type": "stream",
     "text": [
      "\n",
      "c:\\Users\\ShiShiuan\\Desktop\\機器學習與人工智慧實作\\venv\\lib\\site-packages\\sklearn\\pipeline.py:62: FutureWarning: This Pipeline instance is not fitted yet. Call 'fit' with appropriate arguments before using other methods such as transform, predict, etc. This will raise an error in 1.8 instead of the current warning.\n",
      "  warnings.warn(\n",
      "c:\\Users\\ShiShiuan\\Desktop\\機器學習與人工智慧實作\\venv\\lib\\site-packages\\sklearn\\pipeline.py:62: FutureWarning: This Pipeline instance is not fitted yet. Call 'fit' with appropriate arguments before using other methods such as transform, predict, etc. This will raise an error in 1.8 instead of the current warning.\n",
      "  warnings.warn(\n",
      "c:\\Users\\ShiShiuan\\Desktop\\機器學習與人工智慧實作\\venv\\lib\\site-packages\\sklearn\\pipeline.py:62: FutureWarning: This Pipeline instance is not fitted yet. Call 'fit' with appropriate arguments before using other methods such as transform, predict, etc. This will raise an error in 1.8 instead of the current warning.\n",
      "  warnings.warn(\n",
      "c:\\Users\\ShiShiuan\\Desktop\\機器學習與人工智慧實作\\venv\\lib\\site-packages\\sklearn\\pipeline.py:62: FutureWarning: This Pipeline instance is not fitted yet. Call 'fit' with appropriate arguments before using other methods such as transform, predict, etc. This will raise an error in 1.8 instead of the current warning.\n",
      "  warnings.warn(\n"
     ]
    }
   ],
   "source": [
    "ft_transformer_random_under_sampling = CustomerFTTransformer()\n",
    "ft_transformer_random_under_sampling.format_dataframe()\n",
    "ft_transformer_random_under_sampling.preprocess(use_under_sampling=True, under_sampling_method='random')\n",
    "ft_transformer_random_under_sampling.set_feautres_processed()\n",
    "ft_transformer_random_under_sampling.set_tablar_dataset()\n",
    "ft_transformer_random_under_sampling.set_model_config()"
   ]
  },
  {
   "cell_type": "code",
   "execution_count": 3,
   "id": "6f3f39b2",
   "metadata": {},
   "outputs": [
    {
     "data": {
      "text/html": [
       "<div>\n",
       "<style scoped>\n",
       "    .dataframe tbody tr th:only-of-type {\n",
       "        vertical-align: middle;\n",
       "    }\n",
       "\n",
       "    .dataframe tbody tr th {\n",
       "        vertical-align: top;\n",
       "    }\n",
       "\n",
       "    .dataframe thead th {\n",
       "        text-align: right;\n",
       "    }\n",
       "</style>\n",
       "<table border=\"1\" class=\"dataframe\">\n",
       "  <thead>\n",
       "    <tr style=\"text-align: right;\">\n",
       "      <th></th>\n",
       "      <th>num_0</th>\n",
       "      <th>num_1</th>\n",
       "      <th>num_2</th>\n",
       "      <th>num_3</th>\n",
       "      <th>cat_0</th>\n",
       "      <th>cat_1</th>\n",
       "      <th>cat_2</th>\n",
       "      <th>target</th>\n",
       "    </tr>\n",
       "  </thead>\n",
       "  <tbody>\n",
       "    <tr>\n",
       "      <th>0</th>\n",
       "      <td>0.033742</td>\n",
       "      <td>-0.498232</td>\n",
       "      <td>-1.588410</td>\n",
       "      <td>-0.743304</td>\n",
       "      <td>1</td>\n",
       "      <td>2</td>\n",
       "      <td>1</td>\n",
       "      <td>0</td>\n",
       "    </tr>\n",
       "    <tr>\n",
       "      <th>1</th>\n",
       "      <td>0.945014</td>\n",
       "      <td>0.912966</td>\n",
       "      <td>0.626882</td>\n",
       "      <td>-0.044526</td>\n",
       "      <td>1</td>\n",
       "      <td>3</td>\n",
       "      <td>1</td>\n",
       "      <td>0</td>\n",
       "    </tr>\n",
       "    <tr>\n",
       "      <th>2</th>\n",
       "      <td>-0.445876</td>\n",
       "      <td>-0.851031</td>\n",
       "      <td>-1.342267</td>\n",
       "      <td>1.353032</td>\n",
       "      <td>1</td>\n",
       "      <td>0</td>\n",
       "      <td>3</td>\n",
       "      <td>1</td>\n",
       "    </tr>\n",
       "    <tr>\n",
       "      <th>3</th>\n",
       "      <td>1.520555</td>\n",
       "      <td>0.207367</td>\n",
       "      <td>1.365312</td>\n",
       "      <td>-0.743304</td>\n",
       "      <td>0</td>\n",
       "      <td>0</td>\n",
       "      <td>2</td>\n",
       "      <td>0</td>\n",
       "    </tr>\n",
       "    <tr>\n",
       "      <th>4</th>\n",
       "      <td>-0.637722</td>\n",
       "      <td>-1.203830</td>\n",
       "      <td>-1.096123</td>\n",
       "      <td>-1.442083</td>\n",
       "      <td>1</td>\n",
       "      <td>4</td>\n",
       "      <td>0</td>\n",
       "      <td>1</td>\n",
       "    </tr>\n",
       "    <tr>\n",
       "      <th>...</th>\n",
       "      <td>...</td>\n",
       "      <td>...</td>\n",
       "      <td>...</td>\n",
       "      <td>...</td>\n",
       "      <td>...</td>\n",
       "      <td>...</td>\n",
       "      <td>...</td>\n",
       "      <td>...</td>\n",
       "    </tr>\n",
       "    <tr>\n",
       "      <th>1533</th>\n",
       "      <td>0.561320</td>\n",
       "      <td>0.560166</td>\n",
       "      <td>0.134595</td>\n",
       "      <td>-1.442083</td>\n",
       "      <td>1</td>\n",
       "      <td>2</td>\n",
       "      <td>0</td>\n",
       "      <td>1</td>\n",
       "    </tr>\n",
       "    <tr>\n",
       "      <th>1534</th>\n",
       "      <td>-0.206067</td>\n",
       "      <td>1.618565</td>\n",
       "      <td>-1.096123</td>\n",
       "      <td>1.353032</td>\n",
       "      <td>0</td>\n",
       "      <td>3</td>\n",
       "      <td>0</td>\n",
       "      <td>1</td>\n",
       "    </tr>\n",
       "    <tr>\n",
       "      <th>1535</th>\n",
       "      <td>-0.110144</td>\n",
       "      <td>1.265765</td>\n",
       "      <td>-1.342267</td>\n",
       "      <td>-0.743304</td>\n",
       "      <td>1</td>\n",
       "      <td>1</td>\n",
       "      <td>0</td>\n",
       "      <td>1</td>\n",
       "    </tr>\n",
       "    <tr>\n",
       "      <th>1536</th>\n",
       "      <td>0.177627</td>\n",
       "      <td>0.912966</td>\n",
       "      <td>-1.588410</td>\n",
       "      <td>-0.743304</td>\n",
       "      <td>1</td>\n",
       "      <td>3</td>\n",
       "      <td>1</td>\n",
       "      <td>1</td>\n",
       "    </tr>\n",
       "    <tr>\n",
       "      <th>1537</th>\n",
       "      <td>1.424631</td>\n",
       "      <td>-0.851031</td>\n",
       "      <td>-0.111549</td>\n",
       "      <td>1.353032</td>\n",
       "      <td>1</td>\n",
       "      <td>3</td>\n",
       "      <td>2</td>\n",
       "      <td>1</td>\n",
       "    </tr>\n",
       "  </tbody>\n",
       "</table>\n",
       "<p>1538 rows × 8 columns</p>\n",
       "</div>"
      ],
      "text/plain": [
       "         num_0     num_1     num_2     num_3  cat_0  cat_1  cat_2  target\n",
       "0     0.033742 -0.498232 -1.588410 -0.743304      1      2      1       0\n",
       "1     0.945014  0.912966  0.626882 -0.044526      1      3      1       0\n",
       "2    -0.445876 -0.851031 -1.342267  1.353032      1      0      3       1\n",
       "3     1.520555  0.207367  1.365312 -0.743304      0      0      2       0\n",
       "4    -0.637722 -1.203830 -1.096123 -1.442083      1      4      0       1\n",
       "...        ...       ...       ...       ...    ...    ...    ...     ...\n",
       "1533  0.561320  0.560166  0.134595 -1.442083      1      2      0       1\n",
       "1534 -0.206067  1.618565 -1.096123  1.353032      0      3      0       1\n",
       "1535 -0.110144  1.265765 -1.342267 -0.743304      1      1      0       1\n",
       "1536  0.177627  0.912966 -1.588410 -0.743304      1      3      1       1\n",
       "1537  1.424631 -0.851031 -0.111549  1.353032      1      3      2       1\n",
       "\n",
       "[1538 rows x 8 columns]"
      ]
     },
     "execution_count": 3,
     "metadata": {},
     "output_type": "execute_result"
    }
   ],
   "source": [
    "ft_transformer_random_under_sampling.train_df_train_csv_processed"
   ]
  },
  {
   "cell_type": "code",
   "execution_count": 4,
   "id": "2cd233f5",
   "metadata": {},
   "outputs": [
    {
     "name": "stdout",
     "output_type": "stream",
     "text": [
      "=== Class Distribution Analysis ===\n",
      "Class distribution:\n",
      "  Class 0: 769 samples (50.00%)\n",
      "  Class 1: 769 samples (50.00%)\n",
      "Imbalance ratio: 1.00\n",
      "✅ Dataset is relatively balanced.\n"
     ]
    },
    {
     "data": {
      "text/plain": [
       "(target\n",
       " 0    769\n",
       " 1    769\n",
       " Name: count, dtype: int64,\n",
       " 1.0)"
      ]
     },
     "execution_count": 4,
     "metadata": {},
     "output_type": "execute_result"
    }
   ],
   "source": [
    "ft_transformer_random_under_sampling.check_class_distribution(ft_transformer_random_under_sampling.train_df_train_csv_processed, 'target')"
   ]
  },
  {
   "cell_type": "code",
   "execution_count": 5,
   "id": "ea73b4ca",
   "metadata": {},
   "outputs": [
    {
     "name": "stdout",
     "output_type": "stream",
     "text": [
      "Using standard CrossEntropyLoss (no class weights)\n"
     ]
    },
    {
     "name": "stderr",
     "output_type": "stream",
     "text": [
      "                                                                                   \r"
     ]
    },
    {
     "name": "stdout",
     "output_type": "stream",
     "text": [
      "Model saved as ./models/ft_transformer_model_random_under_sampling.pth\n",
      "\n",
      "=== Training Set Evaluation ===\n",
      "Training Set Accuracy: 0.8875\n",
      "\n",
      "Training Set Classification Report:\n",
      "              precision    recall  f1-score   support\n",
      "\n",
      "           0       0.87      0.92      0.89       769\n",
      "           1       0.91      0.86      0.88       769\n",
      "\n",
      "    accuracy                           0.89      1538\n",
      "   macro avg       0.89      0.89      0.89      1538\n",
      "weighted avg       0.89      0.89      0.89      1538\n",
      "\n",
      "\n",
      "Training Set Confusion Matrix:\n",
      "[[705  64]\n",
      " [109 660]]\n",
      "Training Set ROC AUC: 0.9584\n",
      "✅ 訓練集評估圖表已保存為 'training_metrics.png'\n"
     ]
    },
    {
     "name": "stderr",
     "output_type": "stream",
     "text": [
      "c:\\Users\\ShiShiuan\\Desktop\\機器學習與人工智慧實作\\src\\ft_transformer.py:724: UserWarning: FigureCanvasAgg is non-interactive, and thus cannot be shown\n",
      "  plt.show()\n"
     ]
    },
    {
     "data": {
      "text/plain": [
       "{'model_name': 'ft_transformer_model_random_under_sampling.pth',\n",
       " 'training_completed': True}"
      ]
     },
     "execution_count": 5,
     "metadata": {},
     "output_type": "execute_result"
    }
   ],
   "source": [
    "ft_transformer_random_under_sampling.train_model(num_epochs=100, model_name='ft_transformer_model_random_under_sampling.pth', use_class_weight=False)"
   ]
  },
  {
   "cell_type": "code",
   "execution_count": 7,
   "id": "f55ec875",
   "metadata": {},
   "outputs": [
    {
     "name": "stderr",
     "output_type": "stream",
     "text": [
      "c:\\Users\\ShiShiuan\\Desktop\\機器學習與人工智慧實作\\src\\ft_transformer.py:826: FutureWarning: You are using `torch.load` with `weights_only=False` (the current default value), which uses the default pickle module implicitly. It is possible to construct malicious pickle data which will execute arbitrary code during unpickling (See https://github.com/pytorch/pytorch/blob/main/SECURITY.md#untrusted-models for more details). In a future release, the default value for `weights_only` will be flipped to `True`. This limits the functions that could be executed during unpickling. Arbitrary objects will no longer be allowed to be loaded via this mode unless they are explicitly allowlisted by the user via `torch.serialization.add_safe_globals`. We recommend you start setting `weights_only=True` for any use case where you don't have full control of the loaded file. Please open an issue on GitHub for any issues related to this experimental feature.\n",
      "  self.model.load_state_dict(torch.load(f\"./models/{model_name}\"))\n",
      "c:\\Users\\ShiShiuan\\Desktop\\機器學習與人工智慧實作\\src\\ft_transformer.py:898: UserWarning: FigureCanvasAgg is non-interactive, and thus cannot be shown\n",
      "  plt.show()\n"
     ]
    },
    {
     "name": "stdout",
     "output_type": "stream",
     "text": [
      "Test Accuracy: 0.4740\n",
      "\n",
      "Classification Report:\n",
      "              precision    recall  f1-score   support\n",
      "\n",
      "           0       0.83      0.46      0.59       829\n",
      "           1       0.17      0.54      0.26       171\n",
      "\n",
      "    accuracy                           0.47      1000\n",
      "   macro avg       0.50      0.50      0.43      1000\n",
      "weighted avg       0.72      0.47      0.54      1000\n",
      "\n",
      "\n",
      "Confusion Matrix:\n",
      "[[382 447]\n",
      " [ 79  92]]\n",
      "\n",
      "Detailed Confusion Matrix:\n",
      "Predicted:       0       1\n",
      "Actual 0:     382     447\n",
      "Actual 1:      79      92\n",
      "混淆矩陣圖表已保存為 'confusion_matrix.png'\n"
     ]
    },
    {
     "data": {
      "text/plain": [
       "(0.474,\n",
       " array([[382, 447],\n",
       "        [ 79,  92]], dtype=int64))"
      ]
     },
     "execution_count": 7,
     "metadata": {},
     "output_type": "execute_result"
    }
   ],
   "source": [
    "ft_transformer_random_under_sampling.evaluate_model(model_name='ft_transformer_model_random_under_sampling.pth')"
   ]
  },
  {
   "cell_type": "markdown",
   "id": "36fdebea",
   "metadata": {},
   "source": [
    "## Tomek"
   ]
  },
  {
   "cell_type": "code",
   "execution_count": 49,
   "id": "26f08893",
   "metadata": {},
   "outputs": [
    {
     "name": "stdout",
     "output_type": "stream",
     "text": [
      "Encoded gender: [0, 1]\n",
      "Encoded primary_diagnosis: [0, 1, 2, 3, 4]\n",
      "Encoded discharge_to: [0, 1, 2, 3]\n",
      "=== Feature Encoding Complete ===\n",
      "Numerical features: ['age', 'num_procedures', 'days_in_hospital', 'comorbidity_score']\n",
      "Categorical features (encoded): ['gender', 'primary_diagnosis', 'discharge_to']\n",
      "\n",
      "Sample of encoded data:\n",
      "  gender primary_diagnosis discharge_to\n",
      "0      1                 1            1\n",
      "1      1                 3            0\n",
      "2      0                 1            2\n",
      "3      0                 4            0\n",
      "4      0                 2            3\n",
      "🔄 Applying under sampling with method: tomek\n",
      "=== Applying tomek under sampling ===\n",
      "Original class distribution: {0: 3231, 1: 769}\n",
      "Imbalance ratio: 4.20\n",
      "Applying tomek under sampling...\n",
      "Attempting Tomek Links under sampling...\n",
      "After Tomek Links: 3646 samples\n",
      "Removed 354 samples\n",
      "New class distribution: {0: 2877, 1: 769}\n",
      "=== Under sampling results ===\n",
      "Final class distribution: {0: 2877, 1: 769}\n",
      "Training set size: 4000 -> 3646\n",
      "Samples removed: 354\n",
      "✅ Under sampling successful using tomek method\n",
      "After under sampling - Training set size: 3646 (was 4000)\n",
      "train_df_train_csv shape after DataFrame creation: (3646, 8)\n"
     ]
    },
    {
     "name": "stderr",
     "output_type": "stream",
     "text": [
      "100%|██████████| 3/3 [00:00<00:00, 750.05it/s]\n",
      "c:\\Users\\ShiShiuan\\Desktop\\機器學習與人工智慧實作\\venv\\lib\\site-packages\\sklearn\\pipeline.py:62: FutureWarning: This Pipeline instance is not fitted yet. Call 'fit' with appropriate arguments before using other methods such as transform, predict, etc. This will raise an error in 1.8 instead of the current warning.\n",
      "  warnings.warn(\n",
      "c:\\Users\\ShiShiuan\\Desktop\\機器學習與人工智慧實作\\venv\\lib\\site-packages\\sklearn\\pipeline.py:62: FutureWarning: This Pipeline instance is not fitted yet. Call 'fit' with appropriate arguments before using other methods such as transform, predict, etc. This will raise an error in 1.8 instead of the current warning.\n",
      "  warnings.warn(\n",
      "c:\\Users\\ShiShiuan\\Desktop\\機器學習與人工智慧實作\\venv\\lib\\site-packages\\sklearn\\pipeline.py:62: FutureWarning: This Pipeline instance is not fitted yet. Call 'fit' with appropriate arguments before using other methods such as transform, predict, etc. This will raise an error in 1.8 instead of the current warning.\n",
      "  warnings.warn(\n",
      "c:\\Users\\ShiShiuan\\Desktop\\機器學習與人工智慧實作\\venv\\lib\\site-packages\\sklearn\\pipeline.py:62: FutureWarning: This Pipeline instance is not fitted yet. Call 'fit' with appropriate arguments before using other methods such as transform, predict, etc. This will raise an error in 1.8 instead of the current warning.\n",
      "  warnings.warn(\n"
     ]
    },
    {
     "name": "stdout",
     "output_type": "stream",
     "text": [
      "Final train_df_train_csv_processed shape: (3646, 7)\n",
      "Final test_df_train_csv_processed shape: (1000, 7)\n",
      "=== END PREPROCESS DEBUG ===\n",
      "categorical features (cols): ['cat_0', 'cat_1', 'cat_2']\n",
      "categorical features (array): 3\n",
      "numerical features (cols): ['num_0', 'num_1', 'num_2', 'num_3']\n",
      "numerical features (array): 4\n",
      "🖥️ GPU 可用: NVIDIA GeForce RTX 3060\n",
      "🔢 可用GPU數量: 1\n",
      "💾 GPU記憶體: 12.0 GB\n",
      "Using current (post-sampling) data distribution for class weight computation\n",
      "Current class distribution: {0: 2877, 1: 769}\n",
      "Class 0: weight = 0.6336\n",
      "Class 1: weight = 2.3706\n",
      "Original class distribution (for reference): {0: 3231, 1: 769}\n",
      "Using class weights: [0.63364613 2.3706112 ]\n"
     ]
    },
    {
     "name": "stderr",
     "output_type": "stream",
     "text": [
      "                                                                                    \r"
     ]
    },
    {
     "name": "stdout",
     "output_type": "stream",
     "text": [
      "Model saved as ./models/ft_transformer_model_tomek_under_sampling.pth\n",
      "\n",
      "=== Training Set Evaluation ===\n",
      "Training Set Accuracy: 0.9756\n",
      "\n",
      "Training Set Confusion Matrix:\n",
      "[[2791   86]\n",
      " [   3  766]]\n",
      "Training Set ROC AUC: 0.9994\n",
      "✅ 訓練集評估圖表已保存為 'ft_transformer_model_tomek_under_sampling.pth_training_metrics.png'\n",
      "✅ 模型檔案載入成功: ./models/ft_transformer_model_tomek_under_sampling.pth\n",
      "✅ 模型架構匹配，直接載入成功\n"
     ]
    },
    {
     "name": "stderr",
     "output_type": "stream",
     "text": [
      "c:\\Users\\ShiShiuan\\Desktop\\機器學習與人工智慧實作\\src\\ft_transformer.py:846: UserWarning: FigureCanvasAgg is non-interactive, and thus cannot be shown\n",
      "  plt.show()\n",
      "c:\\Users\\ShiShiuan\\Desktop\\機器學習與人工智慧實作\\src\\ft_transformer.py:947: FutureWarning: You are using `torch.load` with `weights_only=False` (the current default value), which uses the default pickle module implicitly. It is possible to construct malicious pickle data which will execute arbitrary code during unpickling (See https://github.com/pytorch/pytorch/blob/main/SECURITY.md#untrusted-models for more details). In a future release, the default value for `weights_only` will be flipped to `True`. This limits the functions that could be executed during unpickling. Arbitrary objects will no longer be allowed to be loaded via this mode unless they are explicitly allowlisted by the user via `torch.serialization.add_safe_globals`. We recommend you start setting `weights_only=True` for any use case where you don't have full control of the loaded file. Please open an issue on GitHub for any issues related to this experimental feature.\n",
      "  model_state = torch.load(f\"./models/{model_name}\")\n"
     ]
    },
    {
     "name": "stdout",
     "output_type": "stream",
     "text": [
      "Test Accuracy: 0.5490\n",
      "\n",
      "Classification Report:\n",
      "              precision    recall  f1-score   support\n",
      "\n",
      "           0       0.81      0.59      0.68       829\n",
      "           1       0.15      0.35      0.21       171\n",
      "\n",
      "    accuracy                           0.55      1000\n",
      "   macro avg       0.48      0.47      0.45      1000\n",
      "weighted avg       0.70      0.55      0.60      1000\n",
      "\n",
      "\n",
      "Confusion Matrix:\n",
      "[[490 339]\n",
      " [112  59]]\n",
      "\n",
      "Detailed Confusion Matrix:\n",
      "Predicted:       0       1\n",
      "Actual 0:     490     339\n",
      "Actual 1:     112      59\n",
      "混淆矩陣圖表已保存為 'confusion_matrix.png'\n"
     ]
    },
    {
     "name": "stderr",
     "output_type": "stream",
     "text": [
      "c:\\Users\\ShiShiuan\\Desktop\\機器學習與人工智慧實作\\src\\ft_transformer.py:1065: UserWarning: FigureCanvasAgg is non-interactive, and thus cannot be shown\n",
      "  plt.show()\n"
     ]
    },
    {
     "data": {
      "text/plain": [
       "(0.549,\n",
       " array([[490, 339],\n",
       "        [112,  59]], dtype=int64))"
      ]
     },
     "execution_count": 49,
     "metadata": {},
     "output_type": "execute_result"
    }
   ],
   "source": [
    "from src.ft_transformer import CustomerFTTransformer\n",
    "\n",
    "ft_transformer_tomek_under_sampling = CustomerFTTransformer(num_attn_blocks=4, dropout=0.1)\n",
    "ft_transformer_tomek_under_sampling.format_dataframe()\n",
    "ft_transformer_tomek_under_sampling.preprocess(use_under_sampling=True, under_sampling_method='tomek')\n",
    "ft_transformer_tomek_under_sampling.set_feautres_processed()\n",
    "ft_transformer_tomek_under_sampling.set_tablar_dataset()\n",
    "ft_transformer_tomek_under_sampling.set_model_config()\n",
    "ft_transformer_tomek_under_sampling.train_model(num_epochs=500, model_name='ft_transformer_model_tomek_under_sampling.pth', use_class_weight=True)\n",
    "ft_transformer_tomek_under_sampling.evaluate_model(model_name='ft_transformer_model_tomek_under_sampling.pth')\n",
    "\n"
   ]
  },
  {
   "cell_type": "code",
   "execution_count": 44,
   "id": "3943dda6",
   "metadata": {},
   "outputs": [
    {
     "name": "stdout",
     "output_type": "stream",
     "text": [
      "=== Class Distribution Analysis ===\n",
      "Class distribution:\n",
      "  Class 0: 2877 samples (78.91%)\n",
      "  Class 1: 769 samples (21.09%)\n",
      "Imbalance ratio: 3.74\n",
      "⚠️  Dataset is imbalanced.\n"
     ]
    },
    {
     "data": {
      "text/plain": [
       "(target\n",
       " 0    2877\n",
       " 1     769\n",
       " Name: count, dtype: int64,\n",
       " 3.741222366710013)"
      ]
     },
     "execution_count": 44,
     "metadata": {},
     "output_type": "execute_result"
    }
   ],
   "source": [
    "ft_transformer_tomek_under_sampling.check_class_distribution(ft_transformer_tomek_under_sampling.train_df_train_csv_processed, 'target')"
   ]
  },
  {
   "cell_type": "code",
   "execution_count": 45,
   "id": "cc36ef89",
   "metadata": {},
   "outputs": [
    {
     "name": "stdout",
     "output_type": "stream",
     "text": [
      "🖥️ GPU 可用: NVIDIA GeForce RTX 3060\n",
      "🔢 可用GPU數量: 1\n",
      "💾 GPU記憶體: 12.0 GB\n",
      "Using current (post-sampling) data distribution for class weight computation\n",
      "Current class distribution: {0: 2877, 1: 769}\n",
      "Class 0: weight = 0.6336\n",
      "Class 1: weight = 2.3706\n",
      "Original class distribution (for reference): {0: 3231, 1: 769}\n",
      "Using class weights: [0.63364613 2.3706112 ]\n"
     ]
    },
    {
     "name": "stderr",
     "output_type": "stream",
     "text": [
      "                                                                                    \r"
     ]
    },
    {
     "name": "stdout",
     "output_type": "stream",
     "text": [
      "Model saved as ./models/ft_transformer_model_tomek_under_sampling.pth\n",
      "\n",
      "=== Training Set Evaluation ===\n",
      "Training Set Accuracy: 0.8280\n",
      "\n",
      "Training Set Confusion Matrix:\n",
      "[[2283  594]\n",
      " [  33  736]]\n",
      "Training Set ROC AUC: 0.9492\n",
      "✅ 訓練集評估圖表已保存為 'ft_transformer_model_tomek_under_sampling.pth_training_metrics.png'\n"
     ]
    },
    {
     "name": "stderr",
     "output_type": "stream",
     "text": [
      "c:\\Users\\ShiShiuan\\Desktop\\機器學習與人工智慧實作\\src\\ft_transformer.py:846: UserWarning: FigureCanvasAgg is non-interactive, and thus cannot be shown\n",
      "  plt.show()\n"
     ]
    }
   ],
   "source": [
    "ft_transformer_tomek_under_sampling.train_model(num_epochs=500, model_name='ft_transformer_model_tomek_under_sampling.pth', use_class_weight=True)"
   ]
  },
  {
   "cell_type": "code",
   "execution_count": null,
   "id": "f9dad3af",
   "metadata": {},
   "outputs": [
    {
     "name": "stderr",
     "output_type": "stream",
     "text": [
      "c:\\Users\\ShiShiuan\\Desktop\\機器學習與人工智慧實作\\src\\ft_transformer.py:947: FutureWarning: You are using `torch.load` with `weights_only=False` (the current default value), which uses the default pickle module implicitly. It is possible to construct malicious pickle data which will execute arbitrary code during unpickling (See https://github.com/pytorch/pytorch/blob/main/SECURITY.md#untrusted-models for more details). In a future release, the default value for `weights_only` will be flipped to `True`. This limits the functions that could be executed during unpickling. Arbitrary objects will no longer be allowed to be loaded via this mode unless they are explicitly allowlisted by the user via `torch.serialization.add_safe_globals`. We recommend you start setting `weights_only=True` for any use case where you don't have full control of the loaded file. Please open an issue on GitHub for any issues related to this experimental feature.\n",
      "  model_state = torch.load(f\"./models/{model_name}\")\n",
      "c:\\Users\\ShiShiuan\\Desktop\\機器學習與人工智慧實作\\src\\ft_transformer.py:1065: UserWarning: FigureCanvasAgg is non-interactive, and thus cannot be shown\n",
      "  plt.show()\n"
     ]
    },
    {
     "name": "stdout",
     "output_type": "stream",
     "text": [
      "✅ 模型檔案載入成功: ./models/ft_transformer_model_tomek_under_sampling.pth\n",
      "✅ 模型架構匹配，直接載入成功\n",
      "Test Accuracy: 0.4710\n",
      "\n",
      "Classification Report:\n",
      "              precision    recall  f1-score   support\n",
      "\n",
      "           0       0.83      0.46      0.59       829\n",
      "           1       0.17      0.54      0.26       171\n",
      "\n",
      "    accuracy                           0.47      1000\n",
      "   macro avg       0.50      0.50      0.42      1000\n",
      "weighted avg       0.72      0.47      0.53      1000\n",
      "\n",
      "\n",
      "Confusion Matrix:\n",
      "[[379 450]\n",
      " [ 79  92]]\n",
      "\n",
      "Detailed Confusion Matrix:\n",
      "Predicted:       0       1\n",
      "Actual 0:     379     450\n",
      "Actual 1:      79      92\n",
      "混淆矩陣圖表已保存為 'confusion_matrix.png'\n"
     ]
    },
    {
     "data": {
      "text/plain": [
       "(0.471,\n",
       " array([[379, 450],\n",
       "        [ 79,  92]], dtype=int64))"
      ]
     },
     "execution_count": 48,
     "metadata": {},
     "output_type": "execute_result"
    }
   ],
   "source": [
    "ft_transformer_tomek_under_sampling.evaluate_model(model_name='ft_transformer_model_tomek_under_sampling.pth')"
   ]
  },
  {
   "cell_type": "markdown",
   "id": "02761312",
   "metadata": {},
   "source": [
    "## ENN"
   ]
  },
  {
   "cell_type": "code",
   "execution_count": 3,
   "id": "9fddd2ff",
   "metadata": {},
   "outputs": [
    {
     "name": "stdout",
     "output_type": "stream",
     "text": [
      "Encoded gender: [0, 1]\n",
      "Encoded primary_diagnosis: [0, 1, 2, 3, 4]\n",
      "Encoded discharge_to: [0, 1, 2, 3]\n",
      "Encoded num_procedures: [0, 1, 2, 3, 4, 5, 6, 7, 8, 9]\n",
      "Encoded days_in_hospital: [0, 1, 2, 3, 4, 5, 6, 7, 8, 9, 10, 11, 12, 13]\n",
      "Encoded comorbidity_score: [0, 1, 2, 3, 4]\n",
      "=== Feature Encoding Complete ===\n",
      "Numerical features: ['age']\n",
      "Categorical features (encoded): ['gender', 'primary_diagnosis', 'discharge_to', 'num_procedures', 'days_in_hospital', 'comorbidity_score']\n",
      "\n",
      "Sample of encoded data:\n",
      "  gender primary_diagnosis discharge_to num_procedures days_in_hospital  \\\n",
      "0      1                 2            1              1                1   \n",
      "1      0                 0            2              2               12   \n",
      "2      1                 1            0              1                6   \n",
      "3      1                 0            3              9                1   \n",
      "4      1                 1            2              6                3   \n",
      "\n",
      "  comorbidity_score  \n",
      "0                 1  \n",
      "1                 2  \n",
      "2                 1  \n",
      "3                 2  \n",
      "4                 4  \n",
      "=== PREPROCESS DEBUG INFO ===\n",
      "Before sampling - Training set size: 4000\n",
      "Before sampling - Class distribution: {0: 3234, 1: 766}\n",
      "Before sampling - X_num_train shape: (4000, 1)\n",
      "Before sampling - X_cat_train shape: (4000, 6)\n",
      "🔄 Applying under sampling with method: enn\n",
      "=== Applying enn under sampling ===\n",
      "Original class distribution: {0: 3234, 1: 766}\n",
      "Imbalance ratio: 4.22\n",
      "Applying enn under sampling...\n",
      "=== Under sampling results ===\n",
      "Final class distribution: {0: 1705, 1: 766}\n",
      "Training set size: 4000 -> 2471\n",
      "Samples removed: 1529\n",
      "✅ Under sampling successful using enn method\n",
      "After under sampling - Training set size: 2471 (was 4000)\n",
      "train_df_train_csv shape after DataFrame creation: (2471, 8)\n"
     ]
    },
    {
     "name": "stderr",
     "output_type": "stream",
     "text": [
      "100%|██████████| 6/6 [00:00<?, ?it/s]"
     ]
    },
    {
     "name": "stdout",
     "output_type": "stream",
     "text": [
      "Final train_df_train_csv_processed shape: (2471, 7)\n",
      "Final test_df_train_csv_processed shape: (1000, 7)\n",
      "=== END PREPROCESS DEBUG ===\n",
      "categorical features (cols): ['cat_0', 'cat_1', 'cat_2', 'cat_3', 'cat_4', 'cat_5']\n",
      "categorical features (array): 6\n",
      "numerical features (cols): ['num_0']\n",
      "numerical features (array): 1\n"
     ]
    },
    {
     "name": "stderr",
     "output_type": "stream",
     "text": [
      "\n",
      "c:\\Users\\ShiShiuan\\Desktop\\機器學習與人工智慧實作\\venv\\lib\\site-packages\\sklearn\\pipeline.py:62: FutureWarning: This Pipeline instance is not fitted yet. Call 'fit' with appropriate arguments before using other methods such as transform, predict, etc. This will raise an error in 1.8 instead of the current warning.\n",
      "  warnings.warn(\n",
      "c:\\Users\\ShiShiuan\\Desktop\\機器學習與人工智慧實作\\venv\\lib\\site-packages\\sklearn\\pipeline.py:62: FutureWarning: This Pipeline instance is not fitted yet. Call 'fit' with appropriate arguments before using other methods such as transform, predict, etc. This will raise an error in 1.8 instead of the current warning.\n",
      "  warnings.warn(\n",
      "c:\\Users\\ShiShiuan\\Desktop\\機器學習與人工智慧實作\\venv\\lib\\site-packages\\sklearn\\pipeline.py:62: FutureWarning: This Pipeline instance is not fitted yet. Call 'fit' with appropriate arguments before using other methods such as transform, predict, etc. This will raise an error in 1.8 instead of the current warning.\n",
      "  warnings.warn(\n",
      "c:\\Users\\ShiShiuan\\Desktop\\機器學習與人工智慧實作\\venv\\lib\\site-packages\\sklearn\\pipeline.py:62: FutureWarning: This Pipeline instance is not fitted yet. Call 'fit' with appropriate arguments before using other methods such as transform, predict, etc. This will raise an error in 1.8 instead of the current warning.\n",
      "  warnings.warn(\n"
     ]
    }
   ],
   "source": [
    "ft_transformer_enn_under_sampling = CustomerFTTransformer()\n",
    "ft_transformer_enn_under_sampling.format_dataframe()\n",
    "ft_transformer_enn_under_sampling.preprocess(use_under_sampling=True, under_sampling_method='enn')\n",
    "ft_transformer_enn_under_sampling.set_feautres_processed()\n",
    "ft_transformer_enn_under_sampling.set_tablar_dataset()\n",
    "ft_transformer_enn_under_sampling.set_model_config()"
   ]
  },
  {
   "cell_type": "code",
   "execution_count": 4,
   "id": "bdf29c32",
   "metadata": {},
   "outputs": [
    {
     "data": {
      "text/html": [
       "<div>\n",
       "<style scoped>\n",
       "    .dataframe tbody tr th:only-of-type {\n",
       "        vertical-align: middle;\n",
       "    }\n",
       "\n",
       "    .dataframe tbody tr th {\n",
       "        vertical-align: top;\n",
       "    }\n",
       "\n",
       "    .dataframe thead th {\n",
       "        text-align: right;\n",
       "    }\n",
       "</style>\n",
       "<table border=\"1\" class=\"dataframe\">\n",
       "  <thead>\n",
       "    <tr style=\"text-align: right;\">\n",
       "      <th></th>\n",
       "      <th>num_0</th>\n",
       "      <th>cat_0</th>\n",
       "      <th>cat_1</th>\n",
       "      <th>cat_2</th>\n",
       "      <th>cat_3</th>\n",
       "      <th>cat_4</th>\n",
       "      <th>cat_5</th>\n",
       "      <th>target</th>\n",
       "    </tr>\n",
       "  </thead>\n",
       "  <tbody>\n",
       "    <tr>\n",
       "      <th>0</th>\n",
       "      <td>0.585107</td>\n",
       "      <td>0</td>\n",
       "      <td>1</td>\n",
       "      <td>2</td>\n",
       "      <td>8</td>\n",
       "      <td>12</td>\n",
       "      <td>4</td>\n",
       "      <td>0</td>\n",
       "    </tr>\n",
       "    <tr>\n",
       "      <th>1</th>\n",
       "      <td>-0.734232</td>\n",
       "      <td>1</td>\n",
       "      <td>0</td>\n",
       "      <td>3</td>\n",
       "      <td>1</td>\n",
       "      <td>4</td>\n",
       "      <td>1</td>\n",
       "      <td>1</td>\n",
       "    </tr>\n",
       "    <tr>\n",
       "      <th>2</th>\n",
       "      <td>-1.027418</td>\n",
       "      <td>1</td>\n",
       "      <td>1</td>\n",
       "      <td>2</td>\n",
       "      <td>6</td>\n",
       "      <td>12</td>\n",
       "      <td>0</td>\n",
       "      <td>1</td>\n",
       "    </tr>\n",
       "    <tr>\n",
       "      <th>3</th>\n",
       "      <td>-0.050130</td>\n",
       "      <td>1</td>\n",
       "      <td>2</td>\n",
       "      <td>2</td>\n",
       "      <td>3</td>\n",
       "      <td>2</td>\n",
       "      <td>0</td>\n",
       "      <td>0</td>\n",
       "    </tr>\n",
       "    <tr>\n",
       "      <th>4</th>\n",
       "      <td>-0.392181</td>\n",
       "      <td>0</td>\n",
       "      <td>1</td>\n",
       "      <td>3</td>\n",
       "      <td>2</td>\n",
       "      <td>0</td>\n",
       "      <td>2</td>\n",
       "      <td>0</td>\n",
       "    </tr>\n",
       "    <tr>\n",
       "      <th>...</th>\n",
       "      <td>...</td>\n",
       "      <td>...</td>\n",
       "      <td>...</td>\n",
       "      <td>...</td>\n",
       "      <td>...</td>\n",
       "      <td>...</td>\n",
       "      <td>...</td>\n",
       "      <td>...</td>\n",
       "    </tr>\n",
       "    <tr>\n",
       "      <th>2466</th>\n",
       "      <td>0.389650</td>\n",
       "      <td>1</td>\n",
       "      <td>3</td>\n",
       "      <td>0</td>\n",
       "      <td>4</td>\n",
       "      <td>10</td>\n",
       "      <td>4</td>\n",
       "      <td>0</td>\n",
       "    </tr>\n",
       "    <tr>\n",
       "      <th>2467</th>\n",
       "      <td>-0.196723</td>\n",
       "      <td>0</td>\n",
       "      <td>2</td>\n",
       "      <td>0</td>\n",
       "      <td>0</td>\n",
       "      <td>6</td>\n",
       "      <td>2</td>\n",
       "      <td>0</td>\n",
       "    </tr>\n",
       "    <tr>\n",
       "      <th>2468</th>\n",
       "      <td>-0.392181</td>\n",
       "      <td>0</td>\n",
       "      <td>1</td>\n",
       "      <td>0</td>\n",
       "      <td>3</td>\n",
       "      <td>3</td>\n",
       "      <td>4</td>\n",
       "      <td>0</td>\n",
       "    </tr>\n",
       "    <tr>\n",
       "      <th>2469</th>\n",
       "      <td>-1.711519</td>\n",
       "      <td>0</td>\n",
       "      <td>3</td>\n",
       "      <td>3</td>\n",
       "      <td>1</td>\n",
       "      <td>10</td>\n",
       "      <td>2</td>\n",
       "      <td>0</td>\n",
       "    </tr>\n",
       "    <tr>\n",
       "      <th>2470</th>\n",
       "      <td>-1.271740</td>\n",
       "      <td>1</td>\n",
       "      <td>1</td>\n",
       "      <td>3</td>\n",
       "      <td>2</td>\n",
       "      <td>9</td>\n",
       "      <td>2</td>\n",
       "      <td>0</td>\n",
       "    </tr>\n",
       "  </tbody>\n",
       "</table>\n",
       "<p>2471 rows × 8 columns</p>\n",
       "</div>"
      ],
      "text/plain": [
       "         num_0  cat_0  cat_1  cat_2  cat_3  cat_4  cat_5  target\n",
       "0     0.585107      0      1      2      8     12      4       0\n",
       "1    -0.734232      1      0      3      1      4      1       1\n",
       "2    -1.027418      1      1      2      6     12      0       1\n",
       "3    -0.050130      1      2      2      3      2      0       0\n",
       "4    -0.392181      0      1      3      2      0      2       0\n",
       "...        ...    ...    ...    ...    ...    ...    ...     ...\n",
       "2466  0.389650      1      3      0      4     10      4       0\n",
       "2467 -0.196723      0      2      0      0      6      2       0\n",
       "2468 -0.392181      0      1      0      3      3      4       0\n",
       "2469 -1.711519      0      3      3      1     10      2       0\n",
       "2470 -1.271740      1      1      3      2      9      2       0\n",
       "\n",
       "[2471 rows x 8 columns]"
      ]
     },
     "execution_count": 4,
     "metadata": {},
     "output_type": "execute_result"
    }
   ],
   "source": [
    "ft_transformer_enn_under_sampling.train_df_train_csv_processed"
   ]
  },
  {
   "cell_type": "code",
   "execution_count": 5,
   "id": "d23041dc",
   "metadata": {},
   "outputs": [
    {
     "name": "stdout",
     "output_type": "stream",
     "text": [
      "=== Class Distribution Analysis ===\n",
      "Class distribution:\n",
      "  Class 0: 1705 samples (69.00%)\n",
      "  Class 1: 766 samples (31.00%)\n",
      "Imbalance ratio: 2.23\n",
      "⚠️  Dataset is imbalanced.\n"
     ]
    },
    {
     "data": {
      "text/plain": [
       "(target\n",
       " 0    1705\n",
       " 1     766\n",
       " Name: count, dtype: int64,\n",
       " 2.2258485639686683)"
      ]
     },
     "execution_count": 5,
     "metadata": {},
     "output_type": "execute_result"
    }
   ],
   "source": [
    "ft_transformer_enn_under_sampling.check_class_distribution(ft_transformer_enn_under_sampling.train_df_train_csv_processed, 'target')"
   ]
  },
  {
   "cell_type": "code",
   "execution_count": 6,
   "id": "52333f97",
   "metadata": {},
   "outputs": [
    {
     "name": "stdout",
     "output_type": "stream",
     "text": [
      "Using current (post-sampling) data distribution for class weight computation\n",
      "Current class distribution: {0: 1705, 1: 766}\n",
      "Class 0: weight = 0.7246\n",
      "Class 1: weight = 1.6129\n",
      "Original class distribution (for reference): {0: 3234, 1: 766}\n",
      "Using class weights: [0.72463346 1.6129243 ]\n"
     ]
    },
    {
     "name": "stderr",
     "output_type": "stream",
     "text": [
      "                                                                                    "
     ]
    },
    {
     "name": "stdout",
     "output_type": "stream",
     "text": [
      "Model saved as ./models/ft_transformer_model_enn_under_sampling.pth\n"
     ]
    },
    {
     "name": "stderr",
     "output_type": "stream",
     "text": [
      "\r"
     ]
    }
   ],
   "source": [
    "ft_transformer_enn_under_sampling.train_model(num_epochs=500, model_name='ft_transformer_model_enn_under_sampling.pth', use_class_weight=True)"
   ]
  },
  {
   "cell_type": "code",
   "execution_count": 7,
   "id": "70273163",
   "metadata": {},
   "outputs": [
    {
     "name": "stderr",
     "output_type": "stream",
     "text": [
      "c:\\Users\\ShiShiuan\\Desktop\\機器學習與人工智慧實作\\src\\ft_transformer.py:394: FutureWarning: You are using `torch.load` with `weights_only=False` (the current default value), which uses the default pickle module implicitly. It is possible to construct malicious pickle data which will execute arbitrary code during unpickling (See https://github.com/pytorch/pytorch/blob/main/SECURITY.md#untrusted-models for more details). In a future release, the default value for `weights_only` will be flipped to `True`. This limits the functions that could be executed during unpickling. Arbitrary objects will no longer be allowed to be loaded via this mode unless they are explicitly allowlisted by the user via `torch.serialization.add_safe_globals`. We recommend you start setting `weights_only=True` for any use case where you don't have full control of the loaded file. Please open an issue on GitHub for any issues related to this experimental feature.\n",
      "  self.model.load_state_dict(torch.load(f\"./models/{model_name}\"))\n"
     ]
    },
    {
     "name": "stdout",
     "output_type": "stream",
     "text": [
      "Test Accuracy: 0.4030\n",
      "\n",
      "Classification Report:\n",
      "              precision    recall  f1-score   support\n",
      "\n",
      "           0       0.81      0.36      0.50       826\n",
      "           1       0.17      0.60      0.26       174\n",
      "\n",
      "    accuracy                           0.40      1000\n",
      "   macro avg       0.49      0.48      0.38      1000\n",
      "weighted avg       0.70      0.40      0.46      1000\n",
      "\n",
      "\n",
      "Confusion Matrix:\n",
      "[[298 528]\n",
      " [ 69 105]]\n",
      "\n",
      "Detailed Confusion Matrix:\n",
      "Predicted:       0       1\n",
      "Actual 0:     298     528\n",
      "Actual 1:      69     105\n"
     ]
    },
    {
     "data": {
      "image/png": "[encoded data removed]",
      "text/plain": [
       "<Figure size 600x400 with 2 Axes>"
      ]
     },
     "metadata": {},
     "output_type": "display_data"
    },
    {
     "name": "stdout",
     "output_type": "stream",
     "text": [
      "混淆矩陣圖表已保存為 'confusion_matrix.png'\n"
     ]
    },
    {
     "data": {
      "text/plain": [
       "(0.403,\n",
       " array([[298, 528],\n",
       "        [ 69, 105]], dtype=int64))"
      ]
     },
     "execution_count": 7,
     "metadata": {},
     "output_type": "execute_result"
    },
    {
     "data": {
      "text/plain": [
       "<Figure size 640x480 with 0 Axes>"
      ]
     },
     "metadata": {},
     "output_type": "display_data"
    }
   ],
   "source": [
    "ft_transformer_enn_under_sampling.evaluate_model(model_name='ft_transformer_model_enn_under_sampling.pth')"
   ]
  },
  {
   "cell_type": "markdown",
   "id": "e292f568",
   "metadata": {},
   "source": [
    "# Class Weight"
   ]
  },
  {
   "cell_type": "code",
   "execution_count": 1,
   "id": "5f104d4d",
   "metadata": {},
   "outputs": [
    {
     "name": "stdout",
     "output_type": "stream",
     "text": [
      "Encoded gender: [0, 1]\n",
      "Encoded primary_diagnosis: [0, 1, 2, 3, 4]\n",
      "Encoded discharge_to: [0, 1, 2, 3]\n",
      "=== Feature Encoding Complete ===\n",
      "Numerical features: ['age', 'num_procedures', 'days_in_hospital', 'comorbidity_score']\n",
      "Categorical features (encoded): ['gender', 'primary_diagnosis', 'discharge_to']\n",
      "\n",
      "Sample of encoded data:\n",
      "  gender primary_diagnosis discharge_to\n",
      "0      1                 1            1\n",
      "1      1                 3            0\n",
      "2      0                 1            2\n",
      "3      0                 4            0\n",
      "4      0                 2            3\n",
      "train_df_train_csv shape after DataFrame creation: (4000, 8)\n"
     ]
    },
    {
     "name": "stderr",
     "output_type": "stream",
     "text": [
      "100%|██████████| 3/3 [00:00<?, ?it/s]"
     ]
    },
    {
     "name": "stdout",
     "output_type": "stream",
     "text": [
      "Final train_df_train_csv_processed shape: (4000, 7)\n",
      "Final test_df_train_csv_processed shape: (1000, 7)\n",
      "=== END PREPROCESS DEBUG ===\n",
      "categorical features (cols): ['cat_0', 'cat_1', 'cat_2']\n",
      "categorical features (array): 3\n",
      "numerical features (cols): ['num_0', 'num_1', 'num_2', 'num_3']\n",
      "numerical features (array): 4\n"
     ]
    },
    {
     "name": "stderr",
     "output_type": "stream",
     "text": [
      "\n",
      "c:\\Users\\ShiShiuan\\Desktop\\機器學習與人工智慧實作\\venv\\lib\\site-packages\\sklearn\\pipeline.py:62: FutureWarning: This Pipeline instance is not fitted yet. Call 'fit' with appropriate arguments before using other methods such as transform, predict, etc. This will raise an error in 1.8 instead of the current warning.\n",
      "  warnings.warn(\n",
      "c:\\Users\\ShiShiuan\\Desktop\\機器學習與人工智慧實作\\venv\\lib\\site-packages\\sklearn\\pipeline.py:62: FutureWarning: This Pipeline instance is not fitted yet. Call 'fit' with appropriate arguments before using other methods such as transform, predict, etc. This will raise an error in 1.8 instead of the current warning.\n",
      "  warnings.warn(\n",
      "c:\\Users\\ShiShiuan\\Desktop\\機器學習與人工智慧實作\\venv\\lib\\site-packages\\sklearn\\pipeline.py:62: FutureWarning: This Pipeline instance is not fitted yet. Call 'fit' with appropriate arguments before using other methods such as transform, predict, etc. This will raise an error in 1.8 instead of the current warning.\n",
      "  warnings.warn(\n",
      "c:\\Users\\ShiShiuan\\Desktop\\機器學習與人工智慧實作\\venv\\lib\\site-packages\\sklearn\\pipeline.py:62: FutureWarning: This Pipeline instance is not fitted yet. Call 'fit' with appropriate arguments before using other methods such as transform, predict, etc. This will raise an error in 1.8 instead of the current warning.\n",
      "  warnings.warn(\n"
     ]
    }
   ],
   "source": [
    "from src.ft_transformer import CustomerFTTransformer\n",
    "\n",
    "ft_transformer_class_weight = CustomerFTTransformer()\n",
    "ft_transformer_class_weight.format_dataframe()\n",
    "ft_transformer_class_weight.preprocess()\n",
    "ft_transformer_class_weight.set_feautres_processed()\n",
    "ft_transformer_class_weight.set_tablar_dataset()\n",
    "ft_transformer_class_weight.set_model_config()"
   ]
  },
  {
   "cell_type": "code",
   "execution_count": 2,
   "id": "3e5c0988",
   "metadata": {},
   "outputs": [
    {
     "name": "stdout",
     "output_type": "stream",
     "text": [
      "=== Class Distribution Analysis ===\n",
      "Class distribution:\n",
      "  Class 0: 3231 samples (80.77%)\n",
      "  Class 1: 769 samples (19.23%)\n",
      "Imbalance ratio: 4.20\n",
      "⚠️  Dataset is imbalanced.\n"
     ]
    },
    {
     "data": {
      "text/plain": [
       "(target\n",
       " 0    3231\n",
       " 1     769\n",
       " Name: count, dtype: int64,\n",
       " 4.201560468140442)"
      ]
     },
     "execution_count": 2,
     "metadata": {},
     "output_type": "execute_result"
    }
   ],
   "source": [
    "ft_transformer_class_weight.check_class_distribution(ft_transformer_class_weight.train_df_train_csv_processed, 'target')"
   ]
  },
  {
   "cell_type": "code",
   "execution_count": 7,
   "id": "3637e1db",
   "metadata": {},
   "outputs": [
    {
     "name": "stdout",
     "output_type": "stream",
     "text": [
      "🖥️ GPU 可用: NVIDIA GeForce RTX 3060\n",
      "🔢 可用GPU數量: 1\n",
      "💾 GPU記憶體: 12.0 GB\n",
      "\n",
      "🔄 開始 3-Fold Cross Validation 訓練...\n",
      "\n",
      "📋 Fold 1/3\n",
      "--------------------------------------------------\n",
      "Using current (post-sampling) data distribution for class weight computation\n",
      "Current class distribution: {0: 3231, 1: 769}\n",
      "Class 0: weight = 0.6190\n",
      "Class 1: weight = 2.6008\n",
      "Original class distribution (for reference): {0: 3231, 1: 769}\n"
     ]
    },
    {
     "name": "stderr",
     "output_type": "stream",
     "text": [
      "                                                                                                                                                   \r"
     ]
    },
    {
     "name": "stdout",
     "output_type": "stream",
     "text": [
      "\n",
      "⏹️ Early stopping triggered at epoch 100\n",
      "Best validation loss: 0.6931\n",
      "✅ Fold 1 completed with early stopping after 100 epochs\n",
      "Final validation - Accuracy: 0.5930, Loss: 0.7336\n",
      "Fold 1 - Validation Accuracy: 0.5930, Loss: 0.7336\n",
      "\n",
      "📋 Fold 2/3\n",
      "--------------------------------------------------\n",
      "Using current (post-sampling) data distribution for class weight computation\n",
      "Current class distribution: {0: 3231, 1: 769}\n",
      "Class 0: weight = 0.6190\n",
      "Class 1: weight = 2.6008\n",
      "Original class distribution (for reference): {0: 3231, 1: 769}\n"
     ]
    },
    {
     "name": "stderr",
     "output_type": "stream",
     "text": [
      "                                                                                                                                                   \r"
     ]
    },
    {
     "name": "stdout",
     "output_type": "stream",
     "text": [
      "\n",
      "⏹️ Early stopping triggered at epoch 86\n",
      "Best validation loss: 0.6973\n",
      "✅ Fold 2 completed with early stopping after 86 epochs\n",
      "Final validation - Accuracy: 0.6324, Loss: 0.7305\n",
      "Fold 2 - Validation Accuracy: 0.6324, Loss: 0.7305\n",
      "\n",
      "📋 Fold 3/3\n",
      "--------------------------------------------------\n",
      "Using current (post-sampling) data distribution for class weight computation\n",
      "Current class distribution: {0: 3231, 1: 769}\n",
      "Class 0: weight = 0.6190\n",
      "Class 1: weight = 2.6008\n",
      "Original class distribution (for reference): {0: 3231, 1: 769}\n"
     ]
    },
    {
     "name": "stderr",
     "output_type": "stream",
     "text": [
      "                                                                                                                                                     \r"
     ]
    },
    {
     "name": "stdout",
     "output_type": "stream",
     "text": [
      "✅ Fold 3 completed full training (100 epochs)\n",
      "Final validation - Accuracy: 0.4126, Loss: 0.7029\n",
      "Fold 3 - Validation Accuracy: 0.4126, Loss: 0.7029\n",
      "💾 最佳模型已保存: ./models/ft_transformer_model_class_weight.pth_best_cv.pth (來自 Fold 2)\n",
      "\n",
      "============================================================\n",
      "🎯 Cross Validation 總結\n",
      "============================================================\n",
      "平均準確率: 0.5460 ± 0.0957\n",
      "平均損失: 0.7223 ± 0.0138\n",
      "最佳模型來自: Fold 2 (準確率: 0.6324)\n",
      "============================================================\n",
      "\n",
      "📊 Plotting confusion matrices for each fold...\n",
      "Confusion matrix for fold 1 saved as: ./images/ft_transformer_model_class_weight.pth_fold1_cm.png\n",
      "Confusion matrix for fold 2 saved as: ./images/ft_transformer_model_class_weight.pth_fold2_cm.png\n",
      "Confusion matrix for fold 3 saved as: ./images/ft_transformer_model_class_weight.pth_fold3_cm.png\n"
     ]
    }
   ],
   "source": [
    "ft_transformer_class_weight.train_model(\n",
    "    num_epochs=100, \n",
    "    model_name='ft_transformer_model_class_weight.pth', \n",
    "    use_class_weight=True, \n",
    "    enable_cv=True, \n",
    "    k_folds=3,\n",
    "    early_stopping=True,\n",
    "    patience=80\n",
    ")"
   ]
  },
  {
   "cell_type": "code",
   "execution_count": 5,
   "id": "6e0f1dc6",
   "metadata": {},
   "outputs": [
    {
     "name": "stderr",
     "output_type": "stream",
     "text": [
      "c:\\Users\\ShiShiuan\\Desktop\\機器學習與人工智慧實作\\src\\ft_transformer.py:958: FutureWarning: You are using `torch.load` with `weights_only=False` (the current default value), which uses the default pickle module implicitly. It is possible to construct malicious pickle data which will execute arbitrary code during unpickling (See https://github.com/pytorch/pytorch/blob/main/SECURITY.md#untrusted-models for more details). In a future release, the default value for `weights_only` will be flipped to `True`. This limits the functions that could be executed during unpickling. Arbitrary objects will no longer be allowed to be loaded via this mode unless they are explicitly allowlisted by the user via `torch.serialization.add_safe_globals`. We recommend you start setting `weights_only=True` for any use case where you don't have full control of the loaded file. Please open an issue on GitHub for any issues related to this experimental feature.\n",
      "  model_for_eval.load_state_dict(torch.load(f\"./models/{model_name}\"))\n"
     ]
    },
    {
     "ename": "FileNotFoundError",
     "evalue": "[Errno 2] No such file or directory: './models/ft_transformer_model_class_weight_cv.pth'",
     "output_type": "error",
     "traceback": [
      "\u001b[1;31m---------------------------------------------------------------------------\u001b[0m",
      "\u001b[1;31mFileNotFoundError\u001b[0m                         Traceback (most recent call last)",
      "\u001b[1;32mc:\\Users\\ShiShiuan\\Desktop\\機器學習與人工智慧實作\\dev.ipynb Cell 45\u001b[0m line \u001b[0;36m1\n\u001b[1;32m----> <a href='vscode-notebook-cell://ssh-remote%2B140.119.19.165/c%3A/Users/ShiShiuan/Desktop/%E6%A9%9F%E5%99%A8%E5%AD%B8%E7%BF%92%E8%88%87%E4%BA%BA%E5%B7%A5%E6%99%BA%E6%85%A7%E5%AF%A6%E4%BD%9C/dev.ipynb#X63sdnNjb2RlLXJlbW90ZQ%3D%3D?line=0'>1</a>\u001b[0m ft_transformer_class_weight\u001b[39m.\u001b[39;49mevaluate_model(model_name\u001b[39m=\u001b[39;49m\u001b[39m'\u001b[39;49m\u001b[39mft_transformer_model_class_weight_cv.pth\u001b[39;49m\u001b[39m'\u001b[39;49m, num_attn_blocks\u001b[39m=\u001b[39;49m\u001b[39m1\u001b[39;49m)\n",
      "File \u001b[1;32mc:\\Users\\ShiShiuan\\Desktop\\機器學習與人工智慧實作\\src\\ft_transformer.py:958\u001b[0m, in \u001b[0;36mCustomerFTTransformer.evaluate_model\u001b[1;34m(self, model_name, num_attn_blocks)\u001b[0m\n\u001b[0;32m    954\u001b[0m     model_for_eval \u001b[39m=\u001b[39m FTTransformerModel(config\u001b[39m=\u001b[39m\u001b[39mself\u001b[39m\u001b[39m.\u001b[39mconfig)\n\u001b[0;32m    956\u001b[0m \u001b[39mtry\u001b[39;00m:\n\u001b[0;32m    957\u001b[0m     \u001b[39m# 嘗試載入模型\u001b[39;00m\n\u001b[1;32m--> 958\u001b[0m     model_for_eval\u001b[39m.\u001b[39mload_state_dict(torch\u001b[39m.\u001b[39;49mload(\u001b[39mf\u001b[39;49m\u001b[39m\"\u001b[39;49m\u001b[39m./models/\u001b[39;49m\u001b[39m{\u001b[39;49;00mmodel_name\u001b[39m}\u001b[39;49;00m\u001b[39m\"\u001b[39;49m))\n\u001b[0;32m    959\u001b[0m     \u001b[39mprint\u001b[39m(\u001b[39mf\u001b[39m\u001b[39m\"\u001b[39m\u001b[39m✅ 成功載入模型: ./models/\u001b[39m\u001b[39m{\u001b[39;00mmodel_name\u001b[39m}\u001b[39;00m\u001b[39m\"\u001b[39m)\n\u001b[0;32m    960\u001b[0m \u001b[39mexcept\u001b[39;00m \u001b[39mRuntimeError\u001b[39;00m \u001b[39mas\u001b[39;00m e:\n",
      "File \u001b[1;32mc:\\Users\\ShiShiuan\\Desktop\\機器學習與人工智慧實作\\venv\\lib\\site-packages\\torch\\serialization.py:1319\u001b[0m, in \u001b[0;36mload\u001b[1;34m(f, map_location, pickle_module, weights_only, mmap, **pickle_load_args)\u001b[0m\n\u001b[0;32m   1316\u001b[0m \u001b[39mif\u001b[39;00m \u001b[39m\"\u001b[39m\u001b[39mencoding\u001b[39m\u001b[39m\"\u001b[39m \u001b[39mnot\u001b[39;00m \u001b[39min\u001b[39;00m pickle_load_args\u001b[39m.\u001b[39mkeys():\n\u001b[0;32m   1317\u001b[0m     pickle_load_args[\u001b[39m\"\u001b[39m\u001b[39mencoding\u001b[39m\u001b[39m\"\u001b[39m] \u001b[39m=\u001b[39m \u001b[39m\"\u001b[39m\u001b[39mutf-8\u001b[39m\u001b[39m\"\u001b[39m\n\u001b[1;32m-> 1319\u001b[0m \u001b[39mwith\u001b[39;00m _open_file_like(f, \u001b[39m\"\u001b[39;49m\u001b[39mrb\u001b[39;49m\u001b[39m\"\u001b[39;49m) \u001b[39mas\u001b[39;00m opened_file:\n\u001b[0;32m   1320\u001b[0m     \u001b[39mif\u001b[39;00m _is_zipfile(opened_file):\n\u001b[0;32m   1321\u001b[0m         \u001b[39m# The zipfile reader is going to advance the current file position.\u001b[39;00m\n\u001b[0;32m   1322\u001b[0m         \u001b[39m# If we want to actually tail call to torch.jit.load, we need to\u001b[39;00m\n\u001b[0;32m   1323\u001b[0m         \u001b[39m# reset back to the original position.\u001b[39;00m\n\u001b[0;32m   1324\u001b[0m         orig_position \u001b[39m=\u001b[39m opened_file\u001b[39m.\u001b[39mtell()\n",
      "File \u001b[1;32mc:\\Users\\ShiShiuan\\Desktop\\機器學習與人工智慧實作\\venv\\lib\\site-packages\\torch\\serialization.py:659\u001b[0m, in \u001b[0;36m_open_file_like\u001b[1;34m(name_or_buffer, mode)\u001b[0m\n\u001b[0;32m    657\u001b[0m \u001b[39mdef\u001b[39;00m\u001b[39m \u001b[39m\u001b[39m_open_file_like\u001b[39m(name_or_buffer, mode):\n\u001b[0;32m    658\u001b[0m     \u001b[39mif\u001b[39;00m _is_path(name_or_buffer):\n\u001b[1;32m--> 659\u001b[0m         \u001b[39mreturn\u001b[39;00m _open_file(name_or_buffer, mode)\n\u001b[0;32m    660\u001b[0m     \u001b[39melse\u001b[39;00m:\n\u001b[0;32m    661\u001b[0m         \u001b[39mif\u001b[39;00m \u001b[39m\"\u001b[39m\u001b[39mw\u001b[39m\u001b[39m\"\u001b[39m \u001b[39min\u001b[39;00m mode:\n",
      "File \u001b[1;32mc:\\Users\\ShiShiuan\\Desktop\\機器學習與人工智慧實作\\venv\\lib\\site-packages\\torch\\serialization.py:640\u001b[0m, in \u001b[0;36m_open_file.__init__\u001b[1;34m(self, name, mode)\u001b[0m\n\u001b[0;32m    639\u001b[0m \u001b[39mdef\u001b[39;00m\u001b[39m \u001b[39m\u001b[39m__init__\u001b[39m(\u001b[39mself\u001b[39m, name, mode):\n\u001b[1;32m--> 640\u001b[0m     \u001b[39msuper\u001b[39m()\u001b[39m.\u001b[39m\u001b[39m__init__\u001b[39m(\u001b[39mopen\u001b[39;49m(name, mode))\n",
      "\u001b[1;31mFileNotFoundError\u001b[0m: [Errno 2] No such file or directory: './models/ft_transformer_model_class_weight_cv.pth'"
     ]
    }
   ],
   "source": [
    "ft_transformer_class_weight.evaluate_model(model_name='ft_transformer_model_class_weight_cv.pth', num_attn_blocks=1)"
   ]
  }
 ],
 "metadata": {
  "kernelspec": {
   "display_name": "venv",
   "language": "python",
   "name": "python3"
  },
  "language_info": {
   "codemirror_mode": {
    "name": "ipython",
    "version": 3
   },
   "file_extension": ".py",
   "mimetype": "text/x-python",
   "name": "python",
   "nbconvert_exporter": "python",
   "pygments_lexer": "ipython3",
   "version": "3.10.3"
  }
 },
 "nbformat": 4,
 "nbformat_minor": 5
}
