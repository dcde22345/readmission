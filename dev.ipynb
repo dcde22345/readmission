{
 "cells": [
  {
   "cell_type": "code",
   "execution_count": 35,
   "id": "c6b5e132",
   "metadata": {},
   "outputs": [],
   "source": [
    "import numpy as np\n",
    "from tqdm import tqdm\n",
    "\n",
    "import torch\n",
    "\n",
    "from sklearn.model_selection import train_test_split\n",
    "from sklearn.preprocessing import StandardScaler\n",
    "\n",
    "import pandas as pd\n",
    "import matplotlib.pyplot as plt\n",
    "\n",
    "from torch.utils.data import Dataset, DataLoader\n",
    "from torchkeras.tabular import TabularPreprocessor, TabularDataset\n",
    "from torchkeras.tabular.models import FTTransformerConfig, FTTransformerModel\n",
    "\n",
    "from sklearn.preprocessing import StandardScaler, OneHotEncoder\n",
    "from sklearn.metrics import accuracy_score, classification_report"
   ]
  },
  {
   "cell_type": "code",
   "execution_count": 2,
   "id": "b12bbfad",
   "metadata": {},
   "outputs": [],
   "source": [
    "np.random.seed(42)\n",
    "train_df = pd.read_csv(\"data/train_df.csv\")"
   ]
  },
  {
   "cell_type": "code",
   "execution_count": 3,
   "id": "f77c27f0",
   "metadata": {},
   "outputs": [
    {
     "data": {
      "text/html": [
       "<div>\n",
       "<style scoped>\n",
       "    .dataframe tbody tr th:only-of-type {\n",
       "        vertical-align: middle;\n",
       "    }\n",
       "\n",
       "    .dataframe tbody tr th {\n",
       "        vertical-align: top;\n",
       "    }\n",
       "\n",
       "    .dataframe thead th {\n",
       "        text-align: right;\n",
       "    }\n",
       "</style>\n",
       "<table border=\"1\" class=\"dataframe\">\n",
       "  <thead>\n",
       "    <tr style=\"text-align: right;\">\n",
       "      <th></th>\n",
       "      <th>age</th>\n",
       "      <th>gender</th>\n",
       "      <th>primary_diagnosis</th>\n",
       "      <th>num_procedures</th>\n",
       "      <th>days_in_hospital</th>\n",
       "      <th>comorbidity_score</th>\n",
       "      <th>discharge_to</th>\n",
       "      <th>readmitted</th>\n",
       "    </tr>\n",
       "  </thead>\n",
       "  <tbody>\n",
       "    <tr>\n",
       "      <th>0</th>\n",
       "      <td>69</td>\n",
       "      <td>Male</td>\n",
       "      <td>Heart Disease</td>\n",
       "      <td>1</td>\n",
       "      <td>2</td>\n",
       "      <td>1</td>\n",
       "      <td>Home Health Care</td>\n",
       "      <td>0</td>\n",
       "    </tr>\n",
       "    <tr>\n",
       "      <th>1</th>\n",
       "      <td>32</td>\n",
       "      <td>Female</td>\n",
       "      <td>COPD</td>\n",
       "      <td>2</td>\n",
       "      <td>13</td>\n",
       "      <td>2</td>\n",
       "      <td>Rehabilitation Facility</td>\n",
       "      <td>0</td>\n",
       "    </tr>\n",
       "    <tr>\n",
       "      <th>2</th>\n",
       "      <td>89</td>\n",
       "      <td>Male</td>\n",
       "      <td>Diabetes</td>\n",
       "      <td>1</td>\n",
       "      <td>7</td>\n",
       "      <td>1</td>\n",
       "      <td>Home</td>\n",
       "      <td>0</td>\n",
       "    </tr>\n",
       "    <tr>\n",
       "      <th>3</th>\n",
       "      <td>78</td>\n",
       "      <td>Male</td>\n",
       "      <td>COPD</td>\n",
       "      <td>9</td>\n",
       "      <td>2</td>\n",
       "      <td>2</td>\n",
       "      <td>Skilled Nursing Facility</td>\n",
       "      <td>0</td>\n",
       "    </tr>\n",
       "    <tr>\n",
       "      <th>4</th>\n",
       "      <td>38</td>\n",
       "      <td>Male</td>\n",
       "      <td>Diabetes</td>\n",
       "      <td>6</td>\n",
       "      <td>4</td>\n",
       "      <td>4</td>\n",
       "      <td>Rehabilitation Facility</td>\n",
       "      <td>0</td>\n",
       "    </tr>\n",
       "  </tbody>\n",
       "</table>\n",
       "</div>"
      ],
      "text/plain": [
       "   age  gender primary_diagnosis  num_procedures  days_in_hospital  \\\n",
       "0   69    Male     Heart Disease               1                 2   \n",
       "1   32  Female              COPD               2                13   \n",
       "2   89    Male          Diabetes               1                 7   \n",
       "3   78    Male              COPD               9                 2   \n",
       "4   38    Male          Diabetes               6                 4   \n",
       "\n",
       "   comorbidity_score              discharge_to  readmitted  \n",
       "0                  1          Home Health Care           0  \n",
       "1                  2   Rehabilitation Facility           0  \n",
       "2                  1                      Home           0  \n",
       "3                  2  Skilled Nursing Facility           0  \n",
       "4                  4   Rehabilitation Facility           0  "
      ]
     },
     "execution_count": 3,
     "metadata": {},
     "output_type": "execute_result"
    }
   ],
   "source": [
    "train_df.head()"
   ]
  },
  {
   "cell_type": "code",
   "execution_count": 4,
   "id": "a6fca9a0",
   "metadata": {},
   "outputs": [],
   "source": [
    "# ----- 數值型與類別型特徵 -----\n",
    "numerical_features = ['age', 'num_procedures', 'days_in_hospital', 'comorbidity_score']\n",
    "categorical_features = ['gender', 'primary_diagnosis', 'discharge_to']\n",
    "target = 'readmitted'"
   ]
  },
  {
   "cell_type": "code",
   "execution_count": 62,
   "id": "7b5f74dd",
   "metadata": {},
   "outputs": [],
   "source": [
    "df = train_df.copy()"
   ]
  },
  {
   "cell_type": "markdown",
   "id": "6c161a5e",
   "metadata": {},
   "source": [
    "# 前處理"
   ]
  },
  {
   "cell_type": "code",
   "execution_count": 8,
   "id": "1f41839f",
   "metadata": {},
   "outputs": [],
   "source": [
    "# 數值標準化\n",
    "scaler = StandardScaler()\n",
    "df[numerical_features] = scaler.fit_transform(df[numerical_features])\n",
    "\n",
    "# 將類別特徵轉為 category 類型\n",
    "for col in categorical_features:\n",
    "    df[col] = df[col].astype('category')\n",
    "\n",
    "df[target] = df[target].astype('category')\n",
    "\n",
    "# 轉成 numpy\n",
    "X_num = df[numerical_features].values.astype(np.float32)\n",
    "X_cat = df[categorical_features].values\n",
    "y = df[target].values.astype(np.int64)\n",
    "\n",
    "# 分割訓練測試資料\n",
    "X_num_train, X_num_test, X_cat_train, X_cat_test, y_train, y_test = train_test_split(\n",
    "    X_num, X_cat, y, test_size=0.2, random_state=42\n",
    ")"
   ]
  },
  {
   "cell_type": "code",
   "execution_count": 63,
   "id": "33bce3fc",
   "metadata": {},
   "outputs": [],
   "source": [
    "# 1. 將數據轉為 DataFrame 格式，因為 TabularPreprocessor 通常需要 DataFrame\n",
    "numerical_columns = [f'num_{i}' for i in range(len(numerical_features))]\n",
    "categorical_columns = [f'cat_{i}' for i in range(len(categorical_features))]\n",
    "\n",
    "train_df_train_csv = pd.DataFrame({\n",
    "    **{f'num_{i}': X_num_train[:, i] for i in range(X_num_train.shape[1])},\n",
    "    **{f'cat_{i}': X_cat_train[:, i] for i in range(X_cat_train.shape[1])},\n",
    "    'target': y_train\n",
    "})\n",
    "\n",
    "test_df_train_csv = pd.DataFrame({\n",
    "    **{f'num_{i}': X_num_test[:, i] for i in range(X_num_test.shape[1])},\n",
    "    **{f'cat_{i}': X_cat_test[:, i] for i in range(X_cat_test.shape[1])},\n",
    "    'target': y_test\n",
    "})"
   ]
  },
  {
   "cell_type": "code",
   "execution_count": 64,
   "id": "82c7de54",
   "metadata": {},
   "outputs": [
    {
     "data": {
      "text/html": [
       "<div>\n",
       "<style scoped>\n",
       "    .dataframe tbody tr th:only-of-type {\n",
       "        vertical-align: middle;\n",
       "    }\n",
       "\n",
       "    .dataframe tbody tr th {\n",
       "        vertical-align: top;\n",
       "    }\n",
       "\n",
       "    .dataframe thead th {\n",
       "        text-align: right;\n",
       "    }\n",
       "</style>\n",
       "<table border=\"1\" class=\"dataframe\">\n",
       "  <thead>\n",
       "    <tr style=\"text-align: right;\">\n",
       "      <th></th>\n",
       "      <th>num_0</th>\n",
       "      <th>num_1</th>\n",
       "      <th>num_2</th>\n",
       "      <th>num_3</th>\n",
       "      <th>cat_0</th>\n",
       "      <th>cat_1</th>\n",
       "      <th>cat_2</th>\n",
       "      <th>target</th>\n",
       "    </tr>\n",
       "  </thead>\n",
       "  <tbody>\n",
       "    <tr>\n",
       "      <th>0</th>\n",
       "      <td>0.954285</td>\n",
       "      <td>0.879834</td>\n",
       "      <td>0.646778</td>\n",
       "      <td>-0.751363</td>\n",
       "      <td>Male</td>\n",
       "      <td>Hypertension</td>\n",
       "      <td>Home Health Care</td>\n",
       "      <td>0</td>\n",
       "    </tr>\n",
       "    <tr>\n",
       "      <th>1</th>\n",
       "      <td>-0.014483</td>\n",
       "      <td>-0.159749</td>\n",
       "      <td>1.143649</td>\n",
       "      <td>-0.048235</td>\n",
       "      <td>Female</td>\n",
       "      <td>COPD</td>\n",
       "      <td>Home Health Care</td>\n",
       "      <td>1</td>\n",
       "    </tr>\n",
       "    <tr>\n",
       "      <th>2</th>\n",
       "      <td>-0.062921</td>\n",
       "      <td>-0.852805</td>\n",
       "      <td>-1.589145</td>\n",
       "      <td>-0.048235</td>\n",
       "      <td>Female</td>\n",
       "      <td>Heart Disease</td>\n",
       "      <td>Home</td>\n",
       "      <td>1</td>\n",
       "    </tr>\n",
       "    <tr>\n",
       "      <th>3</th>\n",
       "      <td>-0.208237</td>\n",
       "      <td>-0.852805</td>\n",
       "      <td>-0.346965</td>\n",
       "      <td>-0.751363</td>\n",
       "      <td>Male</td>\n",
       "      <td>Heart Disease</td>\n",
       "      <td>Home</td>\n",
       "      <td>0</td>\n",
       "    </tr>\n",
       "    <tr>\n",
       "      <th>4</th>\n",
       "      <td>-0.644182</td>\n",
       "      <td>1.572889</td>\n",
       "      <td>-0.346965</td>\n",
       "      <td>0.654894</td>\n",
       "      <td>Male</td>\n",
       "      <td>COPD</td>\n",
       "      <td>Home Health Care</td>\n",
       "      <td>0</td>\n",
       "    </tr>\n",
       "  </tbody>\n",
       "</table>\n",
       "</div>"
      ],
      "text/plain": [
       "      num_0     num_1     num_2     num_3   cat_0          cat_1  \\\n",
       "0  0.954285  0.879834  0.646778 -0.751363    Male   Hypertension   \n",
       "1 -0.014483 -0.159749  1.143649 -0.048235  Female           COPD   \n",
       "2 -0.062921 -0.852805 -1.589145 -0.048235  Female  Heart Disease   \n",
       "3 -0.208237 -0.852805 -0.346965 -0.751363    Male  Heart Disease   \n",
       "4 -0.644182  1.572889 -0.346965  0.654894    Male           COPD   \n",
       "\n",
       "              cat_2  target  \n",
       "0  Home Health Care       0  \n",
       "1  Home Health Care       1  \n",
       "2              Home       1  \n",
       "3              Home       0  \n",
       "4  Home Health Care       0  "
      ]
     },
     "execution_count": 64,
     "metadata": {},
     "output_type": "execute_result"
    }
   ],
   "source": [
    "train_df_train_csv.head()"
   ]
  },
  {
   "cell_type": "code",
   "execution_count": 65,
   "id": "f89935bb",
   "metadata": {},
   "outputs": [
    {
     "name": "stderr",
     "output_type": "stream",
     "text": [
      "100%|██████████| 3/3 [00:00<00:00, 1173.89it/s]\n",
      "c:\\Users\\ShiShiuan\\Desktop\\機器學習與人工智慧實作\\venv\\lib\\site-packages\\sklearn\\pipeline.py:62: FutureWarning: This Pipeline instance is not fitted yet. Call 'fit' with appropriate arguments before using other methods such as transform, predict, etc. This will raise an error in 1.8 instead of the current warning.\n",
      "  warnings.warn(\n",
      "c:\\Users\\ShiShiuan\\Desktop\\機器學習與人工智慧實作\\venv\\lib\\site-packages\\sklearn\\pipeline.py:62: FutureWarning: This Pipeline instance is not fitted yet. Call 'fit' with appropriate arguments before using other methods such as transform, predict, etc. This will raise an error in 1.8 instead of the current warning.\n",
      "  warnings.warn(\n",
      "c:\\Users\\ShiShiuan\\Desktop\\機器學習與人工智慧實作\\venv\\lib\\site-packages\\sklearn\\pipeline.py:62: FutureWarning: This Pipeline instance is not fitted yet. Call 'fit' with appropriate arguments before using other methods such as transform, predict, etc. This will raise an error in 1.8 instead of the current warning.\n",
      "  warnings.warn(\n",
      "c:\\Users\\ShiShiuan\\Desktop\\機器學習與人工智慧實作\\venv\\lib\\site-packages\\sklearn\\pipeline.py:62: FutureWarning: This Pipeline instance is not fitted yet. Call 'fit' with appropriate arguments before using other methods such as transform, predict, etc. This will raise an error in 1.8 instead of the current warning.\n",
      "  warnings.warn(\n"
     ]
    }
   ],
   "source": [
    "train_target_df = train_df_train_csv['target']\n",
    "train_df_train_csv = train_df_train_csv.drop(columns=['target'])\n",
    "test_target_df = test_df_train_csv['target']\n",
    "test_df_train_csv = test_df_train_csv.drop(columns=['target'])\n",
    "\n",
    "# 使用 TabularPreprocessor 進行預處理\n",
    "preprocessor = TabularPreprocessor(\n",
    "    cat_features=categorical_columns,  # 類別特徵\n",
    "    numeric_features=numerical_columns,    # 數值特徵\n",
    "    normalization='standard',           # 數值特徵標準化（可選：'minmax' 或 None）\n",
    "    onehot_max_cat_num=1,\n",
    ")\n",
    "\n",
    "preprocessor.fit(train_df_train_csv)\n",
    "train_df_train_csv_processed = preprocessor.transform(train_df_train_csv)\n",
    "test_df_train_csv_processed = preprocessor.transform(test_df_train_csv)"
   ]
  },
  {
   "cell_type": "code",
   "execution_count": 68,
   "id": "a2c87fe5",
   "metadata": {},
   "outputs": [],
   "source": [
    "train_df_train_csv_processed = train_df_train_csv_processed.loc[:, ~train_df_train_csv_processed.columns.duplicated(keep='last')]\n",
    "test_df_train_csv_processed = test_df_train_csv_processed.loc[:, ~test_df_train_csv_processed.columns.duplicated(keep='last')]\n",
    "\n",
    "numerical_features = preprocessor.get_numeric_features()\n",
    "embedding_features = preprocessor.get_embedding_features()\n"
   ]
  },
  {
   "cell_type": "code",
   "execution_count": 69,
   "id": "fd1bae9e",
   "metadata": {},
   "outputs": [],
   "source": [
    "train_df_train_csv_processed['target'] = train_target_df\n",
    "test_df_train_csv_processed['target'] = test_target_df\n",
    "\n",
    "# === 3. 建立 TabularDataset ===\n",
    "ds_train = TabularDataset(\n",
    "    data=train_df_train_csv_processed,\n",
    "    task='classification',\n",
    "    target=['target'],\n",
    "    continuous_cols=numerical_features,\n",
    "    categorical_cols=embedding_features\n",
    ")\n",
    "\n",
    "ds_test = TabularDataset(\n",
    "    data=test_df_train_csv_processed,\n",
    "    task='classification',\n",
    "    target=['target'],\n",
    "    continuous_cols=numerical_features,\n",
    "    categorical_cols=embedding_features\n",
    ")\n",
    "\n",
    "dl_train = DataLoader(ds_train, batch_size=128, shuffle=False, num_workers=0, pin_memory=False)\n",
    "\n",
    "dl_test = DataLoader(ds_test, batch_size=128, shuffle=False, num_workers=0, pin_memory=False)"
   ]
  },
  {
   "cell_type": "code",
   "execution_count": 82,
   "id": "95104e3a",
   "metadata": {},
   "outputs": [
    {
     "name": "stdout",
     "output_type": "stream",
     "text": [
      "categorical features (cols): ['cat_0', 'cat_1', 'cat_2']\n",
      "categorical features (array): 3\n",
      "numerical features (cols): ['num_0', 'num_1', 'num_2', 'num_3']\n",
      "numerical features (array): 4\n"
     ]
    }
   ],
   "source": [
    "print(\"categorical features (cols):\", embedding_features)\n",
    "print(\"categorical features (array):\", train_df_train_csv_processed[embedding_features].shape[1])\n",
    "\n",
    "print(\"numerical features (cols):\", numerical_features)\n",
    "print(\"numerical features (array):\", train_df_train_csv_processed[numerical_features].shape[1])"
   ]
  },
  {
   "cell_type": "markdown",
   "id": "63dfed82",
   "metadata": {},
   "source": [
    "# 建立模型"
   ]
  },
  {
   "cell_type": "code",
   "execution_count": 72,
   "id": "374fedd0",
   "metadata": {},
   "outputs": [],
   "source": [
    "model_config = FTTransformerConfig(\n",
    "    # ModelConfig 參數\n",
    "    task=\"classification\",  # 二元分類\n",
    "    num_attn_blocks=3,\n",
    ")\n",
    "\n",
    "config = model_config.merge_dataset_config(ds_train)"
   ]
  },
  {
   "cell_type": "code",
   "execution_count": 73,
   "id": "663876c1",
   "metadata": {},
   "outputs": [],
   "source": [
    "# 11. 初始化模型\n",
    "model = FTTransformerModel(config)"
   ]
  },
  {
   "cell_type": "markdown",
   "id": "55c49c02",
   "metadata": {},
   "source": [
    "# 訓練模型"
   ]
  },
  {
   "cell_type": "code",
   "execution_count": 74,
   "id": "7edcb8ec",
   "metadata": {},
   "outputs": [],
   "source": [
    "# 12. 設置優化器和損失函數\n",
    "device = 'cuda' if torch.cuda.is_available() else 'cpu'\n",
    "optimizer = torch.optim.Adam(model.parameters(), lr=1e-3)\n",
    "criterion = torch.nn.CrossEntropyLoss()"
   ]
  },
  {
   "cell_type": "code",
   "execution_count": 75,
   "id": "cdeaefc2",
   "metadata": {},
   "outputs": [
    {
     "name": "stderr",
     "output_type": "stream",
     "text": [
      "                                                                                    "
     ]
    },
    {
     "name": "stdout",
     "output_type": "stream",
     "text": [
      "Test Accuracy: 0.7020\n",
      "\n",
      "Classification Report:\n",
      "              precision    recall  f1-score   support\n",
      "\n",
      "           0       0.82      0.82      0.82       826\n",
      "           1       0.16      0.16      0.16       174\n",
      "\n",
      "    accuracy                           0.70      1000\n",
      "   macro avg       0.49      0.49      0.49      1000\n",
      "weighted avg       0.71      0.70      0.70      1000\n",
      "\n"
     ]
    },
    {
     "name": "stderr",
     "output_type": "stream",
     "text": [
      "\r"
     ]
    }
   ],
   "source": [
    "# 訓練模型\n",
    "def train_model(model: FTTransformerModel, train_loader: DataLoader, criterion: torch.nn.CrossEntropyLoss, optimizer: torch.optim.Adam, num_epochs:int=20, device:str=device):\n",
    "    model.to(device)\n",
    "    model.train()\n",
    "\n",
    "    progress_bar = tqdm(range(num_epochs), leave=False)\n",
    "    for epoch in progress_bar:\n",
    "        total_loss = 0\n",
    "        for batch in train_loader:\n",
    "            numerical = batch['continuous'].to(device)\n",
    "            categorical = batch['categorical'].to(device)\n",
    "            target = batch['target'].to(device).squeeze()\n",
    "            optimizer.zero_grad()\n",
    "            outputs = model({'continuous': numerical, 'categorical': categorical})\n",
    "            logits = outputs['logits']\n",
    "            loss = criterion(logits, target)\n",
    "            loss.backward()\n",
    "            optimizer.step()\n",
    "            total_loss += loss.item()\n",
    "        \n",
    "        progress_bar.set_description(f\"Epoch {epoch+1}/{num_epochs} | Avg. Loss: {total_loss/len(train_loader):.4f}\")\n",
    "    \n",
    "    # 儲存模型（建議用 .pt 或 .pth）\n",
    "    torch.save(model.state_dict(), 'ft_transformer_model.pth')\n",
    "\n",
    "\n",
    "# 16. 評估模型\n",
    "def evaluate_model(model, test_loader, device=device):\n",
    "    model.eval()\n",
    "    predictions = []\n",
    "    true_labels = []\n",
    "    with torch.no_grad():\n",
    "        for batch in test_loader:\n",
    "            numerical = batch['continuous'].to(device)\n",
    "            categorical = batch['categorical'].to(device)\n",
    "            target = batch['target'].to(device).squeeze()\n",
    "            outputs = model({'continuous': numerical, 'categorical': categorical})\n",
    "            _, preds = torch.max(outputs['logits'], dim=1)\n",
    "            predictions.extend(preds.cpu().numpy())\n",
    "            true_labels.extend(target.cpu().numpy())\n",
    "    accuracy = accuracy_score(true_labels, predictions)\n",
    "    print(f'Test Accuracy: {accuracy:.4f}')\n",
    "    print('\\nClassification Report:')\n",
    "    print(classification_report(true_labels, predictions))\n",
    "\n",
    "# 17. 執行訓練和評估\n",
    "train_model(model, dl_train, criterion, optimizer, num_epochs=100)\n",
    "evaluate_model(model, dl_test)"
   ]
  },
  {
   "cell_type": "markdown",
   "id": "6d99d81c",
   "metadata": {},
   "source": [
    "# 測試集"
   ]
  },
  {
   "cell_type": "code",
   "execution_count": 76,
   "id": "e4be0b85",
   "metadata": {},
   "outputs": [],
   "source": [
    "test_df_test_csv = pd.read_csv(\"data/test_df.csv\")\n",
    "\n",
    "test_numerical_features = ['age', 'num_procedures', 'days_in_hospital', 'comorbidity_score']\n",
    "test_categorical_features = ['gender', 'primary_diagnosis', 'discharge_to']\n",
    "\n",
    "# 將類別特徵轉為 category 類型\n",
    "for col in test_categorical_features:\n",
    "    test_df_test_csv[col] = test_df_test_csv[col].astype('category')"
   ]
  },
  {
   "cell_type": "code",
   "execution_count": 77,
   "id": "e44ce663",
   "metadata": {},
   "outputs": [],
   "source": [
    "X_num_test_csv = test_df_test_csv[test_numerical_features].values.astype(np.float32)\n",
    "X_cat_test_csv = test_df_test_csv[test_categorical_features].values"
   ]
  },
  {
   "cell_type": "code",
   "execution_count": 78,
   "id": "0d48fd83",
   "metadata": {},
   "outputs": [],
   "source": [
    "test_df_test_csv = pd.DataFrame({\n",
    "    **{f'num_{i}': X_num_test_csv[:, i] for i in range(X_num_test_csv.shape[1])},\n",
    "    **{f'cat_{i}': X_cat_test_csv[:, i] for i in range(X_cat_test_csv.shape[1])},\n",
    "})"
   ]
  },
  {
   "cell_type": "code",
   "execution_count": 90,
   "id": "a2b56c7c",
   "metadata": {},
   "outputs": [
    {
     "data": {
      "text/plain": [
       "2000"
      ]
     },
     "execution_count": 90,
     "metadata": {},
     "output_type": "execute_result"
    }
   ],
   "source": [
    "len(test_df_test_csv)"
   ]
  },
  {
   "cell_type": "code",
   "execution_count": 84,
   "id": "99d16e9a",
   "metadata": {},
   "outputs": [
    {
     "name": "stderr",
     "output_type": "stream",
     "text": [
      "c:\\Users\\ShiShiuan\\Desktop\\機器學習與人工智慧實作\\venv\\lib\\site-packages\\sklearn\\pipeline.py:62: FutureWarning: This Pipeline instance is not fitted yet. Call 'fit' with appropriate arguments before using other methods such as transform, predict, etc. This will raise an error in 1.8 instead of the current warning.\n",
      "  warnings.warn(\n",
      "c:\\Users\\ShiShiuan\\Desktop\\機器學習與人工智慧實作\\venv\\lib\\site-packages\\sklearn\\pipeline.py:62: FutureWarning: This Pipeline instance is not fitted yet. Call 'fit' with appropriate arguments before using other methods such as transform, predict, etc. This will raise an error in 1.8 instead of the current warning.\n",
      "  warnings.warn(\n"
     ]
    }
   ],
   "source": [
    "test_df_test_csv_processed = preprocessor.transform(test_df_test_csv)\n",
    "test_df_test_csv_processed = test_df_test_csv_processed.loc[:, ~test_df_test_csv_processed.columns.duplicated(keep='last')]\n",
    "\n",
    "ds_test_test_csv = TabularDataset(\n",
    "    data=test_df_test_csv_processed,\n",
    "    task='classification',\n",
    "    continuous_cols=numerical_features,\n",
    "    categorical_cols=embedding_features\n",
    ")\n",
    "\n",
    "dl_test_test_csv = DataLoader(ds_test_test_csv, batch_size=128, shuffle=False, num_workers=0, pin_memory=False)"
   ]
  },
  {
   "cell_type": "code",
   "execution_count": 85,
   "id": "47d2af78",
   "metadata": {},
   "outputs": [
    {
     "name": "stdout",
     "output_type": "stream",
     "text": [
      "categorical features (cols): ['cat_0', 'cat_1', 'cat_2']\n",
      "categorical features (array): 3\n",
      "numerical features (cols): ['num_0', 'num_1', 'num_2', 'num_3']\n",
      "numerical features (array): 4\n"
     ]
    }
   ],
   "source": [
    "print(\"categorical features (cols):\", embedding_features)\n",
    "print(\"categorical features (array):\", test_df_test_csv_processed[embedding_features].shape[1])\n",
    "\n",
    "print(\"numerical features (cols):\", numerical_features)\n",
    "print(\"numerical features (array):\", test_df_test_csv_processed[numerical_features].shape[1])"
   ]
  },
  {
   "cell_type": "code",
   "execution_count": 101,
   "id": "c66e04c0",
   "metadata": {},
   "outputs": [
    {
     "name": "stderr",
     "output_type": "stream",
     "text": [
      "C:\\Users\\ShiShiuan\\AppData\\Local\\Temp\\ipykernel_20464\\4276438963.py:8: FutureWarning: You are using `torch.load` with `weights_only=False` (the current default value), which uses the default pickle module implicitly. It is possible to construct malicious pickle data which will execute arbitrary code during unpickling (See https://github.com/pytorch/pytorch/blob/main/SECURITY.md#untrusted-models for more details). In a future release, the default value for `weights_only` will be flipped to `True`. This limits the functions that could be executed during unpickling. Arbitrary objects will no longer be allowed to be loaded via this mode unless they are explicitly allowlisted by the user via `torch.serialization.add_safe_globals`. We recommend you start setting `weights_only=True` for any use case where you don't have full control of the loaded file. Please open an issue on GitHub for any issues related to this experimental feature.\n",
      "  model.load_state_dict(torch.load(\"ft_transformer_model.pth\"))\n"
     ]
    }
   ],
   "source": [
    "# 12. 設置優化器和損失函數\n",
    "device = 'cuda' if torch.cuda.is_available() else 'cpu'\n",
    "optimizer = torch.optim.Adam(model.parameters(), lr=1e-3)\n",
    "criterion = torch.nn.CrossEntropyLoss()\n",
    "\n",
    "# 初始化模型\n",
    "model = FTTransformerModel(config=config)\n",
    "model.load_state_dict(torch.load(\"ft_transformer_model.pth\"))\n",
    "model.to(device)\n",
    "\n",
    "predictions = []\n",
    "true_labels = []\n",
    "# evaluation mode\n",
    "model.eval()\n",
    "with torch.no_grad():\n",
    "    for batch in dl_test_test_csv:\n",
    "        numerical = batch['continuous'].to(device)\n",
    "        categorical = batch['categorical'].to(device)\n",
    "        outputs = model({'continuous': numerical, 'categorical': categorical})\n",
    "        _, preds = torch.max(outputs['logits'], dim=1)\n",
    "        predictions.extend(preds.cpu().numpy())\n",
    "\n",
    "submission_df = pd.DataFrame({\n",
    "    \"Patient_ID\": range(1, len(predictions)+1),\n",
    "    \"readmitted\": predictions\n",
    "})\n",
    "\n",
    "submission_df.to_csv(path_or_buf='data/submission_df.csv', index=False)\n"
   ]
  },
  {
   "cell_type": "code",
   "execution_count": 17,
   "id": "19bccfd6",
   "metadata": {},
   "outputs": [
    {
     "data": {
      "image/png": "[encoded data removed]",
      "text/plain": [
       "<Figure size 1000x600 with 1 Axes>"
      ]
     },
     "metadata": {},
     "output_type": "display_data"
    }
   ],
   "source": [
    "plt.figure(figsize=(10, 6))\n",
    "plt.hist(train_df['days_in_hospital'], bins=30, color='skyblue')\n",
    "plt.title('Distribution of Days in Hospital')\n",
    "plt.xlabel('Days in Hospital')\n",
    "plt.ylabel('Count')\n",
    "plt.grid(True)\n",
    "plt.show()"
   ]
  },
  {
   "cell_type": "code",
   "execution_count": 18,
   "id": "374073e7",
   "metadata": {},
   "outputs": [
    {
     "data": {
      "text/html": [
       "<div>\n",
       "<style scoped>\n",
       "    .dataframe tbody tr th:only-of-type {\n",
       "        vertical-align: middle;\n",
       "    }\n",
       "\n",
       "    .dataframe tbody tr th {\n",
       "        vertical-align: top;\n",
       "    }\n",
       "\n",
       "    .dataframe thead th {\n",
       "        text-align: right;\n",
       "    }\n",
       "</style>\n",
       "<table border=\"1\" class=\"dataframe\">\n",
       "  <thead>\n",
       "    <tr style=\"text-align: right;\">\n",
       "      <th></th>\n",
       "      <th>age</th>\n",
       "      <th>num_procedures</th>\n",
       "      <th>days_in_hospital</th>\n",
       "      <th>comorbidity_score</th>\n",
       "      <th>readmitted</th>\n",
       "    </tr>\n",
       "  </thead>\n",
       "  <tbody>\n",
       "    <tr>\n",
       "      <th>count</th>\n",
       "      <td>5000.000000</td>\n",
       "      <td>5000.00000</td>\n",
       "      <td>5000.000000</td>\n",
       "      <td>5000.000000</td>\n",
       "      <td>5000.000000</td>\n",
       "    </tr>\n",
       "    <tr>\n",
       "      <th>mean</th>\n",
       "      <td>53.299000</td>\n",
       "      <td>4.46100</td>\n",
       "      <td>7.396600</td>\n",
       "      <td>2.068600</td>\n",
       "      <td>0.188000</td>\n",
       "    </tr>\n",
       "    <tr>\n",
       "      <th>std</th>\n",
       "      <td>20.646851</td>\n",
       "      <td>2.88606</td>\n",
       "      <td>4.025587</td>\n",
       "      <td>1.422357</td>\n",
       "      <td>0.390751</td>\n",
       "    </tr>\n",
       "    <tr>\n",
       "      <th>min</th>\n",
       "      <td>18.000000</td>\n",
       "      <td>0.00000</td>\n",
       "      <td>1.000000</td>\n",
       "      <td>0.000000</td>\n",
       "      <td>0.000000</td>\n",
       "    </tr>\n",
       "    <tr>\n",
       "      <th>25%</th>\n",
       "      <td>36.000000</td>\n",
       "      <td>2.00000</td>\n",
       "      <td>4.000000</td>\n",
       "      <td>1.000000</td>\n",
       "      <td>0.000000</td>\n",
       "    </tr>\n",
       "    <tr>\n",
       "      <th>50%</th>\n",
       "      <td>53.000000</td>\n",
       "      <td>4.00000</td>\n",
       "      <td>7.000000</td>\n",
       "      <td>2.000000</td>\n",
       "      <td>0.000000</td>\n",
       "    </tr>\n",
       "    <tr>\n",
       "      <th>75%</th>\n",
       "      <td>71.000000</td>\n",
       "      <td>7.00000</td>\n",
       "      <td>11.000000</td>\n",
       "      <td>3.000000</td>\n",
       "      <td>0.000000</td>\n",
       "    </tr>\n",
       "    <tr>\n",
       "      <th>max</th>\n",
       "      <td>89.000000</td>\n",
       "      <td>9.00000</td>\n",
       "      <td>14.000000</td>\n",
       "      <td>4.000000</td>\n",
       "      <td>1.000000</td>\n",
       "    </tr>\n",
       "  </tbody>\n",
       "</table>\n",
       "</div>"
      ],
      "text/plain": [
       "               age  num_procedures  days_in_hospital  comorbidity_score  \\\n",
       "count  5000.000000      5000.00000       5000.000000        5000.000000   \n",
       "mean     53.299000         4.46100          7.396600           2.068600   \n",
       "std      20.646851         2.88606          4.025587           1.422357   \n",
       "min      18.000000         0.00000          1.000000           0.000000   \n",
       "25%      36.000000         2.00000          4.000000           1.000000   \n",
       "50%      53.000000         4.00000          7.000000           2.000000   \n",
       "75%      71.000000         7.00000         11.000000           3.000000   \n",
       "max      89.000000         9.00000         14.000000           4.000000   \n",
       "\n",
       "        readmitted  \n",
       "count  5000.000000  \n",
       "mean      0.188000  \n",
       "std       0.390751  \n",
       "min       0.000000  \n",
       "25%       0.000000  \n",
       "50%       0.000000  \n",
       "75%       0.000000  \n",
       "max       1.000000  "
      ]
     },
     "execution_count": 18,
     "metadata": {},
     "output_type": "execute_result"
    }
   ],
   "source": [
    "train_df.describe()"
   ]
  },
  {
   "cell_type": "code",
   "execution_count": 24,
   "id": "061a170b",
   "metadata": {},
   "outputs": [],
   "source": [
    "y_columns = ['readmitted']\n",
    "y = train_df[y_columns]\n",
    "\n",
    "X_columns = train_df.columns.difference(y_columns)\n",
    "X= train_df[X_columns]\n",
    "\n",
    "# 假設 train_df 是原始 DataFrame（含 X, y）\n",
    "# 分出數值型與類別型欄位\n",
    "numeric_cols = X.select_dtypes(include=['int64', 'float64']).columns\n",
    "categorical_cols = X.select_dtypes(include=['object', 'category']).columns"
   ]
  },
  {
   "cell_type": "code",
   "execution_count": 25,
   "id": "66ac764d",
   "metadata": {},
   "outputs": [
    {
     "name": "stderr",
     "output_type": "stream",
     "text": [
      "/Users/hank.tsai/Downloads/archive/venv/lib/python3.11/site-packages/sklearn/utils/validation.py:1408: DataConversionWarning: A column-vector y was passed when a 1d array was expected. Please change the shape of y to (n_samples, ), for example using ravel().\n",
      "  y = column_or_1d(y, warn=True)\n"
     ]
    }
   ],
   "source": [
    "from sklearn.feature_selection import SelectKBest, f_classif, chi2\n",
    "from sklearn.preprocessing import MinMaxScaler\n",
    "\n",
    "# 處理數值型欄位\n",
    "X_num = X[numeric_cols]\n",
    "selector_num = SelectKBest(score_func=f_classif, k='all')\n",
    "selector_num.fit(X_num, y)\n",
    "scores_num = pd.Series(selector_num.scores_, index=numeric_cols)\n",
    "\n",
    "# 處理類別型欄位（先 one-hot）\n",
    "X_cat = pd.get_dummies(X[categorical_cols], drop_first=True)\n",
    "# chi2 要求所有值為非負，因此要先做 MinMaxScaler\n",
    "X_cat_scaled = MinMaxScaler().fit_transform(X_cat)\n",
    "selector_cat = SelectKBest(score_func=chi2, k='all')\n",
    "selector_cat.fit(X_cat_scaled, y)\n",
    "scores_cat = pd.Series(selector_cat.scores_, index=X_cat.columns)"
   ]
  },
  {
   "cell_type": "code",
   "execution_count": 29,
   "id": "5833c91e",
   "metadata": {},
   "outputs": [
    {
     "data": {
      "text/plain": [
       "age                  0.012958\n",
       "comorbidity_score    0.007859\n",
       "days_in_hospital     0.476848\n",
       "num_procedures       0.037006\n",
       "dtype: float64"
      ]
     },
     "execution_count": 29,
     "metadata": {},
     "output_type": "execute_result"
    }
   ],
   "source": [
    "scores_num"
   ]
  },
  {
   "cell_type": "code",
   "execution_count": 30,
   "id": "07ac9e94",
   "metadata": {},
   "outputs": [
    {
     "data": {
      "text/plain": [
       "discharge_to_Home Health Care            0.259213\n",
       "discharge_to_Rehabilitation Facility     0.063931\n",
       "discharge_to_Skilled Nursing Facility    1.626527\n",
       "gender_Male                              0.628461\n",
       "primary_diagnosis_Diabetes               0.298190\n",
       "primary_diagnosis_Heart Disease          0.218989\n",
       "primary_diagnosis_Hypertension           0.651709\n",
       "primary_diagnosis_Kidney Disease         0.825426\n",
       "dtype: float64"
      ]
     },
     "execution_count": 30,
     "metadata": {},
     "output_type": "execute_result"
    }
   ],
   "source": [
    "scores_cat"
   ]
  },
  {
   "cell_type": "code",
   "execution_count": 27,
   "id": "8767a546",
   "metadata": {},
   "outputs": [],
   "source": [
    "# 合併所有欄位分數\n",
    "all_scores = pd.concat([scores_num, scores_cat])\n",
    "top_features = all_scores.sort_values(ascending=False).head(10).index.tolist()\n",
    "\n",
    "# 選擇 top 特徵\n",
    "X_selected = pd.concat([X_num, X_cat], axis=1)[top_features]"
   ]
  }
 ],
 "metadata": {
  "kernelspec": {
   "display_name": "venv",
   "language": "python",
   "name": "python3"
  },
  "language_info": {
   "codemirror_mode": {
    "name": "ipython",
    "version": 3
   },
   "file_extension": ".py",
   "mimetype": "text/x-python",
   "name": "python",
   "nbconvert_exporter": "python",
   "pygments_lexer": "ipython3",
   "version": "3.11.3"
  }
 },
 "nbformat": 4,
 "nbformat_minor": 5
}
